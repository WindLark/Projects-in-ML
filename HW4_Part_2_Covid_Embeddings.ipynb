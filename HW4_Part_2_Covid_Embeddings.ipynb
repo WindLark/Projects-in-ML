{
  "nbformat": 4,
  "nbformat_minor": 0,
  "metadata": {
    "colab": {
      "provenance": []
    },
    "kernelspec": {
      "name": "python3",
      "display_name": "Python 3"
    },
    "language_info": {
      "name": "python"
    }
  },
  "cells": [
    {
      "cell_type": "markdown",
      "source": [
        "#Introduction\n",
        "\n",
        "[Colab Notebook Link](https://colab.research.google.com/drive/1WC1pB5j5ZA7h92SqqFmBB8jUZH5qgdO9?usp=sharing)\n",
        "\n",
        "In this part of the homework, cosine similarity and a dissimilarity metric was implemented to measure the similarity and dissimilarity of word embeddings. Ideally, this could be used for scenarios like detecting the likelihood of a disease like COVID being present in a patient based on their medical report. "
      ],
      "metadata": {
        "id": "f_5XlxqNu97y"
      }
    },
    {
      "cell_type": "markdown",
      "source": [
        "#Setup Code\n",
        "\n",
        "We will use the COVID-19 Word Embeddings provided by Tensorflow and Keras as seen in https://www.tensorflow.org/hub/tutorials/cord_19_embeddings_keras\n",
        "\n",
        "This was referenced via Lecture 8 at\n",
        "https://github.com/Uzmamushtaque/CSCI4962-Projects-ML-AI/blob/main/Lecture_8.ipynb"
      ],
      "metadata": {
        "id": "B4bsMqwmONWC"
      }
    },
    {
      "cell_type": "code",
      "execution_count": 67,
      "metadata": {
        "id": "YZjF8uosv6EY"
      },
      "outputs": [],
      "source": [
        "import numpy as np\n",
        "from numpy.linalg import norm\n",
        "import pandas as pd\n",
        "\n",
        "import tensorflow as tf\n",
        "\n",
        "import tensorflow_datasets as tfds\n",
        "import tensorflow_hub as hub"
      ]
    },
    {
      "cell_type": "code",
      "source": [
        "module = hub.load('https://tfhub.dev/tensorflow/cord-19/swivel-128d/3')\n",
        "embeddings = module(queries)"
      ],
      "metadata": {
        "id": "AhCsx1ldNOOq"
      },
      "execution_count": 68,
      "outputs": []
    },
    {
      "cell_type": "code",
      "source": [
        "print(embeddings.get_shape().as_list())"
      ],
      "metadata": {
        "colab": {
          "base_uri": "https://localhost:8080/"
        },
        "id": "IrcD9a6fOLGJ",
        "outputId": "0c0edfab-7427-480a-9b2f-ee064b86157a"
      },
      "execution_count": 69,
      "outputs": [
        {
          "output_type": "stream",
          "name": "stdout",
          "text": [
            "[9, 128]\n"
          ]
        }
      ]
    },
    {
      "cell_type": "code",
      "source": [
        "print(embeddings)"
      ],
      "metadata": {
        "colab": {
          "base_uri": "https://localhost:8080/"
        },
        "id": "MZcgeUBnQWZy",
        "outputId": "5b8eb4c1-349a-4f2f-968a-ba8245f0a4ec"
      },
      "execution_count": 70,
      "outputs": [
        {
          "output_type": "stream",
          "name": "stdout",
          "text": [
            "tf.Tensor(\n",
            "[[-0.47197425 -0.33664635 -0.0161463  ...  0.26368123  0.05248641\n",
            "   0.14978611]\n",
            " [-0.9464257  -0.5886067   0.01101076 ...  0.17479871 -0.11735114\n",
            "   0.11467868]\n",
            " [-0.6674375  -0.24282083 -0.22304116 ... -0.1180256   0.03881054\n",
            "   0.23996338]\n",
            " ...\n",
            " [-0.25398737 -0.28904256 -0.25699255 ...  0.00661578 -0.21710789\n",
            "  -0.02514506]\n",
            " [-0.3953484  -0.00334413  0.2994688  ... -0.3633064   0.29915136\n",
            "   0.47241527]\n",
            " [ 0.02567826 -0.28097168 -0.02309187 ... -0.19157878  0.3810111\n",
            "  -0.5676846 ]], shape=(9, 128), dtype=float64)\n"
          ]
        }
      ]
    },
    {
      "cell_type": "code",
      "source": [
        "#preliminary test for \n",
        "single_embedding = module([\"coronavirus\"])\n",
        "single_embedding2 = module([\"sick\"])"
      ],
      "metadata": {
        "id": "V99f0dpHRgdi"
      },
      "execution_count": 71,
      "outputs": []
    },
    {
      "cell_type": "code",
      "source": [
        "print(embeddings.get_shape().as_list())"
      ],
      "metadata": {
        "colab": {
          "base_uri": "https://localhost:8080/"
        },
        "id": "8zCaqBmPRo7b",
        "outputId": "9b801b02-96a6-46ca-f47a-5ceaad196687"
      },
      "execution_count": 72,
      "outputs": [
        {
          "output_type": "stream",
          "name": "stdout",
          "text": [
            "[9, 128]\n"
          ]
        }
      ]
    },
    {
      "cell_type": "code",
      "source": [
        "se_np = single_embedding.numpy()\n",
        "print(se_np)"
      ],
      "metadata": {
        "colab": {
          "base_uri": "https://localhost:8080/"
        },
        "id": "SG6MlZthSgfq",
        "outputId": "9f99944b-17d1-4865-c909-1f3519841780"
      },
      "execution_count": 73,
      "outputs": [
        {
          "output_type": "stream",
          "name": "stdout",
          "text": [
            "[[-0.47197425 -0.33664635 -0.0161463  -0.20361769 -0.09667411  0.0999501\n",
            "   0.16814792  0.08613649  0.25580052 -0.41777578  0.1589236   0.04924057\n",
            "  -0.13339666 -0.41559076 -0.5020608  -0.3879442  -0.1449616   0.2236112\n",
            "   0.1604103   0.02024477  0.21716478  1.3675784  -0.3759036   0.29201704\n",
            "  -0.249948   -0.13364193  0.02869424 -0.08525381 -0.08422393  0.04434494\n",
            "   0.46645662 -0.18982655 -0.06655415 -0.08425294  0.25412214  0.25736067\n",
            "   0.17924756 -0.09944166  0.3524065   0.17569394  0.12211543 -0.05792318\n",
            "   0.17645526  0.00318342  0.1335713  -0.14243527 -0.16918755  0.172651\n",
            "  -0.22125176  0.18151772 -0.34897557 -0.07565673 -0.3123699   0.14559059\n",
            "  -0.3429669   0.1311255   0.17742424 -0.01907614 -0.08728905 -0.38009694\n",
            "   0.01538454  0.08928897  0.07758309  0.24075277 -0.5705643   0.05707884\n",
            "  -0.10113283  0.19736579  0.24092886  0.8095957  -0.54002225 -0.11051869\n",
            "  -0.03872953 -0.1940451  -1.1387123   0.21548632 -0.06138964 -0.1710748\n",
            "  -0.19030465 -0.0698685  -0.10987974 -0.12235683  0.11146238 -0.10049363\n",
            "  -0.02637172 -0.12202723 -0.09912252 -0.40231988  0.05113961 -0.3002143\n",
            "  -0.43021166 -0.10628052  0.21046922 -0.12077443  0.0195606   0.02539618\n",
            "  -0.15194336  0.42155862  0.08023177  0.33759546 -0.29317084  0.22696954\n",
            "  -0.42023602 -0.24329636  0.02997644 -0.02180033  0.2428016  -0.4369362\n",
            "  -0.2898971   0.01117765  0.33362818  0.21381825  0.12934822  0.24091941\n",
            "   0.08190988 -0.70757097 -0.43967432  0.08222637  0.22928497 -0.04622746\n",
            "  -0.44481313  0.0439119   0.15502298  0.281086   -0.10079704  0.26368123\n",
            "   0.05248641  0.14978611]]\n"
          ]
        }
      ]
    },
    {
      "cell_type": "code",
      "source": [
        "se_np2 = single_embedding2.numpy()\n",
        "print(se_np2)"
      ],
      "metadata": {
        "colab": {
          "base_uri": "https://localhost:8080/"
        },
        "id": "KxrCGfbrTVgz",
        "outputId": "11946651-7cf5-4bcb-9c3d-84f9864ea86d"
      },
      "execution_count": 74,
      "outputs": [
        {
          "output_type": "stream",
          "name": "stdout",
          "text": [
            "[[-0.03786096  0.41188627  0.21214679  0.21037325  0.28856608  0.14548205\n",
            "   0.07558599 -0.2471419   0.13063702 -0.19849044 -0.2492039   0.3172877\n",
            "  -0.46355227 -0.07040227 -0.0125507  -0.3099569  -0.09413338  0.0993289\n",
            "   0.05264906  0.00647391  0.03397061 -0.66954565  0.13366504  0.17451647\n",
            "  -0.45237887  0.13276652 -0.08639037 -0.66040087  0.2032552   0.1887481\n",
            "  -0.15657339 -0.42457747  0.21376255 -0.02942701  0.004192   -0.17389831\n",
            "  -0.1890726  -0.12050067  0.3550312   0.25426802 -0.10110611 -0.08281083\n",
            "   0.532275   -0.23962778  0.43648535 -0.11170966  0.08970647 -0.05854528\n",
            "  -0.23372138 -0.25665388 -0.11999303 -0.08714675  0.11556793  0.21268952\n",
            "  -0.07424636  0.29746944  0.10880441 -0.01634128  0.12117627  0.07347861\n",
            "  -0.25201792 -0.3749179   0.03636371  0.02347431  0.50819546  0.0843392\n",
            "  -0.00735214  0.13006946  0.18798718  1.1503567   0.16891414  0.03991701\n",
            "   0.10986429 -0.14725992 -0.7261987  -0.10976892  0.28582814  0.17468375\n",
            "   0.00894413  0.27563784  0.10947332 -0.13297968  0.05789733 -0.09999623\n",
            "   0.06024928 -0.06297346 -0.22709316 -0.16737059 -0.08009403  0.26525423\n",
            "   0.24963905  0.01906925 -0.10422903  0.07513501  0.2916077  -0.11361939\n",
            "   0.00651265  0.12444836  0.18265043 -0.2852541   0.12789516  0.40616328\n",
            "   0.12511915  0.18985994  0.3787929   0.04827736  0.29211953 -0.19371787\n",
            "  -0.11542605 -0.10464097 -0.00692871 -0.3469002  -0.6855188   0.13085283\n",
            "   0.00210811 -0.31930065  0.23783883 -0.19724676  0.24993649 -0.27326843\n",
            "   0.09139807 -0.05999661 -0.12826575 -0.06006027 -0.01138987 -0.09867458\n",
            "   0.21465302  0.10925227]]\n"
          ]
        }
      ]
    },
    {
      "cell_type": "markdown",
      "source": [
        "Cosine Similarity = A dot B / (norm of A * norm of B)\n",
        "\n"
      ],
      "metadata": {
        "id": "7jleSi9jS4X6"
      }
    },
    {
      "cell_type": "code",
      "source": [
        "#closer score is to 1, more similar it is\n",
        "def cosine_sim(a,b):\n",
        "  return np.dot(a,b) / (norm(a)*norm(b))"
      ],
      "metadata": {
        "id": "wRI6NgD4SiTi"
      },
      "execution_count": 75,
      "outputs": []
    },
    {
      "cell_type": "code",
      "source": [
        "cosine_sim(se_np,se_np2.T)[0][0]"
      ],
      "metadata": {
        "colab": {
          "base_uri": "https://localhost:8080/"
        },
        "id": "FJFvCOBycEBx",
        "outputId": "140a41ab-fa78-4d80-bbab-852c8e42247e"
      },
      "execution_count": 76,
      "outputs": [
        {
          "output_type": "execute_result",
          "data": {
            "text/plain": [
              "0.11097815389511213"
            ]
          },
          "metadata": {},
          "execution_count": 76
        }
      ]
    },
    {
      "cell_type": "code",
      "source": [
        "def query_word(word):\n",
        "  module_qw = hub.load('https://tfhub.dev/tensorflow/cord-19/swivel-128d/3')\n",
        "  embeddings_qw = module([word])\n",
        "  return embeddings_qw.numpy()[0]\n"
      ],
      "metadata": {
        "id": "dm559WQYf9BZ"
      },
      "execution_count": 77,
      "outputs": []
    },
    {
      "cell_type": "code",
      "source": [
        "query_word(\"COVID\")"
      ],
      "metadata": {
        "colab": {
          "base_uri": "https://localhost:8080/"
        },
        "id": "QiIxgSnPgV3K",
        "outputId": "275f0ee6-9946-42d2-f86a-8b85ec7357d1"
      },
      "execution_count": 78,
      "outputs": [
        {
          "output_type": "execute_result",
          "data": {
            "text/plain": [
              "array([-0.07893691, -0.84426206, -0.17797703, -0.33199316, -0.10179356,\n",
              "        0.03715919, -0.23468351, -0.24482557, -0.02832239, -0.9027776 ,\n",
              "       -0.22809282, -0.15733978, -0.4170667 ,  0.33589268,  0.25243297,\n",
              "       -0.488037  , -0.01950541,  0.13705918,  0.00686291, -0.42542958,\n",
              "        0.04271523, -0.3328992 , -0.303064  ,  0.1326254 , -0.17635414,\n",
              "       -0.47369516, -0.10909307,  0.29479495,  0.00944898, -0.39672956,\n",
              "        0.62460935,  0.07306614, -0.65731996,  0.3820488 , -0.14344929,\n",
              "        0.01758205,  0.44644693,  0.70899796, -0.41327083,  0.23386273,\n",
              "        0.9168475 , -0.179509  ,  0.15637589,  0.35650754,  0.1834853 ,\n",
              "       -0.7329489 , -0.45997468,  0.20471582,  0.2629488 ,  0.1924147 ,\n",
              "       -0.3271179 , -0.07381116,  0.19613439,  0.31000704,  0.45095775,\n",
              "       -0.12058749, -0.29184896, -0.28959337,  0.00393923, -0.06627241,\n",
              "        0.19456702, -0.4565516 , -0.7398012 ,  0.17144641,  0.09728805,\n",
              "        0.03855183, -0.3078341 ,  0.0915118 ,  0.1244176 ,  2.1599765 ,\n",
              "        0.2967551 ,  0.13546976, -0.17918769, -0.08792148, -0.47826058,\n",
              "       -0.33028975,  0.26588705, -0.8965664 , -0.14341868, -0.25222588,\n",
              "       -0.01976564, -0.49979368,  0.07864682, -0.476641  , -0.26947716,\n",
              "        0.30488342,  0.9365154 ,  0.06393958, -0.13294137, -0.11577502,\n",
              "        0.13445333, -0.3053968 ,  0.1051048 , -0.30430374, -0.24040079,\n",
              "        0.46590227, -0.13502857,  0.4150843 ,  0.2933244 , -0.2458279 ,\n",
              "       -0.6239793 ,  0.0321013 , -0.08333582, -0.19709155,  0.4434357 ,\n",
              "        0.05234118, -0.20818824, -0.6337433 ,  0.5009792 , -0.4581068 ,\n",
              "        0.42529726,  0.14295629, -0.4867926 ,  0.14274406, -0.05180521,\n",
              "       -0.03826015, -0.18753043,  0.31091768, -0.09073609, -0.34851626,\n",
              "       -0.10880864, -0.05903391, -0.3249207 , -0.29149067, -0.55729914,\n",
              "       -0.19099015,  0.08436346,  0.30921775])"
            ]
          },
          "metadata": {},
          "execution_count": 78
        }
      ]
    },
    {
      "cell_type": "code",
      "source": [
        "query_word(\"Coronavirus\")"
      ],
      "metadata": {
        "colab": {
          "base_uri": "https://localhost:8080/"
        },
        "id": "8qcYHUo6gaSh",
        "outputId": "292d768c-2d57-44bc-b969-2e974c0e1692"
      },
      "execution_count": 79,
      "outputs": [
        {
          "output_type": "execute_result",
          "data": {
            "text/plain": [
              "array([-0.43641675, -0.58570874, -0.03159469,  0.02783273, -0.3453937 ,\n",
              "       -0.19565678,  0.17670918, -0.13008611,  0.11136445, -0.19470885,\n",
              "        0.06490666,  0.09060626, -0.47316647, -0.09063513,  0.05985916,\n",
              "       -0.38905844, -0.18295151,  0.43953878,  0.15617532,  0.14274383,\n",
              "        0.10613035,  1.1713923 , -0.23227891,  0.4581485 , -0.22382572,\n",
              "        0.21189542, -0.18788725, -0.23981364, -0.27315247,  0.10085894,\n",
              "        0.6325786 , -0.2737549 , -0.25355387,  0.09503996,  0.08208735,\n",
              "        0.3652776 ,  0.26735675,  0.17778966,  0.2164811 ,  0.12169449,\n",
              "        0.10741422,  0.08151668, -0.45908672, -0.42137375, -0.07021946,\n",
              "        0.06885307, -0.4925379 ,  0.13148345, -0.16676837,  0.23670691,\n",
              "       -0.33426556, -0.29625368, -0.25981098,  0.1682624 , -0.19043106,\n",
              "        0.305021  ,  0.20358385,  0.14797693, -0.12732872, -0.43301624,\n",
              "        0.32175058, -0.175613  , -0.13813487,  0.00160287,  0.15779684,\n",
              "        0.24664287, -0.05768351,  0.46140814, -0.04929634,  0.7154033 ,\n",
              "       -0.27329233, -0.05210557, -0.15552019, -0.00217948, -0.52801925,\n",
              "        0.22873263,  0.06905419, -0.16881742,  0.18996537, -0.01176497,\n",
              "       -0.05217864, -0.16070622, -0.02633991, -0.12859026,  0.00391264,\n",
              "        0.28541192,  0.15696514, -0.72752035, -0.07300167, -0.3496268 ,\n",
              "       -0.49621338, -0.041236  , -0.06297508, -0.27382374,  0.04846001,\n",
              "       -0.00622829,  0.05128632,  0.20046085,  0.05235774,  0.00334566,\n",
              "       -0.10768177,  0.2428784 , -0.3325994 , -0.14894263,  0.09148739,\n",
              "       -0.04963002,  0.21809842, -0.13838586, -0.24905123, -0.13691585,\n",
              "        0.37402686, -0.2959959 ,  0.06328459,  0.34584698,  0.29506373,\n",
              "       -0.9576665 , -0.2323348 ,  0.19949594,  0.13617471, -0.28038254,\n",
              "       -0.52558506, -0.04793891,  0.50753146,  0.19876677, -0.06900108,\n",
              "        0.14365613, -0.10530286,  0.36918747])"
            ]
          },
          "metadata": {},
          "execution_count": 79
        }
      ]
    },
    {
      "cell_type": "code",
      "source": [
        "#test similarity - identical word should return cosine similarity 1\n",
        "cosine_sim(query_word(\"Coronavirus\"),query_word(\"Coronavirus\"))"
      ],
      "metadata": {
        "colab": {
          "base_uri": "https://localhost:8080/"
        },
        "id": "qiuMsMr-jOd6",
        "outputId": "39a3b0f9-3d87-4eec-b2a8-4383ada9deb3"
      },
      "execution_count": 80,
      "outputs": [
        {
          "output_type": "execute_result",
          "data": {
            "text/plain": [
              "1.0"
            ]
          },
          "metadata": {},
          "execution_count": 80
        }
      ]
    },
    {
      "cell_type": "code",
      "source": [
        "#test with two different words\n",
        "cosine_sim(query_word(\"COVID\"),query_word(\"Coronavirus\"))"
      ],
      "metadata": {
        "colab": {
          "base_uri": "https://localhost:8080/"
        },
        "id": "yndHNb4zgw-6",
        "outputId": "4c292b36-92a1-46c8-ccca-5e540bbfae59"
      },
      "execution_count": 81,
      "outputs": [
        {
          "output_type": "execute_result",
          "data": {
            "text/plain": [
              "0.29860783778945804"
            ]
          },
          "metadata": {},
          "execution_count": 81
        }
      ]
    },
    {
      "cell_type": "code",
      "source": [
        "#COVID and Coronavirus don't have high similarity - perhaps\n",
        "#the medical term and public term weren't used in very similar contexts?\n",
        "\n",
        "#Similarity score is much better between terms corresponding to\n",
        "#medical classifications of the word.\n",
        "print(cosine_sim(query_word(\"COVID-19\"),query_word(\"COVID\")))\n",
        "print(cosine_sim(query_word(\"COVID-19\"),query_word(\"SARS\")))"
      ],
      "metadata": {
        "colab": {
          "base_uri": "https://localhost:8080/"
        },
        "id": "dFewuXzljldx",
        "outputId": "cdd0cefb-542d-4eb2-915c-a5f94d8e2b35"
      },
      "execution_count": 82,
      "outputs": [
        {
          "output_type": "stream",
          "name": "stdout",
          "text": [
            "0.7096248764570396\n",
            "0.5853716966291452\n"
          ]
        }
      ]
    },
    {
      "cell_type": "code",
      "source": [
        "#testing non COVID-Specific terms\n",
        "print(cosine_sim(query_word(\"sick\"),query_word(\"flu\")))"
      ],
      "metadata": {
        "colab": {
          "base_uri": "https://localhost:8080/"
        },
        "id": "RR9-xdHLkBvp",
        "outputId": "ebc2a781-2636-4e10-c090-f6e8db3bbc4d"
      },
      "execution_count": 83,
      "outputs": [
        {
          "output_type": "stream",
          "name": "stdout",
          "text": [
            "0.42147003897222785\n"
          ]
        }
      ]
    },
    {
      "cell_type": "markdown",
      "source": [
        "Dissimilarity score could be thought of as \"not similarity score\".\n",
        "The worse a similarity score is, the more dissimilar it is.\n",
        "We could obtain the opposite of a similarity score such as Euclidean distance\n",
        "to calculate dissimilarity.\n",
        "\n",
        "Since more similar words in a word embedding will have closer\n",
        "distance, we can infer that less similar words will be farther away. \n",
        "\n",
        "Euclidean Distance - square root (sum of difference of vectors squared)"
      ],
      "metadata": {
        "id": "2KFiO_0DnMuS"
      }
    },
    {
      "cell_type": "code",
      "source": [
        "#Closer to 0 = more similar\n",
        "def euclidean(a,b):\n",
        "  squarediff = np.square(np.subtract(a, b))\n",
        "  rootsum = np.sqrt(np.sum(squarediff))\n",
        "  return rootsum"
      ],
      "metadata": {
        "id": "8b7i5Qh3kszy"
      },
      "execution_count": 84,
      "outputs": []
    },
    {
      "cell_type": "code",
      "source": [
        "euclidean(query_word(\"Coronavirus\"),query_word(\"Coronavirus\"))"
      ],
      "metadata": {
        "colab": {
          "base_uri": "https://localhost:8080/"
        },
        "id": "wJbk_MvPsqKI",
        "outputId": "e16b30ed-1244-4caf-de4e-d397ec493efa"
      },
      "execution_count": 85,
      "outputs": [
        {
          "output_type": "execute_result",
          "data": {
            "text/plain": [
              "0.0"
            ]
          },
          "metadata": {},
          "execution_count": 85
        }
      ]
    },
    {
      "cell_type": "markdown",
      "source": [
        "We should expect words that are more dissimilar to have a positive value further away from zero. A higher dissimilarity score could be used to deliberately favor or ignore word pairings with a certain intent - \n",
        "for example, if the average of dissimilarity scores is known to be\n",
        "around 3.5, an algorithm could deliberately operate on word pairings \n",
        "that had dissimilarity of 3.5 or above."
      ],
      "metadata": {
        "id": "IiYqVeqIvFeB"
      }
    },
    {
      "cell_type": "code",
      "source": [
        "print(euclidean(query_word(\"nail\"),query_word(\"cough\"))) #Not Similar At All\n",
        "print(euclidean(query_word(\"COVID\"),query_word(\"Coronavirus\"))) #Least Similar\n",
        "print(euclidean(query_word(\"sick\"),query_word(\"flu\"))) #Less Similar\n",
        "print(euclidean(query_word(\"COVID-19\"),query_word(\"COVID\"))) #More Similar\n",
        "print(euclidean(query_word(\"COVID-19\"),query_word(\"SARS\"))) #Most Similar"
      ],
      "metadata": {
        "colab": {
          "base_uri": "https://localhost:8080/"
        },
        "id": "dKBqZ3matEeo",
        "outputId": "166477b0-e67b-4e44-b383-67ed31539821"
      },
      "execution_count": 86,
      "outputs": [
        {
          "output_type": "stream",
          "name": "stdout",
          "text": [
            "4.930275601915297\n",
            "4.729276386554468\n",
            "3.6042326231258217\n",
            "3.1736450804098744\n",
            "2.820645547358311\n"
          ]
        }
      ]
    }
  ]
}