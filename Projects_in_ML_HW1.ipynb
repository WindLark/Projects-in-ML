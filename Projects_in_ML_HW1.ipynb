{
  "nbformat": 4,
  "nbformat_minor": 0,
  "metadata": {
    "colab": {
      "provenance": [],
      "collapsed_sections": [],
      "toc_visible": true
    },
    "kernelspec": {
      "name": "python3",
      "display_name": "Python 3"
    },
    "language_info": {
      "name": "python"
    }
  },
  "cells": [
    {
      "cell_type": "markdown",
      "source": [
        "#Task 1\n",
        "\n",
        "[Google Colab Link](https://colab.research.google.com/drive/15grTRgANI2Md5cjZ4zaPH_zyje6xlni2?usp=sharing)\n",
        "\n",
        "Dataset used:\n",
        "\n",
        "[**Drug Review Dataset (Druglib.com) Data Set**](https://archive.ics.uci.edu/ml/datasets/Drug+Review+Dataset+%28Druglib.com%29)\n",
        "\n",
        "Provided by Surya Kallumadi and Felix Gräßer\n",
        "\n",
        "Given the following parameters:\n",
        "\n",
        "\n",
        "1. urlDrugName (categorical): name of drug\n",
        "2. condition (categorical): name of condition\n",
        "3. benefitsReview (text): patient on benefits\n",
        "4. sideEffectsReview (text): patient on side effects\n",
        "5. commentsReview (text): overall patient comment\n",
        "6. rating (numerical): 10 star patient rating\n",
        "7. sideEffects (categorical): 5 step side effect rating\n",
        "8. effectiveness (categorical): 5 step effectiveness rating\n",
        "\n",
        "We want to determine how any properties we can quantify such as sideEffects and Effectiveness will affect whether a patient feels overall positively (6-10) or negatively (1-5)  about a drug given to them. This is important becuase we want patients to have confidence that the drugs given to them work. As a hypothetical example, patients wouldn't likely want a drug with lots of sideeffects and little effectiveness.\n",
        "\n",
        "The problem is a good logistic regression problem because we can abstract the rating scale out to make it a more general binary classification of whether patients consider a drug \"effective\"\n",
        "or \"not effective\". We can then take other factors such\n",
        "as sideEffect and effectiveness evaluation and then determine\n",
        "if it is possible to predict perceived effectiveness or non-effectiveness based on trends in the individual factor ratings."
      ],
      "metadata": {
        "id": "SSVFQssdbHdc"
      }
    },
    {
      "cell_type": "markdown",
      "source": [
        "#Task 2"
      ],
      "metadata": {
        "id": "tkDn6LhW5MC0"
      }
    },
    {
      "cell_type": "code",
      "execution_count": null,
      "metadata": {
        "id": "HzzJRb_a5HsE"
      },
      "outputs": [],
      "source": [
        "# import required libraries\n",
        "import pandas as pd\n",
        "import matplotlib.pyplot as plt\n",
        "import seaborn as sns\n",
        "import numpy as np\n",
        "from sklearn.model_selection import train_test_split\n",
        "from sklearn.preprocessing import Normalizer\n",
        "import time\n",
        "import math\n",
        "import warnings\n",
        "warnings.filterwarnings(\"ignore\")"
      ]
    },
    {
      "cell_type": "markdown",
      "source": [
        "## Original File(s) statistics\n",
        "\n",
        "4143 entries total\n",
        "\n",
        "Original Training file \"a1\": 1407 \n",
        "\n",
        "Original Training file \"a2\": 1700 \n",
        "\n",
        "Original Test file \"b\": 1036\n",
        "\n",
        "The training file had to be split into two due to parsing issues."
      ],
      "metadata": {
        "id": "QIkEMMES5S_f"
      }
    },
    {
      "cell_type": "code",
      "source": [
        "df1a = pd.read_table('drugLibTrain_raw_p1.tsv') #, skiprows=1406\n",
        "df1b = pd.read_table('drugLibTrain_raw_p2.tsv', \n",
        "                     header=None,\n",
        "                     names=[\"Unnamed: 0\",\n",
        "                            \"urlDrugName\",\n",
        "                            \"rating\",\n",
        "                            \"effectiveness\",\n",
        "                            \"sideEffects\",\n",
        "                            \"condition\",\n",
        "                            \"benefitsReview\",\n",
        "                            \"sideEffectsReview\",\n",
        "                            \"commentsReview\"])\n",
        "df2 = pd.read_table('drugLibTest_raw.tsv')\n",
        "print(df1a.shape)\n",
        "print(df1b.shape)\n",
        "print(df2.shape)"
      ],
      "metadata": {
        "colab": {
          "base_uri": "https://localhost:8080/"
        },
        "id": "pYaGJ_dn57Dr",
        "outputId": "7107c3df-a3dc-4ec7-afbd-dbceefc609ba"
      },
      "execution_count": null,
      "outputs": [
        {
          "output_type": "stream",
          "name": "stdout",
          "text": [
            "(1407, 9)\n",
            "(1700, 9)\n",
            "(1036, 9)\n"
          ]
        }
      ]
    },
    {
      "cell_type": "code",
      "source": [
        "df2"
      ],
      "metadata": {
        "colab": {
          "base_uri": "https://localhost:8080/",
          "height": 832
        },
        "id": "W9TAtHZB6RY6",
        "outputId": "1b9d4710-5094-442f-cc8c-296daede97f3"
      },
      "execution_count": null,
      "outputs": [
        {
          "output_type": "execute_result",
          "data": {
            "text/plain": [
              "      Unnamed: 0     urlDrugName  rating           effectiveness  \\\n",
              "0           1366          biaxin       9  Considerably Effective   \n",
              "1           3724        lamictal       9        Highly Effective   \n",
              "2           3824        depakene       4    Moderately Effective   \n",
              "3            969         sarafem      10        Highly Effective   \n",
              "4            696        accutane      10        Highly Effective   \n",
              "...          ...             ...     ...                     ...   \n",
              "1031         690        accutane       7  Considerably Effective   \n",
              "1032        1071      proair-hfa      10        Highly Effective   \n",
              "1033         681        accutane       8  Considerably Effective   \n",
              "1034        2709         divigel      10        Highly Effective   \n",
              "1035         729  claripel-cream       8  Considerably Effective   \n",
              "\n",
              "                sideEffects                          condition  \\\n",
              "0         Mild Side Effects                    sinus infection   \n",
              "1         Mild Side Effects                   bipolar disorder   \n",
              "2       Severe Side Effects                   bipolar disorder   \n",
              "3           No Side Effects                 bi-polar / anxiety   \n",
              "4         Mild Side Effects                       nodular acne   \n",
              "...                     ...                                ...   \n",
              "1031    Severe Side Effects                      acne vulgaris   \n",
              "1032        No Side Effects                             asthma   \n",
              "1033  Moderate Side Effects                         serve acne   \n",
              "1034        No Side Effects                          menopause   \n",
              "1035      Mild Side Effects  acne scarring & hyperpigmentation   \n",
              "\n",
              "                                         benefitsReview  \\\n",
              "0     The antibiotic may have destroyed bacteria cau...   \n",
              "1     Lamictal stabilized my serious mood swings. On...   \n",
              "2     Initial benefits were comparable to the brand ...   \n",
              "3     It controlls my mood swings. It helps me think...   \n",
              "4     Within one week of treatment superficial acne ...   \n",
              "...                                                 ...   \n",
              "1031  Detoxing effect by pushing out the system thro...   \n",
              "1032  The albuterol relieved the constriction, irrit...   \n",
              "1033                    Serve Acne has turned to middle   \n",
              "1034  My overall mood, sense of well being, energy l...   \n",
              "1035  Up until 2 years ago, it worked really well on...   \n",
              "\n",
              "                                      sideEffectsReview  \\\n",
              "0                         Some back pain, some nauseau.   \n",
              "1     Drowsiness, a bit of mental numbness. If you t...   \n",
              "2     Depakene has a very thin coating, which caused...   \n",
              "3               I didnt really notice any side effects.   \n",
              "4     Side effects included moderate to severe dry s...   \n",
              "...                                                 ...   \n",
              "1031  Hairloss, extreme dry skin, itchiness, raises ...   \n",
              "1032                I have experienced no side effects.   \n",
              "1033    Painfull muscles, problems with seeing at night   \n",
              "1034  No side effects of any kind were noted or appa...   \n",
              "1035  Have stopped using it and have also learned th...   \n",
              "\n",
              "                                         commentsReview  \n",
              "0     Took the antibiotics for 14 days. Sinus infect...  \n",
              "1     Severe mood swings between hypomania and depre...  \n",
              "2     Depakote was prescribed to me by a Kaiser psyc...  \n",
              "3     This drug may not be for everyone but its wond...  \n",
              "4     Drug was taken in gelatin tablet at 0.5 mg per...  \n",
              "...                                                 ...  \n",
              "1031  Treatment period is 3 months/12 weeks. Dosage ...  \n",
              "1032  I use the albuterol as needed because of aller...  \n",
              "1033  This drug is highly teratogenic ,females must ...  \n",
              "1034  Divigel is a topically applied Bio-Identical H...  \n",
              "1035               Stopped using it for the time being.  \n",
              "\n",
              "[1036 rows x 9 columns]"
            ],
            "text/html": [
              "\n",
              "  <div id=\"df-036787e1-a4b9-4e38-8610-ef0b32de6426\">\n",
              "    <div class=\"colab-df-container\">\n",
              "      <div>\n",
              "<style scoped>\n",
              "    .dataframe tbody tr th:only-of-type {\n",
              "        vertical-align: middle;\n",
              "    }\n",
              "\n",
              "    .dataframe tbody tr th {\n",
              "        vertical-align: top;\n",
              "    }\n",
              "\n",
              "    .dataframe thead th {\n",
              "        text-align: right;\n",
              "    }\n",
              "</style>\n",
              "<table border=\"1\" class=\"dataframe\">\n",
              "  <thead>\n",
              "    <tr style=\"text-align: right;\">\n",
              "      <th></th>\n",
              "      <th>Unnamed: 0</th>\n",
              "      <th>urlDrugName</th>\n",
              "      <th>rating</th>\n",
              "      <th>effectiveness</th>\n",
              "      <th>sideEffects</th>\n",
              "      <th>condition</th>\n",
              "      <th>benefitsReview</th>\n",
              "      <th>sideEffectsReview</th>\n",
              "      <th>commentsReview</th>\n",
              "    </tr>\n",
              "  </thead>\n",
              "  <tbody>\n",
              "    <tr>\n",
              "      <th>0</th>\n",
              "      <td>1366</td>\n",
              "      <td>biaxin</td>\n",
              "      <td>9</td>\n",
              "      <td>Considerably Effective</td>\n",
              "      <td>Mild Side Effects</td>\n",
              "      <td>sinus infection</td>\n",
              "      <td>The antibiotic may have destroyed bacteria cau...</td>\n",
              "      <td>Some back pain, some nauseau.</td>\n",
              "      <td>Took the antibiotics for 14 days. Sinus infect...</td>\n",
              "    </tr>\n",
              "    <tr>\n",
              "      <th>1</th>\n",
              "      <td>3724</td>\n",
              "      <td>lamictal</td>\n",
              "      <td>9</td>\n",
              "      <td>Highly Effective</td>\n",
              "      <td>Mild Side Effects</td>\n",
              "      <td>bipolar disorder</td>\n",
              "      <td>Lamictal stabilized my serious mood swings. On...</td>\n",
              "      <td>Drowsiness, a bit of mental numbness. If you t...</td>\n",
              "      <td>Severe mood swings between hypomania and depre...</td>\n",
              "    </tr>\n",
              "    <tr>\n",
              "      <th>2</th>\n",
              "      <td>3824</td>\n",
              "      <td>depakene</td>\n",
              "      <td>4</td>\n",
              "      <td>Moderately Effective</td>\n",
              "      <td>Severe Side Effects</td>\n",
              "      <td>bipolar disorder</td>\n",
              "      <td>Initial benefits were comparable to the brand ...</td>\n",
              "      <td>Depakene has a very thin coating, which caused...</td>\n",
              "      <td>Depakote was prescribed to me by a Kaiser psyc...</td>\n",
              "    </tr>\n",
              "    <tr>\n",
              "      <th>3</th>\n",
              "      <td>969</td>\n",
              "      <td>sarafem</td>\n",
              "      <td>10</td>\n",
              "      <td>Highly Effective</td>\n",
              "      <td>No Side Effects</td>\n",
              "      <td>bi-polar / anxiety</td>\n",
              "      <td>It controlls my mood swings. It helps me think...</td>\n",
              "      <td>I didnt really notice any side effects.</td>\n",
              "      <td>This drug may not be for everyone but its wond...</td>\n",
              "    </tr>\n",
              "    <tr>\n",
              "      <th>4</th>\n",
              "      <td>696</td>\n",
              "      <td>accutane</td>\n",
              "      <td>10</td>\n",
              "      <td>Highly Effective</td>\n",
              "      <td>Mild Side Effects</td>\n",
              "      <td>nodular acne</td>\n",
              "      <td>Within one week of treatment superficial acne ...</td>\n",
              "      <td>Side effects included moderate to severe dry s...</td>\n",
              "      <td>Drug was taken in gelatin tablet at 0.5 mg per...</td>\n",
              "    </tr>\n",
              "    <tr>\n",
              "      <th>...</th>\n",
              "      <td>...</td>\n",
              "      <td>...</td>\n",
              "      <td>...</td>\n",
              "      <td>...</td>\n",
              "      <td>...</td>\n",
              "      <td>...</td>\n",
              "      <td>...</td>\n",
              "      <td>...</td>\n",
              "      <td>...</td>\n",
              "    </tr>\n",
              "    <tr>\n",
              "      <th>1031</th>\n",
              "      <td>690</td>\n",
              "      <td>accutane</td>\n",
              "      <td>7</td>\n",
              "      <td>Considerably Effective</td>\n",
              "      <td>Severe Side Effects</td>\n",
              "      <td>acne vulgaris</td>\n",
              "      <td>Detoxing effect by pushing out the system thro...</td>\n",
              "      <td>Hairloss, extreme dry skin, itchiness, raises ...</td>\n",
              "      <td>Treatment period is 3 months/12 weeks. Dosage ...</td>\n",
              "    </tr>\n",
              "    <tr>\n",
              "      <th>1032</th>\n",
              "      <td>1071</td>\n",
              "      <td>proair-hfa</td>\n",
              "      <td>10</td>\n",
              "      <td>Highly Effective</td>\n",
              "      <td>No Side Effects</td>\n",
              "      <td>asthma</td>\n",
              "      <td>The albuterol relieved the constriction, irrit...</td>\n",
              "      <td>I have experienced no side effects.</td>\n",
              "      <td>I use the albuterol as needed because of aller...</td>\n",
              "    </tr>\n",
              "    <tr>\n",
              "      <th>1033</th>\n",
              "      <td>681</td>\n",
              "      <td>accutane</td>\n",
              "      <td>8</td>\n",
              "      <td>Considerably Effective</td>\n",
              "      <td>Moderate Side Effects</td>\n",
              "      <td>serve acne</td>\n",
              "      <td>Serve Acne has turned to middle</td>\n",
              "      <td>Painfull muscles, problems with seeing at night</td>\n",
              "      <td>This drug is highly teratogenic ,females must ...</td>\n",
              "    </tr>\n",
              "    <tr>\n",
              "      <th>1034</th>\n",
              "      <td>2709</td>\n",
              "      <td>divigel</td>\n",
              "      <td>10</td>\n",
              "      <td>Highly Effective</td>\n",
              "      <td>No Side Effects</td>\n",
              "      <td>menopause</td>\n",
              "      <td>My overall mood, sense of well being, energy l...</td>\n",
              "      <td>No side effects of any kind were noted or appa...</td>\n",
              "      <td>Divigel is a topically applied Bio-Identical H...</td>\n",
              "    </tr>\n",
              "    <tr>\n",
              "      <th>1035</th>\n",
              "      <td>729</td>\n",
              "      <td>claripel-cream</td>\n",
              "      <td>8</td>\n",
              "      <td>Considerably Effective</td>\n",
              "      <td>Mild Side Effects</td>\n",
              "      <td>acne scarring &amp; hyperpigmentation</td>\n",
              "      <td>Up until 2 years ago, it worked really well on...</td>\n",
              "      <td>Have stopped using it and have also learned th...</td>\n",
              "      <td>Stopped using it for the time being.</td>\n",
              "    </tr>\n",
              "  </tbody>\n",
              "</table>\n",
              "<p>1036 rows × 9 columns</p>\n",
              "</div>\n",
              "      <button class=\"colab-df-convert\" onclick=\"convertToInteractive('df-036787e1-a4b9-4e38-8610-ef0b32de6426')\"\n",
              "              title=\"Convert this dataframe to an interactive table.\"\n",
              "              style=\"display:none;\">\n",
              "        \n",
              "  <svg xmlns=\"http://www.w3.org/2000/svg\" height=\"24px\"viewBox=\"0 0 24 24\"\n",
              "       width=\"24px\">\n",
              "    <path d=\"M0 0h24v24H0V0z\" fill=\"none\"/>\n",
              "    <path d=\"M18.56 5.44l.94 2.06.94-2.06 2.06-.94-2.06-.94-.94-2.06-.94 2.06-2.06.94zm-11 1L8.5 8.5l.94-2.06 2.06-.94-2.06-.94L8.5 2.5l-.94 2.06-2.06.94zm10 10l.94 2.06.94-2.06 2.06-.94-2.06-.94-.94-2.06-.94 2.06-2.06.94z\"/><path d=\"M17.41 7.96l-1.37-1.37c-.4-.4-.92-.59-1.43-.59-.52 0-1.04.2-1.43.59L10.3 9.45l-7.72 7.72c-.78.78-.78 2.05 0 2.83L4 21.41c.39.39.9.59 1.41.59.51 0 1.02-.2 1.41-.59l7.78-7.78 2.81-2.81c.8-.78.8-2.07 0-2.86zM5.41 20L4 18.59l7.72-7.72 1.47 1.35L5.41 20z\"/>\n",
              "  </svg>\n",
              "      </button>\n",
              "      \n",
              "  <style>\n",
              "    .colab-df-container {\n",
              "      display:flex;\n",
              "      flex-wrap:wrap;\n",
              "      gap: 12px;\n",
              "    }\n",
              "\n",
              "    .colab-df-convert {\n",
              "      background-color: #E8F0FE;\n",
              "      border: none;\n",
              "      border-radius: 50%;\n",
              "      cursor: pointer;\n",
              "      display: none;\n",
              "      fill: #1967D2;\n",
              "      height: 32px;\n",
              "      padding: 0 0 0 0;\n",
              "      width: 32px;\n",
              "    }\n",
              "\n",
              "    .colab-df-convert:hover {\n",
              "      background-color: #E2EBFA;\n",
              "      box-shadow: 0px 1px 2px rgba(60, 64, 67, 0.3), 0px 1px 3px 1px rgba(60, 64, 67, 0.15);\n",
              "      fill: #174EA6;\n",
              "    }\n",
              "\n",
              "    [theme=dark] .colab-df-convert {\n",
              "      background-color: #3B4455;\n",
              "      fill: #D2E3FC;\n",
              "    }\n",
              "\n",
              "    [theme=dark] .colab-df-convert:hover {\n",
              "      background-color: #434B5C;\n",
              "      box-shadow: 0px 1px 3px 1px rgba(0, 0, 0, 0.15);\n",
              "      filter: drop-shadow(0px 1px 2px rgba(0, 0, 0, 0.3));\n",
              "      fill: #FFFFFF;\n",
              "    }\n",
              "  </style>\n",
              "\n",
              "      <script>\n",
              "        const buttonEl =\n",
              "          document.querySelector('#df-036787e1-a4b9-4e38-8610-ef0b32de6426 button.colab-df-convert');\n",
              "        buttonEl.style.display =\n",
              "          google.colab.kernel.accessAllowed ? 'block' : 'none';\n",
              "\n",
              "        async function convertToInteractive(key) {\n",
              "          const element = document.querySelector('#df-036787e1-a4b9-4e38-8610-ef0b32de6426');\n",
              "          const dataTable =\n",
              "            await google.colab.kernel.invokeFunction('convertToInteractive',\n",
              "                                                     [key], {});\n",
              "          if (!dataTable) return;\n",
              "\n",
              "          const docLinkHtml = 'Like what you see? Visit the ' +\n",
              "            '<a target=\"_blank\" href=https://colab.research.google.com/notebooks/data_table.ipynb>data table notebook</a>'\n",
              "            + ' to learn more about interactive tables.';\n",
              "          element.innerHTML = '';\n",
              "          dataTable['output_type'] = 'display_data';\n",
              "          await google.colab.output.renderOutput(dataTable, element);\n",
              "          const docLink = document.createElement('div');\n",
              "          docLink.innerHTML = docLinkHtml;\n",
              "          element.appendChild(docLink);\n",
              "        }\n",
              "      </script>\n",
              "    </div>\n",
              "  </div>\n",
              "  "
            ]
          },
          "metadata": {},
          "execution_count": 283
        }
      ]
    },
    {
      "cell_type": "code",
      "source": [
        "#combine data for sanitizing\n",
        "allframes = [df1a, df1b, df2]\n",
        "\n",
        "dfall = pd.concat(allframes, ignore_index=True) #prevent duplicate indexed values\n",
        "\n",
        "print(dfall.shape)"
      ],
      "metadata": {
        "colab": {
          "base_uri": "https://localhost:8080/"
        },
        "id": "-mxNZbLwIBw-",
        "outputId": "9a0f9764-ac4a-47b8-c83d-7839278aaead"
      },
      "execution_count": null,
      "outputs": [
        {
          "output_type": "stream",
          "name": "stdout",
          "text": [
            "(4143, 9)\n"
          ]
        }
      ]
    },
    {
      "cell_type": "code",
      "source": [
        "dfall"
      ],
      "metadata": {
        "colab": {
          "base_uri": "https://localhost:8080/",
          "height": 832
        },
        "id": "iYqYQMx_IiJn",
        "outputId": "bd985081-e5de-434d-ed37-61c7d3c8b251"
      },
      "execution_count": null,
      "outputs": [
        {
          "output_type": "execute_result",
          "data": {
            "text/plain": [
              "      Unnamed: 0       urlDrugName  rating           effectiveness  \\\n",
              "0           2202         enalapril       4        Highly Effective   \n",
              "1           3117  ortho-tri-cyclen       1        Highly Effective   \n",
              "2           1146           ponstel      10        Highly Effective   \n",
              "3           3947          prilosec       3    Marginally Effective   \n",
              "4           1951            lyrica       2    Marginally Effective   \n",
              "...          ...               ...     ...                     ...   \n",
              "4138         690          accutane       7  Considerably Effective   \n",
              "4139        1071        proair-hfa      10        Highly Effective   \n",
              "4140         681          accutane       8  Considerably Effective   \n",
              "4141        2709           divigel      10        Highly Effective   \n",
              "4142         729    claripel-cream       8  Considerably Effective   \n",
              "\n",
              "                sideEffects                               condition  \\\n",
              "0         Mild Side Effects  management of congestive heart failure   \n",
              "1       Severe Side Effects                        birth prevention   \n",
              "2           No Side Effects                        menstrual cramps   \n",
              "3         Mild Side Effects                             acid reflux   \n",
              "4       Severe Side Effects                            fibromyalgia   \n",
              "...                     ...                                     ...   \n",
              "4138    Severe Side Effects                           acne vulgaris   \n",
              "4139        No Side Effects                                  asthma   \n",
              "4140  Moderate Side Effects                              serve acne   \n",
              "4141        No Side Effects                               menopause   \n",
              "4142      Mild Side Effects       acne scarring & hyperpigmentation   \n",
              "\n",
              "                                         benefitsReview  \\\n",
              "0     slowed the progression of left ventricular dys...   \n",
              "1     Although this type of birth control has more c...   \n",
              "2     I was used to having cramps so badly that they...   \n",
              "3     The acid reflux went away for a few months aft...   \n",
              "4     I think that the Lyrica was starting to help w...   \n",
              "...                                                 ...   \n",
              "4138  Detoxing effect by pushing out the system thro...   \n",
              "4139  The albuterol relieved the constriction, irrit...   \n",
              "4140                    Serve Acne has turned to middle   \n",
              "4141  My overall mood, sense of well being, energy l...   \n",
              "4142  Up until 2 years ago, it worked really well on...   \n",
              "\n",
              "                                      sideEffectsReview  \\\n",
              "0     cough, hypotension , proteinuria, impotence , ...   \n",
              "1     Heavy Cycle, Cramps, Hot Flashes, Fatigue, Lon...   \n",
              "2            Heavier bleeding and clotting than normal.   \n",
              "3     Constipation, dry mouth and some mild dizzines...   \n",
              "4     I felt extremely drugged and dopey.  Could not...   \n",
              "...                                                 ...   \n",
              "4138  Hairloss, extreme dry skin, itchiness, raises ...   \n",
              "4139                I have experienced no side effects.   \n",
              "4140    Painfull muscles, problems with seeing at night   \n",
              "4141  No side effects of any kind were noted or appa...   \n",
              "4142  Have stopped using it and have also learned th...   \n",
              "\n",
              "                                         commentsReview  \n",
              "0     monitor blood pressure , weight and asses for ...  \n",
              "1     I Hate This Birth Control, I Would Not Suggest...  \n",
              "2     I took 2 pills at the onset of my menstrual cr...  \n",
              "3     I was given Prilosec prescription at a dose of...  \n",
              "4                                             See above  \n",
              "...                                                 ...  \n",
              "4138  Treatment period is 3 months/12 weeks. Dosage ...  \n",
              "4139  I use the albuterol as needed because of aller...  \n",
              "4140  This drug is highly teratogenic ,females must ...  \n",
              "4141  Divigel is a topically applied Bio-Identical H...  \n",
              "4142               Stopped using it for the time being.  \n",
              "\n",
              "[4143 rows x 9 columns]"
            ],
            "text/html": [
              "\n",
              "  <div id=\"df-04f228e7-6d6c-4ca3-a7d0-81c4e432ec4a\">\n",
              "    <div class=\"colab-df-container\">\n",
              "      <div>\n",
              "<style scoped>\n",
              "    .dataframe tbody tr th:only-of-type {\n",
              "        vertical-align: middle;\n",
              "    }\n",
              "\n",
              "    .dataframe tbody tr th {\n",
              "        vertical-align: top;\n",
              "    }\n",
              "\n",
              "    .dataframe thead th {\n",
              "        text-align: right;\n",
              "    }\n",
              "</style>\n",
              "<table border=\"1\" class=\"dataframe\">\n",
              "  <thead>\n",
              "    <tr style=\"text-align: right;\">\n",
              "      <th></th>\n",
              "      <th>Unnamed: 0</th>\n",
              "      <th>urlDrugName</th>\n",
              "      <th>rating</th>\n",
              "      <th>effectiveness</th>\n",
              "      <th>sideEffects</th>\n",
              "      <th>condition</th>\n",
              "      <th>benefitsReview</th>\n",
              "      <th>sideEffectsReview</th>\n",
              "      <th>commentsReview</th>\n",
              "    </tr>\n",
              "  </thead>\n",
              "  <tbody>\n",
              "    <tr>\n",
              "      <th>0</th>\n",
              "      <td>2202</td>\n",
              "      <td>enalapril</td>\n",
              "      <td>4</td>\n",
              "      <td>Highly Effective</td>\n",
              "      <td>Mild Side Effects</td>\n",
              "      <td>management of congestive heart failure</td>\n",
              "      <td>slowed the progression of left ventricular dys...</td>\n",
              "      <td>cough, hypotension , proteinuria, impotence , ...</td>\n",
              "      <td>monitor blood pressure , weight and asses for ...</td>\n",
              "    </tr>\n",
              "    <tr>\n",
              "      <th>1</th>\n",
              "      <td>3117</td>\n",
              "      <td>ortho-tri-cyclen</td>\n",
              "      <td>1</td>\n",
              "      <td>Highly Effective</td>\n",
              "      <td>Severe Side Effects</td>\n",
              "      <td>birth prevention</td>\n",
              "      <td>Although this type of birth control has more c...</td>\n",
              "      <td>Heavy Cycle, Cramps, Hot Flashes, Fatigue, Lon...</td>\n",
              "      <td>I Hate This Birth Control, I Would Not Suggest...</td>\n",
              "    </tr>\n",
              "    <tr>\n",
              "      <th>2</th>\n",
              "      <td>1146</td>\n",
              "      <td>ponstel</td>\n",
              "      <td>10</td>\n",
              "      <td>Highly Effective</td>\n",
              "      <td>No Side Effects</td>\n",
              "      <td>menstrual cramps</td>\n",
              "      <td>I was used to having cramps so badly that they...</td>\n",
              "      <td>Heavier bleeding and clotting than normal.</td>\n",
              "      <td>I took 2 pills at the onset of my menstrual cr...</td>\n",
              "    </tr>\n",
              "    <tr>\n",
              "      <th>3</th>\n",
              "      <td>3947</td>\n",
              "      <td>prilosec</td>\n",
              "      <td>3</td>\n",
              "      <td>Marginally Effective</td>\n",
              "      <td>Mild Side Effects</td>\n",
              "      <td>acid reflux</td>\n",
              "      <td>The acid reflux went away for a few months aft...</td>\n",
              "      <td>Constipation, dry mouth and some mild dizzines...</td>\n",
              "      <td>I was given Prilosec prescription at a dose of...</td>\n",
              "    </tr>\n",
              "    <tr>\n",
              "      <th>4</th>\n",
              "      <td>1951</td>\n",
              "      <td>lyrica</td>\n",
              "      <td>2</td>\n",
              "      <td>Marginally Effective</td>\n",
              "      <td>Severe Side Effects</td>\n",
              "      <td>fibromyalgia</td>\n",
              "      <td>I think that the Lyrica was starting to help w...</td>\n",
              "      <td>I felt extremely drugged and dopey.  Could not...</td>\n",
              "      <td>See above</td>\n",
              "    </tr>\n",
              "    <tr>\n",
              "      <th>...</th>\n",
              "      <td>...</td>\n",
              "      <td>...</td>\n",
              "      <td>...</td>\n",
              "      <td>...</td>\n",
              "      <td>...</td>\n",
              "      <td>...</td>\n",
              "      <td>...</td>\n",
              "      <td>...</td>\n",
              "      <td>...</td>\n",
              "    </tr>\n",
              "    <tr>\n",
              "      <th>4138</th>\n",
              "      <td>690</td>\n",
              "      <td>accutane</td>\n",
              "      <td>7</td>\n",
              "      <td>Considerably Effective</td>\n",
              "      <td>Severe Side Effects</td>\n",
              "      <td>acne vulgaris</td>\n",
              "      <td>Detoxing effect by pushing out the system thro...</td>\n",
              "      <td>Hairloss, extreme dry skin, itchiness, raises ...</td>\n",
              "      <td>Treatment period is 3 months/12 weeks. Dosage ...</td>\n",
              "    </tr>\n",
              "    <tr>\n",
              "      <th>4139</th>\n",
              "      <td>1071</td>\n",
              "      <td>proair-hfa</td>\n",
              "      <td>10</td>\n",
              "      <td>Highly Effective</td>\n",
              "      <td>No Side Effects</td>\n",
              "      <td>asthma</td>\n",
              "      <td>The albuterol relieved the constriction, irrit...</td>\n",
              "      <td>I have experienced no side effects.</td>\n",
              "      <td>I use the albuterol as needed because of aller...</td>\n",
              "    </tr>\n",
              "    <tr>\n",
              "      <th>4140</th>\n",
              "      <td>681</td>\n",
              "      <td>accutane</td>\n",
              "      <td>8</td>\n",
              "      <td>Considerably Effective</td>\n",
              "      <td>Moderate Side Effects</td>\n",
              "      <td>serve acne</td>\n",
              "      <td>Serve Acne has turned to middle</td>\n",
              "      <td>Painfull muscles, problems with seeing at night</td>\n",
              "      <td>This drug is highly teratogenic ,females must ...</td>\n",
              "    </tr>\n",
              "    <tr>\n",
              "      <th>4141</th>\n",
              "      <td>2709</td>\n",
              "      <td>divigel</td>\n",
              "      <td>10</td>\n",
              "      <td>Highly Effective</td>\n",
              "      <td>No Side Effects</td>\n",
              "      <td>menopause</td>\n",
              "      <td>My overall mood, sense of well being, energy l...</td>\n",
              "      <td>No side effects of any kind were noted or appa...</td>\n",
              "      <td>Divigel is a topically applied Bio-Identical H...</td>\n",
              "    </tr>\n",
              "    <tr>\n",
              "      <th>4142</th>\n",
              "      <td>729</td>\n",
              "      <td>claripel-cream</td>\n",
              "      <td>8</td>\n",
              "      <td>Considerably Effective</td>\n",
              "      <td>Mild Side Effects</td>\n",
              "      <td>acne scarring &amp; hyperpigmentation</td>\n",
              "      <td>Up until 2 years ago, it worked really well on...</td>\n",
              "      <td>Have stopped using it and have also learned th...</td>\n",
              "      <td>Stopped using it for the time being.</td>\n",
              "    </tr>\n",
              "  </tbody>\n",
              "</table>\n",
              "<p>4143 rows × 9 columns</p>\n",
              "</div>\n",
              "      <button class=\"colab-df-convert\" onclick=\"convertToInteractive('df-04f228e7-6d6c-4ca3-a7d0-81c4e432ec4a')\"\n",
              "              title=\"Convert this dataframe to an interactive table.\"\n",
              "              style=\"display:none;\">\n",
              "        \n",
              "  <svg xmlns=\"http://www.w3.org/2000/svg\" height=\"24px\"viewBox=\"0 0 24 24\"\n",
              "       width=\"24px\">\n",
              "    <path d=\"M0 0h24v24H0V0z\" fill=\"none\"/>\n",
              "    <path d=\"M18.56 5.44l.94 2.06.94-2.06 2.06-.94-2.06-.94-.94-2.06-.94 2.06-2.06.94zm-11 1L8.5 8.5l.94-2.06 2.06-.94-2.06-.94L8.5 2.5l-.94 2.06-2.06.94zm10 10l.94 2.06.94-2.06 2.06-.94-2.06-.94-.94-2.06-.94 2.06-2.06.94z\"/><path d=\"M17.41 7.96l-1.37-1.37c-.4-.4-.92-.59-1.43-.59-.52 0-1.04.2-1.43.59L10.3 9.45l-7.72 7.72c-.78.78-.78 2.05 0 2.83L4 21.41c.39.39.9.59 1.41.59.51 0 1.02-.2 1.41-.59l7.78-7.78 2.81-2.81c.8-.78.8-2.07 0-2.86zM5.41 20L4 18.59l7.72-7.72 1.47 1.35L5.41 20z\"/>\n",
              "  </svg>\n",
              "      </button>\n",
              "      \n",
              "  <style>\n",
              "    .colab-df-container {\n",
              "      display:flex;\n",
              "      flex-wrap:wrap;\n",
              "      gap: 12px;\n",
              "    }\n",
              "\n",
              "    .colab-df-convert {\n",
              "      background-color: #E8F0FE;\n",
              "      border: none;\n",
              "      border-radius: 50%;\n",
              "      cursor: pointer;\n",
              "      display: none;\n",
              "      fill: #1967D2;\n",
              "      height: 32px;\n",
              "      padding: 0 0 0 0;\n",
              "      width: 32px;\n",
              "    }\n",
              "\n",
              "    .colab-df-convert:hover {\n",
              "      background-color: #E2EBFA;\n",
              "      box-shadow: 0px 1px 2px rgba(60, 64, 67, 0.3), 0px 1px 3px 1px rgba(60, 64, 67, 0.15);\n",
              "      fill: #174EA6;\n",
              "    }\n",
              "\n",
              "    [theme=dark] .colab-df-convert {\n",
              "      background-color: #3B4455;\n",
              "      fill: #D2E3FC;\n",
              "    }\n",
              "\n",
              "    [theme=dark] .colab-df-convert:hover {\n",
              "      background-color: #434B5C;\n",
              "      box-shadow: 0px 1px 3px 1px rgba(0, 0, 0, 0.15);\n",
              "      filter: drop-shadow(0px 1px 2px rgba(0, 0, 0, 0.3));\n",
              "      fill: #FFFFFF;\n",
              "    }\n",
              "  </style>\n",
              "\n",
              "      <script>\n",
              "        const buttonEl =\n",
              "          document.querySelector('#df-04f228e7-6d6c-4ca3-a7d0-81c4e432ec4a button.colab-df-convert');\n",
              "        buttonEl.style.display =\n",
              "          google.colab.kernel.accessAllowed ? 'block' : 'none';\n",
              "\n",
              "        async function convertToInteractive(key) {\n",
              "          const element = document.querySelector('#df-04f228e7-6d6c-4ca3-a7d0-81c4e432ec4a');\n",
              "          const dataTable =\n",
              "            await google.colab.kernel.invokeFunction('convertToInteractive',\n",
              "                                                     [key], {});\n",
              "          if (!dataTable) return;\n",
              "\n",
              "          const docLinkHtml = 'Like what you see? Visit the ' +\n",
              "            '<a target=\"_blank\" href=https://colab.research.google.com/notebooks/data_table.ipynb>data table notebook</a>'\n",
              "            + ' to learn more about interactive tables.';\n",
              "          element.innerHTML = '';\n",
              "          dataTable['output_type'] = 'display_data';\n",
              "          await google.colab.output.renderOutput(dataTable, element);\n",
              "          const docLink = document.createElement('div');\n",
              "          docLink.innerHTML = docLinkHtml;\n",
              "          element.appendChild(docLink);\n",
              "        }\n",
              "      </script>\n",
              "    </div>\n",
              "  </div>\n",
              "  "
            ]
          },
          "metadata": {},
          "execution_count": 285
        }
      ]
    },
    {
      "cell_type": "code",
      "source": [
        "#check to make sure multliple values aren't on same row id\n",
        "dfall.loc[0,:]"
      ],
      "metadata": {
        "colab": {
          "base_uri": "https://localhost:8080/"
        },
        "id": "3UxHD02gK0rN",
        "outputId": "a00a7da2-6535-46af-8e0c-4fa93a0c6935"
      },
      "execution_count": null,
      "outputs": [
        {
          "output_type": "execute_result",
          "data": {
            "text/plain": [
              "Unnamed: 0                                                        2202\n",
              "urlDrugName                                                  enalapril\n",
              "rating                                                               4\n",
              "effectiveness                                         Highly Effective\n",
              "sideEffects                                          Mild Side Effects\n",
              "condition                       management of congestive heart failure\n",
              "benefitsReview       slowed the progression of left ventricular dys...\n",
              "sideEffectsReview    cough, hypotension , proteinuria, impotence , ...\n",
              "commentsReview       monitor blood pressure , weight and asses for ...\n",
              "Name: 0, dtype: object"
            ]
          },
          "metadata": {},
          "execution_count": 286
        }
      ]
    },
    {
      "cell_type": "code",
      "source": [
        "#identify # of empty fields\n",
        "dfall.isna().sum()"
      ],
      "metadata": {
        "colab": {
          "base_uri": "https://localhost:8080/"
        },
        "id": "-wRvBab8OMHu",
        "outputId": "a3c5d53c-26bc-42d7-9877-72b8250ae001"
      },
      "execution_count": null,
      "outputs": [
        {
          "output_type": "execute_result",
          "data": {
            "text/plain": [
              "Unnamed: 0           0\n",
              "urlDrugName          0\n",
              "rating               0\n",
              "effectiveness        0\n",
              "sideEffects          0\n",
              "condition            1\n",
              "benefitsReview       0\n",
              "sideEffectsReview    2\n",
              "commentsReview       8\n",
              "dtype: int64"
            ]
          },
          "metadata": {},
          "execution_count": 287
        }
      ]
    },
    {
      "cell_type": "markdown",
      "source": [
        "##Initial Dataset Impressions\n",
        "\n",
        "This is a very clean dataset overall. A quick manual review\n",
        "showed that rating, effectiveness, and sideEffects \n",
        "all had populated valid values in their intended ranges.\n",
        "We will not be using condition - this will be explained below.\n",
        "\n",
        "benefitsReview, sideEffectsReview, commentsReview\n",
        "all consisted of valid strings or an empty field,\n",
        "likely reflecting that the patient had no additional\n",
        "comment on the drug used. We will just note for now that they are all in string format.\n"
      ],
      "metadata": {
        "id": "3vvf9E3J5inw"
      }
    },
    {
      "cell_type": "code",
      "source": [
        "print(dfall.urlDrugName.value_counts())"
      ],
      "metadata": {
        "colab": {
          "base_uri": "https://localhost:8080/"
        },
        "id": "AyuoeTQRGMuk",
        "outputId": "0bd25645-b6fd-4a15-9103-7d9e9aa7b17a"
      },
      "execution_count": null,
      "outputs": [
        {
          "output_type": "stream",
          "name": "stdout",
          "text": [
            "lexapro            74\n",
            "paxil              58\n",
            "retin-a            55\n",
            "synthroid          53\n",
            "zoloft             52\n",
            "                   ..\n",
            "elmiron             1\n",
            "lasix               1\n",
            "zovirax-topical     1\n",
            "bactrim-ds          1\n",
            "prevalite           1\n",
            "Name: urlDrugName, Length: 541, dtype: int64\n"
          ]
        }
      ]
    },
    {
      "cell_type": "code",
      "source": [
        "print(dfall.condition.value_counts())"
      ],
      "metadata": {
        "colab": {
          "base_uri": "https://localhost:8080/"
        },
        "id": "4Pp8XEmtGa-c",
        "outputId": "755bcf75-381b-456c-a3f4-36c6ef868244"
      },
      "execution_count": null,
      "outputs": [
        {
          "output_type": "stream",
          "name": "stdout",
          "text": [
            "depression                                            302\n",
            "acne                                                  211\n",
            "anxiety                                                90\n",
            "insomnia                                               75\n",
            "birth control                                          68\n",
            "                                                     ... \n",
            "ankylosing spondalytis                                  1\n",
            "opiate/heroin addiction                                 1\n",
            "improvement of skin appearance, very very mild acn      1\n",
            "anxiety/worry                                           1\n",
            "acne scarring & hyperpigmentation                       1\n",
            "Name: condition, Length: 1807, dtype: int64\n"
          ]
        }
      ]
    },
    {
      "cell_type": "markdown",
      "source": [
        "##Prelimary Review of the Data\n",
        "\n",
        "We are not particularly concerned with the first column (ID numbers)\n",
        "as it will not demonstrate any trends.\n",
        "\n",
        "There are a 541 different drug names (column 2) and \n",
        "1807 condition names (column 5) with neither having an\n",
        "entry or entries that takes up a noticeable majority\n",
        "of the cases. (I.e. would result in a lot of features\n",
        "as it would be hard to break down or group drugs or conditions\n",
        "without extensive medical knowledge.)\n",
        "\n",
        "We are primarily interested in whether reviewing tendencies \n",
        "correlate to confidence in overall drug rating, so we drop these columns for the time being for the sake of keeping features manageable.\n",
        "\n",
        "\n",
        "The rating column is numerical, but the effectiveness and sideEffects columns have their values  as strings and must be converted to ints.\n",
        "\n",
        "We use the following conversion scale:\n",
        "\n",
        "**\"Effectiveness Strength\"**\n",
        "\n",
        "Highly Effective = 5\n",
        "\n",
        "Considerably Effective = 4\n",
        "\n",
        "Moderately Effective = 3 \n",
        "\n",
        "Marginally Effective = 2\n",
        "\n",
        "Ineffective = 1\n",
        "\n",
        "**\"Side Effectiveness Strength\"**\n",
        "\n",
        "Extremely Severe Side Effects = 5\n",
        "\n",
        "Severe Side Effects = 4 \n",
        "\n",
        "Moderate Side Effects = 3\n",
        "\n",
        "Mild Side Effects = 2\n",
        "\n",
        "No Side Effects = 1\n",
        "\n",
        "\n",
        "We can  quantify the comment fields (benefitsReview\n",
        ",sideEffectsReview,commentsReview) by character length, to\n",
        "see if there is any correlation between how talkative a user is in their\n",
        "review and the overall effectiveness. (E.g. Do people who\n",
        "talk more have more complaints and thus less overall rating/confidence in a drug?) \n",
        "\n",
        "It is worth noting a few users left some of their comment sections completely empty. A larger but still small portion of others left comments like \"See Above\" or \"None\" to demontrate that no details were mentions. Generally, though, this would only occur on 1 or rarely 2 of the 3 comment sections of a review, so we will assess them all as separate columns to see if is indicative of a user being more positive or negative about a drug."
      ],
      "metadata": {
        "id": "l_o7LE5K6R3w"
      }
    },
    {
      "cell_type": "code",
      "source": [
        "#Print the number of \"None\" style \n",
        "#comments for benefits, sideeffects, and comments respectively.\n",
        "#About 1 out of 20 sideEffects reviewers had a None style comment.\n",
        "#The other \"None\" style comments or empty comments are negligible amounts.\n",
        "\n",
        "print(\n",
        "dfall.loc[dfall['benefitsReview'].isin(['none','None','NONE','None.',\n",
        "                                           'See above','See Above','see above',\n",
        "                                           'See above.'])].shape\n",
        ")\n",
        "print(\n",
        "dfall.loc[dfall['sideEffectsReview'].isin(['none','None','NONE','None.',\n",
        "                                           'See above','See Above','see above',\n",
        "                                           'See above.'])].shape\n",
        ")\n",
        "print(\n",
        "dfall.loc[dfall['commentsReview'].isin(['none','None','NONE','None.',\n",
        "                                           'See above','See Above','see above',\n",
        "                                           'See above.'])].shape\n",
        ")\n"
      ],
      "metadata": {
        "colab": {
          "base_uri": "https://localhost:8080/"
        },
        "id": "NCKLGQB9O8rW",
        "outputId": "60f5f5b9-c694-4980-c06d-7b619dd6a3d5"
      },
      "execution_count": null,
      "outputs": [
        {
          "output_type": "stream",
          "name": "stdout",
          "text": [
            "(56, 9)\n",
            "(276, 9)\n",
            "(25, 9)\n"
          ]
        }
      ]
    },
    {
      "cell_type": "markdown",
      "source": [
        "##Processing Data Based on Review\n",
        "\n"
      ],
      "metadata": {
        "id": "XToAXkl_9YSL"
      }
    },
    {
      "cell_type": "code",
      "source": [
        "#Drop the unused columns based on our preliminary review.\n",
        "dfall_pruned=dfall.drop(['Unnamed: 0', 'urlDrugName','condition'], axis=1)\n",
        "dfall_pruned"
      ],
      "metadata": {
        "colab": {
          "base_uri": "https://localhost:8080/",
          "height": 641
        },
        "id": "zea5weMlHP64",
        "outputId": "b7d2373d-4f29-47ef-cbae-bba76fdc4bd1"
      },
      "execution_count": null,
      "outputs": [
        {
          "output_type": "execute_result",
          "data": {
            "text/plain": [
              "      rating           effectiveness            sideEffects  \\\n",
              "0          4        Highly Effective      Mild Side Effects   \n",
              "1          1        Highly Effective    Severe Side Effects   \n",
              "2         10        Highly Effective        No Side Effects   \n",
              "3          3    Marginally Effective      Mild Side Effects   \n",
              "4          2    Marginally Effective    Severe Side Effects   \n",
              "...      ...                     ...                    ...   \n",
              "4138       7  Considerably Effective    Severe Side Effects   \n",
              "4139      10        Highly Effective        No Side Effects   \n",
              "4140       8  Considerably Effective  Moderate Side Effects   \n",
              "4141      10        Highly Effective        No Side Effects   \n",
              "4142       8  Considerably Effective      Mild Side Effects   \n",
              "\n",
              "                                         benefitsReview  \\\n",
              "0     slowed the progression of left ventricular dys...   \n",
              "1     Although this type of birth control has more c...   \n",
              "2     I was used to having cramps so badly that they...   \n",
              "3     The acid reflux went away for a few months aft...   \n",
              "4     I think that the Lyrica was starting to help w...   \n",
              "...                                                 ...   \n",
              "4138  Detoxing effect by pushing out the system thro...   \n",
              "4139  The albuterol relieved the constriction, irrit...   \n",
              "4140                    Serve Acne has turned to middle   \n",
              "4141  My overall mood, sense of well being, energy l...   \n",
              "4142  Up until 2 years ago, it worked really well on...   \n",
              "\n",
              "                                      sideEffectsReview  \\\n",
              "0     cough, hypotension , proteinuria, impotence , ...   \n",
              "1     Heavy Cycle, Cramps, Hot Flashes, Fatigue, Lon...   \n",
              "2            Heavier bleeding and clotting than normal.   \n",
              "3     Constipation, dry mouth and some mild dizzines...   \n",
              "4     I felt extremely drugged and dopey.  Could not...   \n",
              "...                                                 ...   \n",
              "4138  Hairloss, extreme dry skin, itchiness, raises ...   \n",
              "4139                I have experienced no side effects.   \n",
              "4140    Painfull muscles, problems with seeing at night   \n",
              "4141  No side effects of any kind were noted or appa...   \n",
              "4142  Have stopped using it and have also learned th...   \n",
              "\n",
              "                                         commentsReview  \n",
              "0     monitor blood pressure , weight and asses for ...  \n",
              "1     I Hate This Birth Control, I Would Not Suggest...  \n",
              "2     I took 2 pills at the onset of my menstrual cr...  \n",
              "3     I was given Prilosec prescription at a dose of...  \n",
              "4                                             See above  \n",
              "...                                                 ...  \n",
              "4138  Treatment period is 3 months/12 weeks. Dosage ...  \n",
              "4139  I use the albuterol as needed because of aller...  \n",
              "4140  This drug is highly teratogenic ,females must ...  \n",
              "4141  Divigel is a topically applied Bio-Identical H...  \n",
              "4142               Stopped using it for the time being.  \n",
              "\n",
              "[4143 rows x 6 columns]"
            ],
            "text/html": [
              "\n",
              "  <div id=\"df-282f8751-5815-43a9-bf5f-574c060f25a1\">\n",
              "    <div class=\"colab-df-container\">\n",
              "      <div>\n",
              "<style scoped>\n",
              "    .dataframe tbody tr th:only-of-type {\n",
              "        vertical-align: middle;\n",
              "    }\n",
              "\n",
              "    .dataframe tbody tr th {\n",
              "        vertical-align: top;\n",
              "    }\n",
              "\n",
              "    .dataframe thead th {\n",
              "        text-align: right;\n",
              "    }\n",
              "</style>\n",
              "<table border=\"1\" class=\"dataframe\">\n",
              "  <thead>\n",
              "    <tr style=\"text-align: right;\">\n",
              "      <th></th>\n",
              "      <th>rating</th>\n",
              "      <th>effectiveness</th>\n",
              "      <th>sideEffects</th>\n",
              "      <th>benefitsReview</th>\n",
              "      <th>sideEffectsReview</th>\n",
              "      <th>commentsReview</th>\n",
              "    </tr>\n",
              "  </thead>\n",
              "  <tbody>\n",
              "    <tr>\n",
              "      <th>0</th>\n",
              "      <td>4</td>\n",
              "      <td>Highly Effective</td>\n",
              "      <td>Mild Side Effects</td>\n",
              "      <td>slowed the progression of left ventricular dys...</td>\n",
              "      <td>cough, hypotension , proteinuria, impotence , ...</td>\n",
              "      <td>monitor blood pressure , weight and asses for ...</td>\n",
              "    </tr>\n",
              "    <tr>\n",
              "      <th>1</th>\n",
              "      <td>1</td>\n",
              "      <td>Highly Effective</td>\n",
              "      <td>Severe Side Effects</td>\n",
              "      <td>Although this type of birth control has more c...</td>\n",
              "      <td>Heavy Cycle, Cramps, Hot Flashes, Fatigue, Lon...</td>\n",
              "      <td>I Hate This Birth Control, I Would Not Suggest...</td>\n",
              "    </tr>\n",
              "    <tr>\n",
              "      <th>2</th>\n",
              "      <td>10</td>\n",
              "      <td>Highly Effective</td>\n",
              "      <td>No Side Effects</td>\n",
              "      <td>I was used to having cramps so badly that they...</td>\n",
              "      <td>Heavier bleeding and clotting than normal.</td>\n",
              "      <td>I took 2 pills at the onset of my menstrual cr...</td>\n",
              "    </tr>\n",
              "    <tr>\n",
              "      <th>3</th>\n",
              "      <td>3</td>\n",
              "      <td>Marginally Effective</td>\n",
              "      <td>Mild Side Effects</td>\n",
              "      <td>The acid reflux went away for a few months aft...</td>\n",
              "      <td>Constipation, dry mouth and some mild dizzines...</td>\n",
              "      <td>I was given Prilosec prescription at a dose of...</td>\n",
              "    </tr>\n",
              "    <tr>\n",
              "      <th>4</th>\n",
              "      <td>2</td>\n",
              "      <td>Marginally Effective</td>\n",
              "      <td>Severe Side Effects</td>\n",
              "      <td>I think that the Lyrica was starting to help w...</td>\n",
              "      <td>I felt extremely drugged and dopey.  Could not...</td>\n",
              "      <td>See above</td>\n",
              "    </tr>\n",
              "    <tr>\n",
              "      <th>...</th>\n",
              "      <td>...</td>\n",
              "      <td>...</td>\n",
              "      <td>...</td>\n",
              "      <td>...</td>\n",
              "      <td>...</td>\n",
              "      <td>...</td>\n",
              "    </tr>\n",
              "    <tr>\n",
              "      <th>4138</th>\n",
              "      <td>7</td>\n",
              "      <td>Considerably Effective</td>\n",
              "      <td>Severe Side Effects</td>\n",
              "      <td>Detoxing effect by pushing out the system thro...</td>\n",
              "      <td>Hairloss, extreme dry skin, itchiness, raises ...</td>\n",
              "      <td>Treatment period is 3 months/12 weeks. Dosage ...</td>\n",
              "    </tr>\n",
              "    <tr>\n",
              "      <th>4139</th>\n",
              "      <td>10</td>\n",
              "      <td>Highly Effective</td>\n",
              "      <td>No Side Effects</td>\n",
              "      <td>The albuterol relieved the constriction, irrit...</td>\n",
              "      <td>I have experienced no side effects.</td>\n",
              "      <td>I use the albuterol as needed because of aller...</td>\n",
              "    </tr>\n",
              "    <tr>\n",
              "      <th>4140</th>\n",
              "      <td>8</td>\n",
              "      <td>Considerably Effective</td>\n",
              "      <td>Moderate Side Effects</td>\n",
              "      <td>Serve Acne has turned to middle</td>\n",
              "      <td>Painfull muscles, problems with seeing at night</td>\n",
              "      <td>This drug is highly teratogenic ,females must ...</td>\n",
              "    </tr>\n",
              "    <tr>\n",
              "      <th>4141</th>\n",
              "      <td>10</td>\n",
              "      <td>Highly Effective</td>\n",
              "      <td>No Side Effects</td>\n",
              "      <td>My overall mood, sense of well being, energy l...</td>\n",
              "      <td>No side effects of any kind were noted or appa...</td>\n",
              "      <td>Divigel is a topically applied Bio-Identical H...</td>\n",
              "    </tr>\n",
              "    <tr>\n",
              "      <th>4142</th>\n",
              "      <td>8</td>\n",
              "      <td>Considerably Effective</td>\n",
              "      <td>Mild Side Effects</td>\n",
              "      <td>Up until 2 years ago, it worked really well on...</td>\n",
              "      <td>Have stopped using it and have also learned th...</td>\n",
              "      <td>Stopped using it for the time being.</td>\n",
              "    </tr>\n",
              "  </tbody>\n",
              "</table>\n",
              "<p>4143 rows × 6 columns</p>\n",
              "</div>\n",
              "      <button class=\"colab-df-convert\" onclick=\"convertToInteractive('df-282f8751-5815-43a9-bf5f-574c060f25a1')\"\n",
              "              title=\"Convert this dataframe to an interactive table.\"\n",
              "              style=\"display:none;\">\n",
              "        \n",
              "  <svg xmlns=\"http://www.w3.org/2000/svg\" height=\"24px\"viewBox=\"0 0 24 24\"\n",
              "       width=\"24px\">\n",
              "    <path d=\"M0 0h24v24H0V0z\" fill=\"none\"/>\n",
              "    <path d=\"M18.56 5.44l.94 2.06.94-2.06 2.06-.94-2.06-.94-.94-2.06-.94 2.06-2.06.94zm-11 1L8.5 8.5l.94-2.06 2.06-.94-2.06-.94L8.5 2.5l-.94 2.06-2.06.94zm10 10l.94 2.06.94-2.06 2.06-.94-2.06-.94-.94-2.06-.94 2.06-2.06.94z\"/><path d=\"M17.41 7.96l-1.37-1.37c-.4-.4-.92-.59-1.43-.59-.52 0-1.04.2-1.43.59L10.3 9.45l-7.72 7.72c-.78.78-.78 2.05 0 2.83L4 21.41c.39.39.9.59 1.41.59.51 0 1.02-.2 1.41-.59l7.78-7.78 2.81-2.81c.8-.78.8-2.07 0-2.86zM5.41 20L4 18.59l7.72-7.72 1.47 1.35L5.41 20z\"/>\n",
              "  </svg>\n",
              "      </button>\n",
              "      \n",
              "  <style>\n",
              "    .colab-df-container {\n",
              "      display:flex;\n",
              "      flex-wrap:wrap;\n",
              "      gap: 12px;\n",
              "    }\n",
              "\n",
              "    .colab-df-convert {\n",
              "      background-color: #E8F0FE;\n",
              "      border: none;\n",
              "      border-radius: 50%;\n",
              "      cursor: pointer;\n",
              "      display: none;\n",
              "      fill: #1967D2;\n",
              "      height: 32px;\n",
              "      padding: 0 0 0 0;\n",
              "      width: 32px;\n",
              "    }\n",
              "\n",
              "    .colab-df-convert:hover {\n",
              "      background-color: #E2EBFA;\n",
              "      box-shadow: 0px 1px 2px rgba(60, 64, 67, 0.3), 0px 1px 3px 1px rgba(60, 64, 67, 0.15);\n",
              "      fill: #174EA6;\n",
              "    }\n",
              "\n",
              "    [theme=dark] .colab-df-convert {\n",
              "      background-color: #3B4455;\n",
              "      fill: #D2E3FC;\n",
              "    }\n",
              "\n",
              "    [theme=dark] .colab-df-convert:hover {\n",
              "      background-color: #434B5C;\n",
              "      box-shadow: 0px 1px 3px 1px rgba(0, 0, 0, 0.15);\n",
              "      filter: drop-shadow(0px 1px 2px rgba(0, 0, 0, 0.3));\n",
              "      fill: #FFFFFF;\n",
              "    }\n",
              "  </style>\n",
              "\n",
              "      <script>\n",
              "        const buttonEl =\n",
              "          document.querySelector('#df-282f8751-5815-43a9-bf5f-574c060f25a1 button.colab-df-convert');\n",
              "        buttonEl.style.display =\n",
              "          google.colab.kernel.accessAllowed ? 'block' : 'none';\n",
              "\n",
              "        async function convertToInteractive(key) {\n",
              "          const element = document.querySelector('#df-282f8751-5815-43a9-bf5f-574c060f25a1');\n",
              "          const dataTable =\n",
              "            await google.colab.kernel.invokeFunction('convertToInteractive',\n",
              "                                                     [key], {});\n",
              "          if (!dataTable) return;\n",
              "\n",
              "          const docLinkHtml = 'Like what you see? Visit the ' +\n",
              "            '<a target=\"_blank\" href=https://colab.research.google.com/notebooks/data_table.ipynb>data table notebook</a>'\n",
              "            + ' to learn more about interactive tables.';\n",
              "          element.innerHTML = '';\n",
              "          dataTable['output_type'] = 'display_data';\n",
              "          await google.colab.output.renderOutput(dataTable, element);\n",
              "          const docLink = document.createElement('div');\n",
              "          docLink.innerHTML = docLinkHtml;\n",
              "          element.appendChild(docLink);\n",
              "        }\n",
              "      </script>\n",
              "    </div>\n",
              "  </div>\n",
              "  "
            ]
          },
          "metadata": {},
          "execution_count": 291
        }
      ]
    },
    {
      "cell_type": "code",
      "source": [
        "#convert effectiveness and sideEffect\n",
        "\n",
        "effectDict = {\n",
        "  \"Highly Effective\": 5,\n",
        "  \"Considerably Effective\": 4,\n",
        "  \"Moderately Effective\": 3,\n",
        "  \"Marginally Effective\": 2,\n",
        "  \"Ineffective\": 1\n",
        "}\n",
        "\n",
        "sideeffectDict = {\n",
        "  \"Extremely Severe Side Effects\": 5,\n",
        "  \"Severe Side Effects\": 4,\n",
        "  \"Moderate Side Effects\": 3,\n",
        "  \"Mild Side Effects\": 2,\n",
        "  \"No Side Effects\": 1\n",
        "}\n",
        "\n",
        "\n",
        "dfall_pruned.loc[dfall_pruned['effectiveness'] == \"Highly Effective\", 'effectiveness'] = 5\n",
        "dfall_pruned.loc[dfall_pruned['effectiveness'] == \"Considerably Effective\", 'effectiveness'] = 4\n",
        "dfall_pruned.loc[dfall_pruned['effectiveness'] == \"Moderately Effective\", 'effectiveness'] = 3\n",
        "dfall_pruned.loc[dfall_pruned['effectiveness'] == \"Marginally Effective\", 'effectiveness'] = 2\n",
        "dfall_pruned.loc[dfall_pruned['effectiveness'] == \"Ineffective\", 'effectiveness'] = 1\n",
        "\n",
        "dfall_pruned.loc[dfall_pruned['sideEffects'] == \"Extremely Severe Side Effects\", 'sideEffects'] = 5\n",
        "dfall_pruned.loc[dfall_pruned['sideEffects'] == \"Severe Side Effects\", 'sideEffects'] = 4\n",
        "dfall_pruned.loc[dfall_pruned['sideEffects'] == \"Moderate Side Effects\", 'sideEffects'] = 3\n",
        "dfall_pruned.loc[dfall_pruned['sideEffects'] == \"Mild Side Effects\", 'sideEffects'] = 2\n",
        "dfall_pruned.loc[dfall_pruned['sideEffects'] == \"No Side Effects\", 'sideEffects'] = 1\n",
        "dfall_pruned"
      ],
      "metadata": {
        "colab": {
          "base_uri": "https://localhost:8080/",
          "height": 641
        },
        "id": "r8F8bEyn1YFU",
        "outputId": "ebb5f624-6774-47d5-cba9-9dd5bf0649e4"
      },
      "execution_count": null,
      "outputs": [
        {
          "output_type": "execute_result",
          "data": {
            "text/plain": [
              "      rating effectiveness sideEffects  \\\n",
              "0          4             5           2   \n",
              "1          1             5           4   \n",
              "2         10             5           1   \n",
              "3          3             2           2   \n",
              "4          2             2           4   \n",
              "...      ...           ...         ...   \n",
              "4138       7             4           4   \n",
              "4139      10             5           1   \n",
              "4140       8             4           3   \n",
              "4141      10             5           1   \n",
              "4142       8             4           2   \n",
              "\n",
              "                                         benefitsReview  \\\n",
              "0     slowed the progression of left ventricular dys...   \n",
              "1     Although this type of birth control has more c...   \n",
              "2     I was used to having cramps so badly that they...   \n",
              "3     The acid reflux went away for a few months aft...   \n",
              "4     I think that the Lyrica was starting to help w...   \n",
              "...                                                 ...   \n",
              "4138  Detoxing effect by pushing out the system thro...   \n",
              "4139  The albuterol relieved the constriction, irrit...   \n",
              "4140                    Serve Acne has turned to middle   \n",
              "4141  My overall mood, sense of well being, energy l...   \n",
              "4142  Up until 2 years ago, it worked really well on...   \n",
              "\n",
              "                                      sideEffectsReview  \\\n",
              "0     cough, hypotension , proteinuria, impotence , ...   \n",
              "1     Heavy Cycle, Cramps, Hot Flashes, Fatigue, Lon...   \n",
              "2            Heavier bleeding and clotting than normal.   \n",
              "3     Constipation, dry mouth and some mild dizzines...   \n",
              "4     I felt extremely drugged and dopey.  Could not...   \n",
              "...                                                 ...   \n",
              "4138  Hairloss, extreme dry skin, itchiness, raises ...   \n",
              "4139                I have experienced no side effects.   \n",
              "4140    Painfull muscles, problems with seeing at night   \n",
              "4141  No side effects of any kind were noted or appa...   \n",
              "4142  Have stopped using it and have also learned th...   \n",
              "\n",
              "                                         commentsReview  \n",
              "0     monitor blood pressure , weight and asses for ...  \n",
              "1     I Hate This Birth Control, I Would Not Suggest...  \n",
              "2     I took 2 pills at the onset of my menstrual cr...  \n",
              "3     I was given Prilosec prescription at a dose of...  \n",
              "4                                             See above  \n",
              "...                                                 ...  \n",
              "4138  Treatment period is 3 months/12 weeks. Dosage ...  \n",
              "4139  I use the albuterol as needed because of aller...  \n",
              "4140  This drug is highly teratogenic ,females must ...  \n",
              "4141  Divigel is a topically applied Bio-Identical H...  \n",
              "4142               Stopped using it for the time being.  \n",
              "\n",
              "[4143 rows x 6 columns]"
            ],
            "text/html": [
              "\n",
              "  <div id=\"df-9f18321a-0891-405f-b81a-1ec2ea990ba2\">\n",
              "    <div class=\"colab-df-container\">\n",
              "      <div>\n",
              "<style scoped>\n",
              "    .dataframe tbody tr th:only-of-type {\n",
              "        vertical-align: middle;\n",
              "    }\n",
              "\n",
              "    .dataframe tbody tr th {\n",
              "        vertical-align: top;\n",
              "    }\n",
              "\n",
              "    .dataframe thead th {\n",
              "        text-align: right;\n",
              "    }\n",
              "</style>\n",
              "<table border=\"1\" class=\"dataframe\">\n",
              "  <thead>\n",
              "    <tr style=\"text-align: right;\">\n",
              "      <th></th>\n",
              "      <th>rating</th>\n",
              "      <th>effectiveness</th>\n",
              "      <th>sideEffects</th>\n",
              "      <th>benefitsReview</th>\n",
              "      <th>sideEffectsReview</th>\n",
              "      <th>commentsReview</th>\n",
              "    </tr>\n",
              "  </thead>\n",
              "  <tbody>\n",
              "    <tr>\n",
              "      <th>0</th>\n",
              "      <td>4</td>\n",
              "      <td>5</td>\n",
              "      <td>2</td>\n",
              "      <td>slowed the progression of left ventricular dys...</td>\n",
              "      <td>cough, hypotension , proteinuria, impotence , ...</td>\n",
              "      <td>monitor blood pressure , weight and asses for ...</td>\n",
              "    </tr>\n",
              "    <tr>\n",
              "      <th>1</th>\n",
              "      <td>1</td>\n",
              "      <td>5</td>\n",
              "      <td>4</td>\n",
              "      <td>Although this type of birth control has more c...</td>\n",
              "      <td>Heavy Cycle, Cramps, Hot Flashes, Fatigue, Lon...</td>\n",
              "      <td>I Hate This Birth Control, I Would Not Suggest...</td>\n",
              "    </tr>\n",
              "    <tr>\n",
              "      <th>2</th>\n",
              "      <td>10</td>\n",
              "      <td>5</td>\n",
              "      <td>1</td>\n",
              "      <td>I was used to having cramps so badly that they...</td>\n",
              "      <td>Heavier bleeding and clotting than normal.</td>\n",
              "      <td>I took 2 pills at the onset of my menstrual cr...</td>\n",
              "    </tr>\n",
              "    <tr>\n",
              "      <th>3</th>\n",
              "      <td>3</td>\n",
              "      <td>2</td>\n",
              "      <td>2</td>\n",
              "      <td>The acid reflux went away for a few months aft...</td>\n",
              "      <td>Constipation, dry mouth and some mild dizzines...</td>\n",
              "      <td>I was given Prilosec prescription at a dose of...</td>\n",
              "    </tr>\n",
              "    <tr>\n",
              "      <th>4</th>\n",
              "      <td>2</td>\n",
              "      <td>2</td>\n",
              "      <td>4</td>\n",
              "      <td>I think that the Lyrica was starting to help w...</td>\n",
              "      <td>I felt extremely drugged and dopey.  Could not...</td>\n",
              "      <td>See above</td>\n",
              "    </tr>\n",
              "    <tr>\n",
              "      <th>...</th>\n",
              "      <td>...</td>\n",
              "      <td>...</td>\n",
              "      <td>...</td>\n",
              "      <td>...</td>\n",
              "      <td>...</td>\n",
              "      <td>...</td>\n",
              "    </tr>\n",
              "    <tr>\n",
              "      <th>4138</th>\n",
              "      <td>7</td>\n",
              "      <td>4</td>\n",
              "      <td>4</td>\n",
              "      <td>Detoxing effect by pushing out the system thro...</td>\n",
              "      <td>Hairloss, extreme dry skin, itchiness, raises ...</td>\n",
              "      <td>Treatment period is 3 months/12 weeks. Dosage ...</td>\n",
              "    </tr>\n",
              "    <tr>\n",
              "      <th>4139</th>\n",
              "      <td>10</td>\n",
              "      <td>5</td>\n",
              "      <td>1</td>\n",
              "      <td>The albuterol relieved the constriction, irrit...</td>\n",
              "      <td>I have experienced no side effects.</td>\n",
              "      <td>I use the albuterol as needed because of aller...</td>\n",
              "    </tr>\n",
              "    <tr>\n",
              "      <th>4140</th>\n",
              "      <td>8</td>\n",
              "      <td>4</td>\n",
              "      <td>3</td>\n",
              "      <td>Serve Acne has turned to middle</td>\n",
              "      <td>Painfull muscles, problems with seeing at night</td>\n",
              "      <td>This drug is highly teratogenic ,females must ...</td>\n",
              "    </tr>\n",
              "    <tr>\n",
              "      <th>4141</th>\n",
              "      <td>10</td>\n",
              "      <td>5</td>\n",
              "      <td>1</td>\n",
              "      <td>My overall mood, sense of well being, energy l...</td>\n",
              "      <td>No side effects of any kind were noted or appa...</td>\n",
              "      <td>Divigel is a topically applied Bio-Identical H...</td>\n",
              "    </tr>\n",
              "    <tr>\n",
              "      <th>4142</th>\n",
              "      <td>8</td>\n",
              "      <td>4</td>\n",
              "      <td>2</td>\n",
              "      <td>Up until 2 years ago, it worked really well on...</td>\n",
              "      <td>Have stopped using it and have also learned th...</td>\n",
              "      <td>Stopped using it for the time being.</td>\n",
              "    </tr>\n",
              "  </tbody>\n",
              "</table>\n",
              "<p>4143 rows × 6 columns</p>\n",
              "</div>\n",
              "      <button class=\"colab-df-convert\" onclick=\"convertToInteractive('df-9f18321a-0891-405f-b81a-1ec2ea990ba2')\"\n",
              "              title=\"Convert this dataframe to an interactive table.\"\n",
              "              style=\"display:none;\">\n",
              "        \n",
              "  <svg xmlns=\"http://www.w3.org/2000/svg\" height=\"24px\"viewBox=\"0 0 24 24\"\n",
              "       width=\"24px\">\n",
              "    <path d=\"M0 0h24v24H0V0z\" fill=\"none\"/>\n",
              "    <path d=\"M18.56 5.44l.94 2.06.94-2.06 2.06-.94-2.06-.94-.94-2.06-.94 2.06-2.06.94zm-11 1L8.5 8.5l.94-2.06 2.06-.94-2.06-.94L8.5 2.5l-.94 2.06-2.06.94zm10 10l.94 2.06.94-2.06 2.06-.94-2.06-.94-.94-2.06-.94 2.06-2.06.94z\"/><path d=\"M17.41 7.96l-1.37-1.37c-.4-.4-.92-.59-1.43-.59-.52 0-1.04.2-1.43.59L10.3 9.45l-7.72 7.72c-.78.78-.78 2.05 0 2.83L4 21.41c.39.39.9.59 1.41.59.51 0 1.02-.2 1.41-.59l7.78-7.78 2.81-2.81c.8-.78.8-2.07 0-2.86zM5.41 20L4 18.59l7.72-7.72 1.47 1.35L5.41 20z\"/>\n",
              "  </svg>\n",
              "      </button>\n",
              "      \n",
              "  <style>\n",
              "    .colab-df-container {\n",
              "      display:flex;\n",
              "      flex-wrap:wrap;\n",
              "      gap: 12px;\n",
              "    }\n",
              "\n",
              "    .colab-df-convert {\n",
              "      background-color: #E8F0FE;\n",
              "      border: none;\n",
              "      border-radius: 50%;\n",
              "      cursor: pointer;\n",
              "      display: none;\n",
              "      fill: #1967D2;\n",
              "      height: 32px;\n",
              "      padding: 0 0 0 0;\n",
              "      width: 32px;\n",
              "    }\n",
              "\n",
              "    .colab-df-convert:hover {\n",
              "      background-color: #E2EBFA;\n",
              "      box-shadow: 0px 1px 2px rgba(60, 64, 67, 0.3), 0px 1px 3px 1px rgba(60, 64, 67, 0.15);\n",
              "      fill: #174EA6;\n",
              "    }\n",
              "\n",
              "    [theme=dark] .colab-df-convert {\n",
              "      background-color: #3B4455;\n",
              "      fill: #D2E3FC;\n",
              "    }\n",
              "\n",
              "    [theme=dark] .colab-df-convert:hover {\n",
              "      background-color: #434B5C;\n",
              "      box-shadow: 0px 1px 3px 1px rgba(0, 0, 0, 0.15);\n",
              "      filter: drop-shadow(0px 1px 2px rgba(0, 0, 0, 0.3));\n",
              "      fill: #FFFFFF;\n",
              "    }\n",
              "  </style>\n",
              "\n",
              "      <script>\n",
              "        const buttonEl =\n",
              "          document.querySelector('#df-9f18321a-0891-405f-b81a-1ec2ea990ba2 button.colab-df-convert');\n",
              "        buttonEl.style.display =\n",
              "          google.colab.kernel.accessAllowed ? 'block' : 'none';\n",
              "\n",
              "        async function convertToInteractive(key) {\n",
              "          const element = document.querySelector('#df-9f18321a-0891-405f-b81a-1ec2ea990ba2');\n",
              "          const dataTable =\n",
              "            await google.colab.kernel.invokeFunction('convertToInteractive',\n",
              "                                                     [key], {});\n",
              "          if (!dataTable) return;\n",
              "\n",
              "          const docLinkHtml = 'Like what you see? Visit the ' +\n",
              "            '<a target=\"_blank\" href=https://colab.research.google.com/notebooks/data_table.ipynb>data table notebook</a>'\n",
              "            + ' to learn more about interactive tables.';\n",
              "          element.innerHTML = '';\n",
              "          dataTable['output_type'] = 'display_data';\n",
              "          await google.colab.output.renderOutput(dataTable, element);\n",
              "          const docLink = document.createElement('div');\n",
              "          docLink.innerHTML = docLinkHtml;\n",
              "          element.appendChild(docLink);\n",
              "        }\n",
              "      </script>\n",
              "    </div>\n",
              "  </div>\n",
              "  "
            ]
          },
          "metadata": {},
          "execution_count": 292
        }
      ]
    },
    {
      "cell_type": "code",
      "source": [
        "#a few  comments have arbitrary float values - possibly corresponding to\n",
        "#an additional rating, a misunderstood rating, \n",
        "#or some kind of survery-specific code?\n",
        "#we'll try and cast these reports as strings \n",
        "#to preserve their presence in the data\n",
        "dfall_pruned['benefitsReview'] = dfall_pruned['benefitsReview'].apply(lambda x: len(str(x)))\n",
        "dfall_pruned['sideEffectsReview'] = dfall_pruned['sideEffectsReview'].apply(lambda x: len(str(x)))\n",
        "dfall_pruned['commentsReview'] = dfall_pruned['commentsReview'].apply(lambda x: len(str(x)))\n",
        "dfall_pruned"
      ],
      "metadata": {
        "colab": {
          "base_uri": "https://localhost:8080/",
          "height": 424
        },
        "id": "oGoWgjrMD73J",
        "outputId": "d470f963-1e12-4f11-f83b-046a6a7efd7d"
      },
      "execution_count": null,
      "outputs": [
        {
          "output_type": "execute_result",
          "data": {
            "text/plain": [
              "      rating effectiveness sideEffects  benefitsReview  sideEffectsReview  \\\n",
              "0          4             5           2             184                197   \n",
              "1          1             5           4             178                258   \n",
              "2         10             5           1             254                 42   \n",
              "3          3             2           2             598                111   \n",
              "4          2             2           4             114                150   \n",
              "...      ...           ...         ...             ...                ...   \n",
              "4138       7             4           4             230                371   \n",
              "4139      10             5           1             306                 35   \n",
              "4140       8             4           3              31                 47   \n",
              "4141      10             5           1             162                169   \n",
              "4142       8             4           2             188                 91   \n",
              "\n",
              "      commentsReview  \n",
              "0                 65  \n",
              "1                 62  \n",
              "2                387  \n",
              "3                158  \n",
              "4                  9  \n",
              "...              ...  \n",
              "4138             218  \n",
              "4139             121  \n",
              "4140             262  \n",
              "4141             306  \n",
              "4142              36  \n",
              "\n",
              "[4143 rows x 6 columns]"
            ],
            "text/html": [
              "\n",
              "  <div id=\"df-02b575c0-ac15-4372-90fd-9b884e7cd2aa\">\n",
              "    <div class=\"colab-df-container\">\n",
              "      <div>\n",
              "<style scoped>\n",
              "    .dataframe tbody tr th:only-of-type {\n",
              "        vertical-align: middle;\n",
              "    }\n",
              "\n",
              "    .dataframe tbody tr th {\n",
              "        vertical-align: top;\n",
              "    }\n",
              "\n",
              "    .dataframe thead th {\n",
              "        text-align: right;\n",
              "    }\n",
              "</style>\n",
              "<table border=\"1\" class=\"dataframe\">\n",
              "  <thead>\n",
              "    <tr style=\"text-align: right;\">\n",
              "      <th></th>\n",
              "      <th>rating</th>\n",
              "      <th>effectiveness</th>\n",
              "      <th>sideEffects</th>\n",
              "      <th>benefitsReview</th>\n",
              "      <th>sideEffectsReview</th>\n",
              "      <th>commentsReview</th>\n",
              "    </tr>\n",
              "  </thead>\n",
              "  <tbody>\n",
              "    <tr>\n",
              "      <th>0</th>\n",
              "      <td>4</td>\n",
              "      <td>5</td>\n",
              "      <td>2</td>\n",
              "      <td>184</td>\n",
              "      <td>197</td>\n",
              "      <td>65</td>\n",
              "    </tr>\n",
              "    <tr>\n",
              "      <th>1</th>\n",
              "      <td>1</td>\n",
              "      <td>5</td>\n",
              "      <td>4</td>\n",
              "      <td>178</td>\n",
              "      <td>258</td>\n",
              "      <td>62</td>\n",
              "    </tr>\n",
              "    <tr>\n",
              "      <th>2</th>\n",
              "      <td>10</td>\n",
              "      <td>5</td>\n",
              "      <td>1</td>\n",
              "      <td>254</td>\n",
              "      <td>42</td>\n",
              "      <td>387</td>\n",
              "    </tr>\n",
              "    <tr>\n",
              "      <th>3</th>\n",
              "      <td>3</td>\n",
              "      <td>2</td>\n",
              "      <td>2</td>\n",
              "      <td>598</td>\n",
              "      <td>111</td>\n",
              "      <td>158</td>\n",
              "    </tr>\n",
              "    <tr>\n",
              "      <th>4</th>\n",
              "      <td>2</td>\n",
              "      <td>2</td>\n",
              "      <td>4</td>\n",
              "      <td>114</td>\n",
              "      <td>150</td>\n",
              "      <td>9</td>\n",
              "    </tr>\n",
              "    <tr>\n",
              "      <th>...</th>\n",
              "      <td>...</td>\n",
              "      <td>...</td>\n",
              "      <td>...</td>\n",
              "      <td>...</td>\n",
              "      <td>...</td>\n",
              "      <td>...</td>\n",
              "    </tr>\n",
              "    <tr>\n",
              "      <th>4138</th>\n",
              "      <td>7</td>\n",
              "      <td>4</td>\n",
              "      <td>4</td>\n",
              "      <td>230</td>\n",
              "      <td>371</td>\n",
              "      <td>218</td>\n",
              "    </tr>\n",
              "    <tr>\n",
              "      <th>4139</th>\n",
              "      <td>10</td>\n",
              "      <td>5</td>\n",
              "      <td>1</td>\n",
              "      <td>306</td>\n",
              "      <td>35</td>\n",
              "      <td>121</td>\n",
              "    </tr>\n",
              "    <tr>\n",
              "      <th>4140</th>\n",
              "      <td>8</td>\n",
              "      <td>4</td>\n",
              "      <td>3</td>\n",
              "      <td>31</td>\n",
              "      <td>47</td>\n",
              "      <td>262</td>\n",
              "    </tr>\n",
              "    <tr>\n",
              "      <th>4141</th>\n",
              "      <td>10</td>\n",
              "      <td>5</td>\n",
              "      <td>1</td>\n",
              "      <td>162</td>\n",
              "      <td>169</td>\n",
              "      <td>306</td>\n",
              "    </tr>\n",
              "    <tr>\n",
              "      <th>4142</th>\n",
              "      <td>8</td>\n",
              "      <td>4</td>\n",
              "      <td>2</td>\n",
              "      <td>188</td>\n",
              "      <td>91</td>\n",
              "      <td>36</td>\n",
              "    </tr>\n",
              "  </tbody>\n",
              "</table>\n",
              "<p>4143 rows × 6 columns</p>\n",
              "</div>\n",
              "      <button class=\"colab-df-convert\" onclick=\"convertToInteractive('df-02b575c0-ac15-4372-90fd-9b884e7cd2aa')\"\n",
              "              title=\"Convert this dataframe to an interactive table.\"\n",
              "              style=\"display:none;\">\n",
              "        \n",
              "  <svg xmlns=\"http://www.w3.org/2000/svg\" height=\"24px\"viewBox=\"0 0 24 24\"\n",
              "       width=\"24px\">\n",
              "    <path d=\"M0 0h24v24H0V0z\" fill=\"none\"/>\n",
              "    <path d=\"M18.56 5.44l.94 2.06.94-2.06 2.06-.94-2.06-.94-.94-2.06-.94 2.06-2.06.94zm-11 1L8.5 8.5l.94-2.06 2.06-.94-2.06-.94L8.5 2.5l-.94 2.06-2.06.94zm10 10l.94 2.06.94-2.06 2.06-.94-2.06-.94-.94-2.06-.94 2.06-2.06.94z\"/><path d=\"M17.41 7.96l-1.37-1.37c-.4-.4-.92-.59-1.43-.59-.52 0-1.04.2-1.43.59L10.3 9.45l-7.72 7.72c-.78.78-.78 2.05 0 2.83L4 21.41c.39.39.9.59 1.41.59.51 0 1.02-.2 1.41-.59l7.78-7.78 2.81-2.81c.8-.78.8-2.07 0-2.86zM5.41 20L4 18.59l7.72-7.72 1.47 1.35L5.41 20z\"/>\n",
              "  </svg>\n",
              "      </button>\n",
              "      \n",
              "  <style>\n",
              "    .colab-df-container {\n",
              "      display:flex;\n",
              "      flex-wrap:wrap;\n",
              "      gap: 12px;\n",
              "    }\n",
              "\n",
              "    .colab-df-convert {\n",
              "      background-color: #E8F0FE;\n",
              "      border: none;\n",
              "      border-radius: 50%;\n",
              "      cursor: pointer;\n",
              "      display: none;\n",
              "      fill: #1967D2;\n",
              "      height: 32px;\n",
              "      padding: 0 0 0 0;\n",
              "      width: 32px;\n",
              "    }\n",
              "\n",
              "    .colab-df-convert:hover {\n",
              "      background-color: #E2EBFA;\n",
              "      box-shadow: 0px 1px 2px rgba(60, 64, 67, 0.3), 0px 1px 3px 1px rgba(60, 64, 67, 0.15);\n",
              "      fill: #174EA6;\n",
              "    }\n",
              "\n",
              "    [theme=dark] .colab-df-convert {\n",
              "      background-color: #3B4455;\n",
              "      fill: #D2E3FC;\n",
              "    }\n",
              "\n",
              "    [theme=dark] .colab-df-convert:hover {\n",
              "      background-color: #434B5C;\n",
              "      box-shadow: 0px 1px 3px 1px rgba(0, 0, 0, 0.15);\n",
              "      filter: drop-shadow(0px 1px 2px rgba(0, 0, 0, 0.3));\n",
              "      fill: #FFFFFF;\n",
              "    }\n",
              "  </style>\n",
              "\n",
              "      <script>\n",
              "        const buttonEl =\n",
              "          document.querySelector('#df-02b575c0-ac15-4372-90fd-9b884e7cd2aa button.colab-df-convert');\n",
              "        buttonEl.style.display =\n",
              "          google.colab.kernel.accessAllowed ? 'block' : 'none';\n",
              "\n",
              "        async function convertToInteractive(key) {\n",
              "          const element = document.querySelector('#df-02b575c0-ac15-4372-90fd-9b884e7cd2aa');\n",
              "          const dataTable =\n",
              "            await google.colab.kernel.invokeFunction('convertToInteractive',\n",
              "                                                     [key], {});\n",
              "          if (!dataTable) return;\n",
              "\n",
              "          const docLinkHtml = 'Like what you see? Visit the ' +\n",
              "            '<a target=\"_blank\" href=https://colab.research.google.com/notebooks/data_table.ipynb>data table notebook</a>'\n",
              "            + ' to learn more about interactive tables.';\n",
              "          element.innerHTML = '';\n",
              "          dataTable['output_type'] = 'display_data';\n",
              "          await google.colab.output.renderOutput(dataTable, element);\n",
              "          const docLink = document.createElement('div');\n",
              "          docLink.innerHTML = docLinkHtml;\n",
              "          element.appendChild(docLink);\n",
              "        }\n",
              "      </script>\n",
              "    </div>\n",
              "  </div>\n",
              "  "
            ]
          },
          "metadata": {},
          "execution_count": 293
        }
      ]
    },
    {
      "cell_type": "code",
      "source": [
        "#lastly make ratings negative/positive\n",
        "dfall_pruned.loc[dfall_pruned['rating'] <= 5, 'rating'] = -1\n",
        "dfall_pruned.loc[dfall_pruned['rating'] > 5, 'rating'] = 1\n",
        "dfall_pruned"
      ],
      "metadata": {
        "colab": {
          "base_uri": "https://localhost:8080/",
          "height": 424
        },
        "id": "XNOWORvoLeWx",
        "outputId": "b98985e6-76cf-45af-e8bc-e4bc0916c981"
      },
      "execution_count": null,
      "outputs": [
        {
          "output_type": "execute_result",
          "data": {
            "text/plain": [
              "      rating effectiveness sideEffects  benefitsReview  sideEffectsReview  \\\n",
              "0         -1             5           2             184                197   \n",
              "1         -1             5           4             178                258   \n",
              "2          1             5           1             254                 42   \n",
              "3         -1             2           2             598                111   \n",
              "4         -1             2           4             114                150   \n",
              "...      ...           ...         ...             ...                ...   \n",
              "4138       1             4           4             230                371   \n",
              "4139       1             5           1             306                 35   \n",
              "4140       1             4           3              31                 47   \n",
              "4141       1             5           1             162                169   \n",
              "4142       1             4           2             188                 91   \n",
              "\n",
              "      commentsReview  \n",
              "0                 65  \n",
              "1                 62  \n",
              "2                387  \n",
              "3                158  \n",
              "4                  9  \n",
              "...              ...  \n",
              "4138             218  \n",
              "4139             121  \n",
              "4140             262  \n",
              "4141             306  \n",
              "4142              36  \n",
              "\n",
              "[4143 rows x 6 columns]"
            ],
            "text/html": [
              "\n",
              "  <div id=\"df-8af36320-d32f-4470-838b-71fe2b2f82b1\">\n",
              "    <div class=\"colab-df-container\">\n",
              "      <div>\n",
              "<style scoped>\n",
              "    .dataframe tbody tr th:only-of-type {\n",
              "        vertical-align: middle;\n",
              "    }\n",
              "\n",
              "    .dataframe tbody tr th {\n",
              "        vertical-align: top;\n",
              "    }\n",
              "\n",
              "    .dataframe thead th {\n",
              "        text-align: right;\n",
              "    }\n",
              "</style>\n",
              "<table border=\"1\" class=\"dataframe\">\n",
              "  <thead>\n",
              "    <tr style=\"text-align: right;\">\n",
              "      <th></th>\n",
              "      <th>rating</th>\n",
              "      <th>effectiveness</th>\n",
              "      <th>sideEffects</th>\n",
              "      <th>benefitsReview</th>\n",
              "      <th>sideEffectsReview</th>\n",
              "      <th>commentsReview</th>\n",
              "    </tr>\n",
              "  </thead>\n",
              "  <tbody>\n",
              "    <tr>\n",
              "      <th>0</th>\n",
              "      <td>-1</td>\n",
              "      <td>5</td>\n",
              "      <td>2</td>\n",
              "      <td>184</td>\n",
              "      <td>197</td>\n",
              "      <td>65</td>\n",
              "    </tr>\n",
              "    <tr>\n",
              "      <th>1</th>\n",
              "      <td>-1</td>\n",
              "      <td>5</td>\n",
              "      <td>4</td>\n",
              "      <td>178</td>\n",
              "      <td>258</td>\n",
              "      <td>62</td>\n",
              "    </tr>\n",
              "    <tr>\n",
              "      <th>2</th>\n",
              "      <td>1</td>\n",
              "      <td>5</td>\n",
              "      <td>1</td>\n",
              "      <td>254</td>\n",
              "      <td>42</td>\n",
              "      <td>387</td>\n",
              "    </tr>\n",
              "    <tr>\n",
              "      <th>3</th>\n",
              "      <td>-1</td>\n",
              "      <td>2</td>\n",
              "      <td>2</td>\n",
              "      <td>598</td>\n",
              "      <td>111</td>\n",
              "      <td>158</td>\n",
              "    </tr>\n",
              "    <tr>\n",
              "      <th>4</th>\n",
              "      <td>-1</td>\n",
              "      <td>2</td>\n",
              "      <td>4</td>\n",
              "      <td>114</td>\n",
              "      <td>150</td>\n",
              "      <td>9</td>\n",
              "    </tr>\n",
              "    <tr>\n",
              "      <th>...</th>\n",
              "      <td>...</td>\n",
              "      <td>...</td>\n",
              "      <td>...</td>\n",
              "      <td>...</td>\n",
              "      <td>...</td>\n",
              "      <td>...</td>\n",
              "    </tr>\n",
              "    <tr>\n",
              "      <th>4138</th>\n",
              "      <td>1</td>\n",
              "      <td>4</td>\n",
              "      <td>4</td>\n",
              "      <td>230</td>\n",
              "      <td>371</td>\n",
              "      <td>218</td>\n",
              "    </tr>\n",
              "    <tr>\n",
              "      <th>4139</th>\n",
              "      <td>1</td>\n",
              "      <td>5</td>\n",
              "      <td>1</td>\n",
              "      <td>306</td>\n",
              "      <td>35</td>\n",
              "      <td>121</td>\n",
              "    </tr>\n",
              "    <tr>\n",
              "      <th>4140</th>\n",
              "      <td>1</td>\n",
              "      <td>4</td>\n",
              "      <td>3</td>\n",
              "      <td>31</td>\n",
              "      <td>47</td>\n",
              "      <td>262</td>\n",
              "    </tr>\n",
              "    <tr>\n",
              "      <th>4141</th>\n",
              "      <td>1</td>\n",
              "      <td>5</td>\n",
              "      <td>1</td>\n",
              "      <td>162</td>\n",
              "      <td>169</td>\n",
              "      <td>306</td>\n",
              "    </tr>\n",
              "    <tr>\n",
              "      <th>4142</th>\n",
              "      <td>1</td>\n",
              "      <td>4</td>\n",
              "      <td>2</td>\n",
              "      <td>188</td>\n",
              "      <td>91</td>\n",
              "      <td>36</td>\n",
              "    </tr>\n",
              "  </tbody>\n",
              "</table>\n",
              "<p>4143 rows × 6 columns</p>\n",
              "</div>\n",
              "      <button class=\"colab-df-convert\" onclick=\"convertToInteractive('df-8af36320-d32f-4470-838b-71fe2b2f82b1')\"\n",
              "              title=\"Convert this dataframe to an interactive table.\"\n",
              "              style=\"display:none;\">\n",
              "        \n",
              "  <svg xmlns=\"http://www.w3.org/2000/svg\" height=\"24px\"viewBox=\"0 0 24 24\"\n",
              "       width=\"24px\">\n",
              "    <path d=\"M0 0h24v24H0V0z\" fill=\"none\"/>\n",
              "    <path d=\"M18.56 5.44l.94 2.06.94-2.06 2.06-.94-2.06-.94-.94-2.06-.94 2.06-2.06.94zm-11 1L8.5 8.5l.94-2.06 2.06-.94-2.06-.94L8.5 2.5l-.94 2.06-2.06.94zm10 10l.94 2.06.94-2.06 2.06-.94-2.06-.94-.94-2.06-.94 2.06-2.06.94z\"/><path d=\"M17.41 7.96l-1.37-1.37c-.4-.4-.92-.59-1.43-.59-.52 0-1.04.2-1.43.59L10.3 9.45l-7.72 7.72c-.78.78-.78 2.05 0 2.83L4 21.41c.39.39.9.59 1.41.59.51 0 1.02-.2 1.41-.59l7.78-7.78 2.81-2.81c.8-.78.8-2.07 0-2.86zM5.41 20L4 18.59l7.72-7.72 1.47 1.35L5.41 20z\"/>\n",
              "  </svg>\n",
              "      </button>\n",
              "      \n",
              "  <style>\n",
              "    .colab-df-container {\n",
              "      display:flex;\n",
              "      flex-wrap:wrap;\n",
              "      gap: 12px;\n",
              "    }\n",
              "\n",
              "    .colab-df-convert {\n",
              "      background-color: #E8F0FE;\n",
              "      border: none;\n",
              "      border-radius: 50%;\n",
              "      cursor: pointer;\n",
              "      display: none;\n",
              "      fill: #1967D2;\n",
              "      height: 32px;\n",
              "      padding: 0 0 0 0;\n",
              "      width: 32px;\n",
              "    }\n",
              "\n",
              "    .colab-df-convert:hover {\n",
              "      background-color: #E2EBFA;\n",
              "      box-shadow: 0px 1px 2px rgba(60, 64, 67, 0.3), 0px 1px 3px 1px rgba(60, 64, 67, 0.15);\n",
              "      fill: #174EA6;\n",
              "    }\n",
              "\n",
              "    [theme=dark] .colab-df-convert {\n",
              "      background-color: #3B4455;\n",
              "      fill: #D2E3FC;\n",
              "    }\n",
              "\n",
              "    [theme=dark] .colab-df-convert:hover {\n",
              "      background-color: #434B5C;\n",
              "      box-shadow: 0px 1px 3px 1px rgba(0, 0, 0, 0.15);\n",
              "      filter: drop-shadow(0px 1px 2px rgba(0, 0, 0, 0.3));\n",
              "      fill: #FFFFFF;\n",
              "    }\n",
              "  </style>\n",
              "\n",
              "      <script>\n",
              "        const buttonEl =\n",
              "          document.querySelector('#df-8af36320-d32f-4470-838b-71fe2b2f82b1 button.colab-df-convert');\n",
              "        buttonEl.style.display =\n",
              "          google.colab.kernel.accessAllowed ? 'block' : 'none';\n",
              "\n",
              "        async function convertToInteractive(key) {\n",
              "          const element = document.querySelector('#df-8af36320-d32f-4470-838b-71fe2b2f82b1');\n",
              "          const dataTable =\n",
              "            await google.colab.kernel.invokeFunction('convertToInteractive',\n",
              "                                                     [key], {});\n",
              "          if (!dataTable) return;\n",
              "\n",
              "          const docLinkHtml = 'Like what you see? Visit the ' +\n",
              "            '<a target=\"_blank\" href=https://colab.research.google.com/notebooks/data_table.ipynb>data table notebook</a>'\n",
              "            + ' to learn more about interactive tables.';\n",
              "          element.innerHTML = '';\n",
              "          dataTable['output_type'] = 'display_data';\n",
              "          await google.colab.output.renderOutput(dataTable, element);\n",
              "          const docLink = document.createElement('div');\n",
              "          docLink.innerHTML = docLinkHtml;\n",
              "          element.appendChild(docLink);\n",
              "        }\n",
              "      </script>\n",
              "    </div>\n",
              "  </div>\n",
              "  "
            ]
          },
          "metadata": {},
          "execution_count": 294
        }
      ]
    },
    {
      "cell_type": "code",
      "source": [
        "#Imbalance in data: note that patients \n",
        "#typically tended to be positive\n",
        "#about medical drug use in the data. \n",
        "dfall_pruned.rating.value_counts(normalize=True)"
      ],
      "metadata": {
        "colab": {
          "base_uri": "https://localhost:8080/"
        },
        "id": "jI8w5sbBM0xd",
        "outputId": "561276a5-9f65-45d5-c96e-26d5941b768f"
      },
      "execution_count": null,
      "outputs": [
        {
          "output_type": "execute_result",
          "data": {
            "text/plain": [
              " 1    0.727734\n",
              "-1    0.272266\n",
              "Name: rating, dtype: float64"
            ]
          },
          "metadata": {},
          "execution_count": 295
        }
      ]
    },
    {
      "cell_type": "markdown",
      "source": [
        "## Graphs\n",
        "\n",
        "We'll use some graphs to help get a better understanding of what our refined dataset looks like and if there are any trends we should look out for."
      ],
      "metadata": {
        "id": "51eIkIGMRfHn"
      }
    },
    {
      "cell_type": "code",
      "source": [
        "g = sns.FacetGrid(dfall_pruned, col='rating', height=5)\n",
        "g.map(plt.hist, 'effectiveness', bins=5)"
      ],
      "metadata": {
        "colab": {
          "base_uri": "https://localhost:8080/",
          "height": 386
        },
        "id": "vBIPpd7-Naz3",
        "outputId": "2e7f881f-e87e-49be-aacb-e3594ce18c4f"
      },
      "execution_count": null,
      "outputs": [
        {
          "output_type": "execute_result",
          "data": {
            "text/plain": [
              "<seaborn.axisgrid.FacetGrid at 0x7ff04e332e90>"
            ]
          },
          "metadata": {},
          "execution_count": 296
        },
        {
          "output_type": "display_data",
          "data": {
            "text/plain": [
              "<Figure size 720x360 with 2 Axes>"
            ],
            "image/png": "[encoded data removed]"
          },
          "metadata": {
            "needs_background": "light"
          }
        }
      ]
    },
    {
      "cell_type": "code",
      "source": [
        "g = sns.FacetGrid(dfall_pruned, col='rating', height=5)\n",
        "g.map(plt.hist, 'sideEffects', bins=5)"
      ],
      "metadata": {
        "colab": {
          "base_uri": "https://localhost:8080/",
          "height": 386
        },
        "id": "SOSYCTexRRVb",
        "outputId": "bb54658c-4e35-4e8e-cd06-9a69816aa39d"
      },
      "execution_count": null,
      "outputs": [
        {
          "output_type": "execute_result",
          "data": {
            "text/plain": [
              "<seaborn.axisgrid.FacetGrid at 0x7ff04e21c0d0>"
            ]
          },
          "metadata": {},
          "execution_count": 297
        },
        {
          "output_type": "display_data",
          "data": {
            "text/plain": [
              "<Figure size 720x360 with 2 Axes>"
            ],
            "image/png": "[encoded data removed]"
          },
          "metadata": {
            "needs_background": "light"
          }
        }
      ]
    },
    {
      "cell_type": "markdown",
      "source": [
        "### Observations on Brief Comments"
      ],
      "metadata": {
        "id": "ul1yEMvVTLcp"
      }
    },
    {
      "cell_type": "code",
      "source": [
        "#The histograms for comments sections highlight an interesting observation!\n",
        "#Most people, regardless of their feelings about the drugs,\n",
        "#tended to keep any comments in a given field under 500 words.\n",
        "g = sns.FacetGrid(dfall_pruned, col='rating', height=5)\n",
        "g.map(plt.hist, 'benefitsReview', bins=5)"
      ],
      "metadata": {
        "colab": {
          "base_uri": "https://localhost:8080/",
          "height": 386
        },
        "id": "SY4RQ0K_RdQ8",
        "outputId": "f90174a3-ddf4-47a6-c409-1ddb94d125e7"
      },
      "execution_count": null,
      "outputs": [
        {
          "output_type": "execute_result",
          "data": {
            "text/plain": [
              "<seaborn.axisgrid.FacetGrid at 0x7ff04e131890>"
            ]
          },
          "metadata": {},
          "execution_count": 298
        },
        {
          "output_type": "display_data",
          "data": {
            "text/plain": [
              "<Figure size 720x360 with 2 Axes>"
            ],
            "image/png": "[encoded data removed]"
          },
          "metadata": {
            "needs_background": "light"
          }
        }
      ]
    },
    {
      "cell_type": "code",
      "source": [
        "g = sns.FacetGrid(dfall_pruned, col='rating', height=5)\n",
        "g.map(plt.hist, 'sideEffectsReview', bins=5)"
      ],
      "metadata": {
        "colab": {
          "base_uri": "https://localhost:8080/",
          "height": 386
        },
        "id": "vJX1yICcRoHD",
        "outputId": "1a5df5cb-dd67-48a9-83db-c87d0dd09d7a"
      },
      "execution_count": null,
      "outputs": [
        {
          "output_type": "execute_result",
          "data": {
            "text/plain": [
              "<seaborn.axisgrid.FacetGrid at 0x7ff04e0baa90>"
            ]
          },
          "metadata": {},
          "execution_count": 299
        },
        {
          "output_type": "display_data",
          "data": {
            "text/plain": [
              "<Figure size 720x360 with 2 Axes>"
            ],
            "image/png": "[encoded data removed]"
          },
          "metadata": {
            "needs_background": "light"
          }
        }
      ]
    },
    {
      "cell_type": "code",
      "source": [
        "g = sns.FacetGrid(dfall_pruned, col='rating', height=5)\n",
        "g.map(plt.hist, 'commentsReview', bins=5)"
      ],
      "metadata": {
        "colab": {
          "base_uri": "https://localhost:8080/",
          "height": 386
        },
        "id": "FxP6v4piRogF",
        "outputId": "0be2caa1-c16c-49d1-8700-e118a54db692"
      },
      "execution_count": null,
      "outputs": [
        {
          "output_type": "execute_result",
          "data": {
            "text/plain": [
              "<seaborn.axisgrid.FacetGrid at 0x7ff04e107b90>"
            ]
          },
          "metadata": {},
          "execution_count": 300
        },
        {
          "output_type": "display_data",
          "data": {
            "text/plain": [
              "<Figure size 720x360 with 2 Axes>"
            ],
            "image/png": "[encoded data removed]"
          },
          "metadata": {
            "needs_background": "light"
          }
        }
      ]
    },
    {
      "cell_type": "code",
      "source": [
        "#majority of reviews in all categories \n",
        "#are in the 0-500 and 501-1000 ranges.\n",
        "#An extremely large amount are 0-500.\n",
        "print(\"benefitsReview: <=500, <=250, >500\")\n",
        "print(dfall_pruned['benefitsReview'][dfall_pruned['benefitsReview'] <= 500].count())\n",
        "print(dfall_pruned['benefitsReview'][dfall_pruned['benefitsReview'] <= 250].count())\n",
        "print(dfall_pruned['benefitsReview'][dfall_pruned['benefitsReview'] > 500].count())\n",
        "\n",
        "print(\"sideEffectsReview: <=500, <=250, >500\")\n",
        "print(dfall_pruned['sideEffectsReview'][dfall_pruned['sideEffectsReview'] <= 500].count())\n",
        "print(dfall_pruned['sideEffectsReview'][dfall_pruned['sideEffectsReview'] <= 250].count())\n",
        "print(dfall_pruned['sideEffectsReview'][dfall_pruned['sideEffectsReview'] > 500].count())\n",
        "\n",
        "print(\"sideEffectsReview: <=500, <=250, >500\")\n",
        "print(dfall_pruned['commentsReview'][dfall_pruned['commentsReview'] <= 500].count())\n",
        "print(dfall_pruned['commentsReview'][dfall_pruned['commentsReview'] <= 250].count())\n",
        "print(dfall_pruned['commentsReview'][dfall_pruned['commentsReview'] > 500].count())\n",
        "\n",
        "#Similary to the original data's initial skew towards positive responses\n",
        "#we will note this skew and see if it affects the model or not."
      ],
      "metadata": {
        "colab": {
          "base_uri": "https://localhost:8080/"
        },
        "id": "UU8SHE-VWVM8",
        "outputId": "8f6081d3-ff68-460b-88c1-3fff69869fda"
      },
      "execution_count": null,
      "outputs": [
        {
          "output_type": "stream",
          "name": "stdout",
          "text": [
            "benefitsReview: <=500, <=250, >500\n",
            "3898\n",
            "2863\n",
            "245\n",
            "sideEffectsReview: <=500, <=250, >500\n",
            "3892\n",
            "3103\n",
            "251\n",
            "sideEffectsReview: <=500, <=250, >500\n",
            "3552\n",
            "2423\n",
            "591\n"
          ]
        }
      ]
    },
    {
      "cell_type": "markdown",
      "source": [
        "##Pie Charts\n",
        "\n",
        "Supplemental pie charts to help us further visualize data in Graphs section.\n",
        "\n",
        "Because of the large number of unique values in comments columns count length they were not visualized here."
      ],
      "metadata": {
        "id": "inTfEdtZStCz"
      }
    },
    {
      "cell_type": "code",
      "source": [
        "fig, ax = plt.subplots(figsize=(5,5))\n",
        "ax.pie(x=dfall_pruned.effectiveness.value_counts(), \n",
        "       labels=dfall_pruned.effectiveness.value_counts().index,\n",
        "       autopct='%1.1f%%')\n",
        "ax.set_title('effectiveness')"
      ],
      "metadata": {
        "colab": {
          "base_uri": "https://localhost:8080/",
          "height": 336
        },
        "id": "SaZ29mTTSQ9L",
        "outputId": "4432c968-0384-4e45-ab59-805ebbb462e1"
      },
      "execution_count": null,
      "outputs": [
        {
          "output_type": "execute_result",
          "data": {
            "text/plain": [
              "Text(0.5, 1.0, 'effectiveness')"
            ]
          },
          "metadata": {},
          "execution_count": 303
        },
        {
          "output_type": "display_data",
          "data": {
            "text/plain": [
              "<Figure size 360x360 with 1 Axes>"
            ],
            "image/png": "[encoded data removed]"
          },
          "metadata": {}
        }
      ]
    },
    {
      "cell_type": "code",
      "source": [
        "fig, ax = plt.subplots(figsize=(5,5))\n",
        "ax.pie(x=dfall_pruned.sideEffects.value_counts(), \n",
        "       labels=dfall_pruned.sideEffects.value_counts().index,\n",
        "       autopct='%1.1f%%')\n",
        "ax.set_title('sideEffects')"
      ],
      "metadata": {
        "colab": {
          "base_uri": "https://localhost:8080/",
          "height": 336
        },
        "id": "ZrAbjLg-S0Jq",
        "outputId": "d9732737-4e12-43da-f380-bfec2efedf96"
      },
      "execution_count": null,
      "outputs": [
        {
          "output_type": "execute_result",
          "data": {
            "text/plain": [
              "Text(0.5, 1.0, 'sideEffects')"
            ]
          },
          "metadata": {},
          "execution_count": 304
        },
        {
          "output_type": "display_data",
          "data": {
            "text/plain": [
              "<Figure size 360x360 with 1 Axes>"
            ],
            "image/png": "[encoded data removed]"
          },
          "metadata": {}
        }
      ]
    },
    {
      "cell_type": "code",
      "source": [
        "#Preparing to split data\n",
        "\n",
        "# independent variables (All other factors)\n",
        "X = dfall_pruned.drop(['rating'], axis=1)\n",
        "# dependent/target variable (Positive (1) or Negative (-1) opinion)\n",
        "#y = dfall_pruned.rating\n",
        "y = dfall_pruned['rating'].to_numpy()\n",
        "y = y.reshape((y.shape[0], 1))"
      ],
      "metadata": {
        "id": "RH4TImKqVSsl",
        "colab": {
          "base_uri": "https://localhost:8080/",
          "height": 35
        },
        "outputId": "2565e077-7932-451d-f0a3-40e0742953ee"
      },
      "execution_count": null,
      "outputs": [
        {
          "output_type": "execute_result",
          "data": {
            "text/plain": [
              "'\\nX_train = X.iloc[:3107,:]\\nX_test = X.iloc[3107:,:]\\n\\ny_train = y.iloc[:3107]\\ny_test = y.iloc[3107:]\\n'"
            ],
            "application/vnd.google.colaboratory.intrinsic+json": {
              "type": "string"
            }
          },
          "metadata": {},
          "execution_count": 308
        }
      ]
    },
    {
      "cell_type": "code",
      "source": [
        "X"
      ],
      "metadata": {
        "colab": {
          "base_uri": "https://localhost:8080/",
          "height": 424
        },
        "id": "f3Mm6-7eiRsO",
        "outputId": "6d6acf21-d9bb-4c2c-e5cd-42ff290ba93d"
      },
      "execution_count": null,
      "outputs": [
        {
          "output_type": "execute_result",
          "data": {
            "text/plain": [
              "     effectiveness sideEffects  benefitsReview  sideEffectsReview  \\\n",
              "0                5           2             184                197   \n",
              "1                5           4             178                258   \n",
              "2                5           1             254                 42   \n",
              "3                2           2             598                111   \n",
              "4                2           4             114                150   \n",
              "...            ...         ...             ...                ...   \n",
              "4138             4           4             230                371   \n",
              "4139             5           1             306                 35   \n",
              "4140             4           3              31                 47   \n",
              "4141             5           1             162                169   \n",
              "4142             4           2             188                 91   \n",
              "\n",
              "      commentsReview  \n",
              "0                 65  \n",
              "1                 62  \n",
              "2                387  \n",
              "3                158  \n",
              "4                  9  \n",
              "...              ...  \n",
              "4138             218  \n",
              "4139             121  \n",
              "4140             262  \n",
              "4141             306  \n",
              "4142              36  \n",
              "\n",
              "[4143 rows x 5 columns]"
            ],
            "text/html": [
              "\n",
              "  <div id=\"df-332af552-9ea0-434c-8dd1-b7a96fc8d803\">\n",
              "    <div class=\"colab-df-container\">\n",
              "      <div>\n",
              "<style scoped>\n",
              "    .dataframe tbody tr th:only-of-type {\n",
              "        vertical-align: middle;\n",
              "    }\n",
              "\n",
              "    .dataframe tbody tr th {\n",
              "        vertical-align: top;\n",
              "    }\n",
              "\n",
              "    .dataframe thead th {\n",
              "        text-align: right;\n",
              "    }\n",
              "</style>\n",
              "<table border=\"1\" class=\"dataframe\">\n",
              "  <thead>\n",
              "    <tr style=\"text-align: right;\">\n",
              "      <th></th>\n",
              "      <th>effectiveness</th>\n",
              "      <th>sideEffects</th>\n",
              "      <th>benefitsReview</th>\n",
              "      <th>sideEffectsReview</th>\n",
              "      <th>commentsReview</th>\n",
              "    </tr>\n",
              "  </thead>\n",
              "  <tbody>\n",
              "    <tr>\n",
              "      <th>0</th>\n",
              "      <td>5</td>\n",
              "      <td>2</td>\n",
              "      <td>184</td>\n",
              "      <td>197</td>\n",
              "      <td>65</td>\n",
              "    </tr>\n",
              "    <tr>\n",
              "      <th>1</th>\n",
              "      <td>5</td>\n",
              "      <td>4</td>\n",
              "      <td>178</td>\n",
              "      <td>258</td>\n",
              "      <td>62</td>\n",
              "    </tr>\n",
              "    <tr>\n",
              "      <th>2</th>\n",
              "      <td>5</td>\n",
              "      <td>1</td>\n",
              "      <td>254</td>\n",
              "      <td>42</td>\n",
              "      <td>387</td>\n",
              "    </tr>\n",
              "    <tr>\n",
              "      <th>3</th>\n",
              "      <td>2</td>\n",
              "      <td>2</td>\n",
              "      <td>598</td>\n",
              "      <td>111</td>\n",
              "      <td>158</td>\n",
              "    </tr>\n",
              "    <tr>\n",
              "      <th>4</th>\n",
              "      <td>2</td>\n",
              "      <td>4</td>\n",
              "      <td>114</td>\n",
              "      <td>150</td>\n",
              "      <td>9</td>\n",
              "    </tr>\n",
              "    <tr>\n",
              "      <th>...</th>\n",
              "      <td>...</td>\n",
              "      <td>...</td>\n",
              "      <td>...</td>\n",
              "      <td>...</td>\n",
              "      <td>...</td>\n",
              "    </tr>\n",
              "    <tr>\n",
              "      <th>4138</th>\n",
              "      <td>4</td>\n",
              "      <td>4</td>\n",
              "      <td>230</td>\n",
              "      <td>371</td>\n",
              "      <td>218</td>\n",
              "    </tr>\n",
              "    <tr>\n",
              "      <th>4139</th>\n",
              "      <td>5</td>\n",
              "      <td>1</td>\n",
              "      <td>306</td>\n",
              "      <td>35</td>\n",
              "      <td>121</td>\n",
              "    </tr>\n",
              "    <tr>\n",
              "      <th>4140</th>\n",
              "      <td>4</td>\n",
              "      <td>3</td>\n",
              "      <td>31</td>\n",
              "      <td>47</td>\n",
              "      <td>262</td>\n",
              "    </tr>\n",
              "    <tr>\n",
              "      <th>4141</th>\n",
              "      <td>5</td>\n",
              "      <td>1</td>\n",
              "      <td>162</td>\n",
              "      <td>169</td>\n",
              "      <td>306</td>\n",
              "    </tr>\n",
              "    <tr>\n",
              "      <th>4142</th>\n",
              "      <td>4</td>\n",
              "      <td>2</td>\n",
              "      <td>188</td>\n",
              "      <td>91</td>\n",
              "      <td>36</td>\n",
              "    </tr>\n",
              "  </tbody>\n",
              "</table>\n",
              "<p>4143 rows × 5 columns</p>\n",
              "</div>\n",
              "      <button class=\"colab-df-convert\" onclick=\"convertToInteractive('df-332af552-9ea0-434c-8dd1-b7a96fc8d803')\"\n",
              "              title=\"Convert this dataframe to an interactive table.\"\n",
              "              style=\"display:none;\">\n",
              "        \n",
              "  <svg xmlns=\"http://www.w3.org/2000/svg\" height=\"24px\"viewBox=\"0 0 24 24\"\n",
              "       width=\"24px\">\n",
              "    <path d=\"M0 0h24v24H0V0z\" fill=\"none\"/>\n",
              "    <path d=\"M18.56 5.44l.94 2.06.94-2.06 2.06-.94-2.06-.94-.94-2.06-.94 2.06-2.06.94zm-11 1L8.5 8.5l.94-2.06 2.06-.94-2.06-.94L8.5 2.5l-.94 2.06-2.06.94zm10 10l.94 2.06.94-2.06 2.06-.94-2.06-.94-.94-2.06-.94 2.06-2.06.94z\"/><path d=\"M17.41 7.96l-1.37-1.37c-.4-.4-.92-.59-1.43-.59-.52 0-1.04.2-1.43.59L10.3 9.45l-7.72 7.72c-.78.78-.78 2.05 0 2.83L4 21.41c.39.39.9.59 1.41.59.51 0 1.02-.2 1.41-.59l7.78-7.78 2.81-2.81c.8-.78.8-2.07 0-2.86zM5.41 20L4 18.59l7.72-7.72 1.47 1.35L5.41 20z\"/>\n",
              "  </svg>\n",
              "      </button>\n",
              "      \n",
              "  <style>\n",
              "    .colab-df-container {\n",
              "      display:flex;\n",
              "      flex-wrap:wrap;\n",
              "      gap: 12px;\n",
              "    }\n",
              "\n",
              "    .colab-df-convert {\n",
              "      background-color: #E8F0FE;\n",
              "      border: none;\n",
              "      border-radius: 50%;\n",
              "      cursor: pointer;\n",
              "      display: none;\n",
              "      fill: #1967D2;\n",
              "      height: 32px;\n",
              "      padding: 0 0 0 0;\n",
              "      width: 32px;\n",
              "    }\n",
              "\n",
              "    .colab-df-convert:hover {\n",
              "      background-color: #E2EBFA;\n",
              "      box-shadow: 0px 1px 2px rgba(60, 64, 67, 0.3), 0px 1px 3px 1px rgba(60, 64, 67, 0.15);\n",
              "      fill: #174EA6;\n",
              "    }\n",
              "\n",
              "    [theme=dark] .colab-df-convert {\n",
              "      background-color: #3B4455;\n",
              "      fill: #D2E3FC;\n",
              "    }\n",
              "\n",
              "    [theme=dark] .colab-df-convert:hover {\n",
              "      background-color: #434B5C;\n",
              "      box-shadow: 0px 1px 3px 1px rgba(0, 0, 0, 0.15);\n",
              "      filter: drop-shadow(0px 1px 2px rgba(0, 0, 0, 0.3));\n",
              "      fill: #FFFFFF;\n",
              "    }\n",
              "  </style>\n",
              "\n",
              "      <script>\n",
              "        const buttonEl =\n",
              "          document.querySelector('#df-332af552-9ea0-434c-8dd1-b7a96fc8d803 button.colab-df-convert');\n",
              "        buttonEl.style.display =\n",
              "          google.colab.kernel.accessAllowed ? 'block' : 'none';\n",
              "\n",
              "        async function convertToInteractive(key) {\n",
              "          const element = document.querySelector('#df-332af552-9ea0-434c-8dd1-b7a96fc8d803');\n",
              "          const dataTable =\n",
              "            await google.colab.kernel.invokeFunction('convertToInteractive',\n",
              "                                                     [key], {});\n",
              "          if (!dataTable) return;\n",
              "\n",
              "          const docLinkHtml = 'Like what you see? Visit the ' +\n",
              "            '<a target=\"_blank\" href=https://colab.research.google.com/notebooks/data_table.ipynb>data table notebook</a>'\n",
              "            + ' to learn more about interactive tables.';\n",
              "          element.innerHTML = '';\n",
              "          dataTable['output_type'] = 'display_data';\n",
              "          await google.colab.output.renderOutput(dataTable, element);\n",
              "          const docLink = document.createElement('div');\n",
              "          docLink.innerHTML = docLinkHtml;\n",
              "          element.appendChild(docLink);\n",
              "        }\n",
              "      </script>\n",
              "    </div>\n",
              "  </div>\n",
              "  "
            ]
          },
          "metadata": {},
          "execution_count": 309
        }
      ]
    },
    {
      "cell_type": "code",
      "source": [
        "y"
      ],
      "metadata": {
        "colab": {
          "base_uri": "https://localhost:8080/"
        },
        "id": "M9BDKyUSiSPM",
        "outputId": "52e88d18-1c18-4cc4-9b3f-75a7ef51783d"
      },
      "execution_count": null,
      "outputs": [
        {
          "output_type": "execute_result",
          "data": {
            "text/plain": [
              "array([[-1],\n",
              "       [-1],\n",
              "       [ 1],\n",
              "       ...,\n",
              "       [ 1],\n",
              "       [ 1],\n",
              "       [ 1]])"
            ]
          },
          "metadata": {},
          "execution_count": 310
        }
      ]
    },
    {
      "cell_type": "code",
      "source": [
        "#train_test split\n",
        "X_train, X_test, y_train, y_test = train_test_split(X, y, test_size=0.2, random_state=42)\n",
        "# Use normalizer on each X data\n",
        "transformer = Normalizer(norm='max').fit(X_train)\n",
        "X_train = transformer.transform(X_train)\n",
        "X_test = transformer.transform(X_test)"
      ],
      "metadata": {
        "id": "sOppFBrTa0-h"
      },
      "execution_count": null,
      "outputs": []
    },
    {
      "cell_type": "code",
      "source": [
        "X_train"
      ],
      "metadata": {
        "colab": {
          "base_uri": "https://localhost:8080/"
        },
        "id": "Ugr2JVUqa10n",
        "outputId": "44daef4a-14e1-4632-b846-6349778f8c13"
      },
      "execution_count": null,
      "outputs": [
        {
          "output_type": "execute_result",
          "data": {
            "text/plain": [
              "array([[0.00840336, 0.00560224, 0.80952381, 0.05322129, 1.        ],\n",
              "       [0.01602564, 0.00641026, 0.17307692, 0.01282051, 1.        ],\n",
              "       [0.00796813, 0.00398406, 1.        , 0.39840637, 0.5059761 ],\n",
              "       ...,\n",
              "       [0.01144165, 0.00457666, 1.        , 0.71167048, 0.60411899],\n",
              "       [0.01550388, 0.01550388, 0.5503876 , 0.96511628, 1.        ],\n",
              "       [0.0059952 , 0.0059952 , 0.15347722, 0.51318945, 1.        ]])"
            ]
          },
          "metadata": {},
          "execution_count": 312
        }
      ]
    },
    {
      "cell_type": "code",
      "source": [
        "X_test"
      ],
      "metadata": {
        "colab": {
          "base_uri": "https://localhost:8080/"
        },
        "id": "0kQECMAya3LI",
        "outputId": "b84d33cf-a7e7-403f-a8c1-1ea0f7ab7bf8"
      },
      "execution_count": null,
      "outputs": [
        {
          "output_type": "execute_result",
          "data": {
            "text/plain": [
              "array([[0.00114679, 0.00229358, 0.12614679, 1.        , 0.25860092],\n",
              "       [0.01754386, 0.00350877, 1.        , 0.92982456, 0.99298246],\n",
              "       [0.0152439 , 0.00609756, 0.39634146, 0.13719512, 1.        ],\n",
              "       ...,\n",
              "       [0.01273885, 0.00636943, 1.        , 0.61783439, 0.39490446],\n",
              "       [0.00834725, 0.00166945, 0.87479132, 0.05175292, 1.        ],\n",
              "       [0.02898551, 0.00724638, 1.        , 0.6884058 , 0.51449275]])"
            ]
          },
          "metadata": {},
          "execution_count": 313
        }
      ]
    },
    {
      "cell_type": "code",
      "source": [
        "print(X_train.shape)\n",
        "print(X_test.shape)"
      ],
      "metadata": {
        "colab": {
          "base_uri": "https://localhost:8080/"
        },
        "id": "kyokYetpgDFU",
        "outputId": "2b1c0ea3-9685-48f8-d2e3-850bbe871997"
      },
      "execution_count": null,
      "outputs": [
        {
          "output_type": "stream",
          "name": "stdout",
          "text": [
            "(3314, 5)\n",
            "(829, 5)\n"
          ]
        }
      ]
    },
    {
      "cell_type": "code",
      "source": [
        "print(y_train.shape)\n",
        "print(y_test.shape)"
      ],
      "metadata": {
        "colab": {
          "base_uri": "https://localhost:8080/"
        },
        "id": "ztN7sNhmgGdM",
        "outputId": "c9371081-2c27-4a16-aa4e-4a2f17dde4a6"
      },
      "execution_count": null,
      "outputs": [
        {
          "output_type": "stream",
          "name": "stdout",
          "text": [
            "(3314, 1)\n",
            "(829, 1)\n"
          ]
        }
      ]
    },
    {
      "cell_type": "code",
      "source": [
        "len(X_train)"
      ],
      "metadata": {
        "colab": {
          "base_uri": "https://localhost:8080/"
        },
        "id": "94WXuv5-Uk8e",
        "outputId": "c8ad5809-ca9b-4a48-cdef-e5a1087f968f"
      },
      "execution_count": null,
      "outputs": [
        {
          "output_type": "execute_result",
          "data": {
            "text/plain": [
              "3314"
            ]
          },
          "metadata": {},
          "execution_count": 316
        }
      ]
    },
    {
      "cell_type": "markdown",
      "source": [
        "#Task 3"
      ],
      "metadata": {
        "id": "Xj79KATMa_yg"
      }
    },
    {
      "cell_type": "code",
      "source": [
        "#Logistic Regression Functions\n",
        "def sigmoid(z):\n",
        "  return 1/(1+ np.exp(-1*z))\n",
        "sigmoid_vector = np.vectorize(sigmoid)\n",
        "def calc_A(w,X,b):\n",
        "  return sigmoid_vector(np.dot(w.T,X) + b)\n",
        "def calc_cost(m,Y,A):\n",
        "  return -1/m * np.sum(Y * np.log(A) + (1-Y) * (np.log(1-A)))\n",
        "def calc_dw(X,A,Y,n):\n",
        "  return np.dot(X, (A-Y).T)/n\n",
        "def calc_db(A,Y,n):\n",
        "  return np.sum(A-Y)/n"
      ],
      "metadata": {
        "id": "Sd1GQyX_UUHW"
      },
      "execution_count": null,
      "outputs": []
    },
    {
      "cell_type": "code",
      "source": [
        "#use a seeded generator so that we can replicate results if needed\n",
        "randomgen = np.random.RandomState(seed=52313)\n",
        "\n",
        "#initialize weights\n",
        "init_w = randomgen.random((5,1)) \n",
        "print(init_w)\n",
        "print(init_w.shape)\n",
        "print(init_w.T)\n",
        "print(init_w.T.shape)\n",
        "\n",
        "#initialize coefficient\n",
        "init_b = randomgen.random() \n",
        "print(init_b)"
      ],
      "metadata": {
        "id": "IIO2yqUofK4e",
        "colab": {
          "base_uri": "https://localhost:8080/"
        },
        "outputId": "e661fb89-ce54-4d18-b42d-54f7800f7f2a"
      },
      "execution_count": null,
      "outputs": [
        {
          "output_type": "stream",
          "name": "stdout",
          "text": [
            "[[0.4063786 ]\n",
            " [0.0708369 ]\n",
            " [0.62235815]\n",
            " [0.00425435]\n",
            " [0.0704553 ]]\n",
            "(5, 1)\n",
            "[[0.4063786  0.0708369  0.62235815 0.00425435 0.0704553 ]]\n",
            "(1, 5)\n",
            "0.15659407112740387\n"
          ]
        }
      ]
    },
    {
      "cell_type": "code",
      "source": [
        "LEARNING_RATE=0.1\n",
        "\n",
        "#batch gradient decsent:\n",
        "def batch_gd(epochs, learning_rate = LEARNING_RATE, my_X = X_train.T, my_Y = y_train.T, w_start=init_w, b_start=init_b):\n",
        "  w = w_start\n",
        "  b = b_start\n",
        "  for i in range ( epochs ):\n",
        "      ####Evaluation####\n",
        "      n = X_train.shape[0]\n",
        "      m = y.shape[0]\n",
        "      \n",
        "      A=calc_A(w,my_X,b)\n",
        "      cost = calc_cost(m,my_Y,A)\n",
        "      dw = calc_dw(my_X,A,my_Y,n)\n",
        "      db = calc_db(A,my_Y,n)\n",
        "\n",
        "      ###Update###\n",
        "      w = w - learning_rate*dw\n",
        "      b = b - learning_rate*db\n",
        "  return (w,b)"
      ],
      "metadata": {
        "id": "kHMTcOPEwL7v"
      },
      "execution_count": null,
      "outputs": []
    },
    {
      "cell_type": "code",
      "source": [
        "#Stochastic gradient descent:\n",
        "\"\"\"\n",
        "for i in range ( nb_epochs ):\n",
        "  np.random.shuffle ( data )\n",
        "  for example in data :\n",
        "    params_grad = eval uate_gra dient ( loss_function , example , params )\n",
        "    params = params - learning_rate * params_grad\n",
        "\"\"\"\n",
        "\n",
        "#X_train_shuffle = X_train\n",
        "def stochastic_gd(epochs, learning_rate = LEARNING_RATE, my_X = X_train, my_Y = y_train, w_start=init_w, b_start=init_b):\n",
        "  w = w_start\n",
        "  b = b_start\n",
        "  for i in range ( epochs ):\n",
        "    randomize = np.arange(len(my_X))\n",
        "    np.random.shuffle(randomize)\n",
        "    my_X = my_X[randomize]\n",
        "    my_Y = my_Y[randomize]\n",
        "\n",
        "    for j in range(len(my_X)):\n",
        "      # need to select a x and a  y post-shuffle\n",
        "      my_example_X = my_X[j].T \n",
        "      my_example_Y = my_Y[j].T \n",
        "      my_example_X=my_example_X.reshape((my_example_X.shape[0], 1))\n",
        "      my_example_Y=my_example_Y.reshape((my_example_Y.shape[0], 1))\n",
        "\n",
        "      ####Evaluation####\n",
        "      n = my_example_X.shape[0]\n",
        "      m = my_example_Y.shape[0]\n",
        "\n",
        "      A=calc_A(w,my_example_X,b)\n",
        "      cost = calc_cost(m,my_example_Y,A)\n",
        "      dw = calc_dw(my_example_X,A,my_example_Y,n)\n",
        "      db = calc_db(A,my_example_Y,n)\n",
        "      ###Update###\n",
        "      w = w - learning_rate*dw\n",
        "      b = b - learning_rate*db\n",
        "  return (w,b)"
      ],
      "metadata": {
        "id": "KYA1Zzioz47l"
      },
      "execution_count": null,
      "outputs": []
    },
    {
      "cell_type": "code",
      "source": [
        "print(X_train[0:5])\n",
        "print(X_train.T[0])"
      ],
      "metadata": {
        "colab": {
          "base_uri": "https://localhost:8080/"
        },
        "id": "6RrKFp_R6Xti",
        "outputId": "f854c623-d81b-4060-94f8-e9c286ab3efc"
      },
      "execution_count": null,
      "outputs": [
        {
          "output_type": "stream",
          "name": "stdout",
          "text": [
            "[[0.00840336 0.00560224 0.80952381 0.05322129 1.        ]\n",
            " [0.01602564 0.00641026 0.17307692 0.01282051 1.        ]\n",
            " [0.00796813 0.00398406 1.         0.39840637 0.5059761 ]\n",
            " [0.03311258 0.00662252 1.         0.03311258 0.71523179]\n",
            " [0.01730104 0.00692042 0.10380623 0.0899654  1.        ]]\n",
            "[0.00840336 0.01602564 0.00796813 ... 0.01144165 0.01550388 0.0059952 ]\n"
          ]
        }
      ]
    },
    {
      "cell_type": "markdown",
      "source": [
        "We demonstrate a single 'set' of 50 epochs training for BGD and SGD."
      ],
      "metadata": {
        "id": "1xgH84ufG7jw"
      }
    },
    {
      "cell_type": "code",
      "source": [
        "#generate the corresponding weights and offset \n",
        "#for our logistic regression curve - batch_gd verison\n",
        "start = time.time()\n",
        "batch_res = batch_gd(50)\n",
        "end = time.time()\n",
        "print(\"Time elapsed for batch: \" + str(end - start))\n",
        "batch_w = batch_res[0]\n",
        "batch_b = batch_res[1]"
      ],
      "metadata": {
        "colab": {
          "base_uri": "https://localhost:8080/"
        },
        "id": "JamuNiKAlDFj",
        "outputId": "f8a3d18a-aff1-4675-82ea-bba9da43f87e"
      },
      "execution_count": null,
      "outputs": [
        {
          "output_type": "stream",
          "name": "stdout",
          "text": [
            "Time elapsed for batch: 0.2139911651611328\n"
          ]
        }
      ]
    },
    {
      "cell_type": "code",
      "source": [
        "print(batch_w)\n",
        "print(batch_b)"
      ],
      "metadata": {
        "colab": {
          "base_uri": "https://localhost:8080/"
        },
        "id": "Xy8rLlBEXAR4",
        "outputId": "f2f0701a-498c-426f-82f1-e2a57b17ddf5"
      },
      "execution_count": null,
      "outputs": [
        {
          "output_type": "stream",
          "name": "stdout",
          "text": [
            "[[ 0.41614169]\n",
            " [ 0.05806669]\n",
            " [ 0.78286215]\n",
            " [-0.44780868]\n",
            " [-0.15825452]]\n",
            "-0.23114848858408388\n"
          ]
        }
      ]
    },
    {
      "cell_type": "code",
      "source": [
        "#generate the corresponding weights and offset \n",
        "#for our logistic regression curve - stochastic_gd version\n",
        "start = time.time()\n",
        "sto_res = stochastic_gd(50)\n",
        "end = time.time()\n",
        "print(\"Time elapsed for sto: \" + str(end - start))\n",
        "sto_w = sto_res[0]\n",
        "sto_b = sto_res[1]"
      ],
      "metadata": {
        "colab": {
          "base_uri": "https://localhost:8080/"
        },
        "id": "PaGeT96Jx50Q",
        "outputId": "122f8cf9-1dae-43cd-ac88-986fc826fe14"
      },
      "execution_count": null,
      "outputs": [
        {
          "output_type": "stream",
          "name": "stdout",
          "text": [
            "Time elapsed for sto: 12.135244369506836\n"
          ]
        }
      ]
    },
    {
      "cell_type": "code",
      "source": [
        "print(sto_w)\n",
        "print(sto_b)"
      ],
      "metadata": {
        "colab": {
          "base_uri": "https://localhost:8080/"
        },
        "id": "aLEi7koYSxpU",
        "outputId": "5a27092a-b070-4a53-ebac-7c2e80b986ea"
      },
      "execution_count": null,
      "outputs": [
        {
          "output_type": "stream",
          "name": "stdout",
          "text": [
            "[[ 7.12314862]\n",
            " [-5.91648693]\n",
            " [ 8.4365184 ]\n",
            " [-4.44960325]\n",
            " [ 4.99717923]]\n",
            "-7.727239780752344\n"
          ]
        }
      ]
    },
    {
      "cell_type": "code",
      "source": [
        "# compute predicted y's\n",
        "# Ultimately, we're just looking to see if a predicted opinion is POSITIVE or NEGATIVE.\n",
        "#so we only care for the signs\n",
        "y_batch_train = X_train @ batch_w + batch_b\n",
        "y_sto_train = X_train @ sto_w + sto_b\n",
        "y_batch_train = np.sign(y_batch_train)\n",
        "y_sto_train = np.sign(y_sto_train)\n",
        "print(\"Batch Train accuracy: \" + str(np.sum(y_batch_train == y_train)/y_batch_train.shape[0]))\n",
        "print(\"Sto Train accuracy: \" + str(np.sum(y_sto_train == y_train)/y_sto_train.shape[0]))\n",
        "\n",
        "\n",
        "#Our model has only been trained on a relatively small dataset\n",
        "#for a short amount of time\n",
        "#so it's reasonable to expect that accuracy is not far about 50%."
      ],
      "metadata": {
        "colab": {
          "base_uri": "https://localhost:8080/"
        },
        "id": "9-3E--iwEYrU",
        "outputId": "4ebd5abc-a2c3-497e-f8f9-f88a75764938"
      },
      "execution_count": null,
      "outputs": [
        {
          "output_type": "stream",
          "name": "stdout",
          "text": [
            "Batch Train accuracy: 0.5612552806276403\n",
            "Sto Train accuracy: 0.5781532890766445\n"
          ]
        }
      ]
    },
    {
      "cell_type": "code",
      "source": [
        "#Get the predicted ys and accuracy\n",
        "\n",
        "print(X_test.shape)\n",
        "print(y_test.shape)\n",
        "\n",
        "print(sto_w.shape)\n",
        "print(sto_b.shape)\n",
        "\n",
        "#X_test[0]\n",
        "#(np.matmul(X_test[0],sto_w)) + sto_b"
      ],
      "metadata": {
        "colab": {
          "base_uri": "https://localhost:8080/"
        },
        "id": "8Gv_ig_AXFR4",
        "outputId": "18b396ed-ee5d-4576-bb35-b7a0b4e0ae75"
      },
      "execution_count": null,
      "outputs": [
        {
          "output_type": "stream",
          "name": "stdout",
          "text": [
            "(829, 5)\n",
            "(829, 1)\n",
            "(5, 1)\n",
            "()\n"
          ]
        }
      ]
    },
    {
      "cell_type": "code",
      "source": [
        "# compute predicted y's\n",
        "y_batch = X_test @ batch_w + batch_b\n",
        "y_sha =  X_test @ sto_w + sto_b\n",
        "# Ultimately, we're just looking to see \n",
        "#if a predicted opinion is POSITIVE or NEGATIVE.\n",
        "#so we only care for the signs\n",
        "y_batch = np.sign(y_batch)\n",
        "y_sha = np.sign(y_sha)"
      ],
      "metadata": {
        "id": "5zqZJzokdvSa"
      },
      "execution_count": null,
      "outputs": []
    },
    {
      "cell_type": "code",
      "source": [
        "print(y_batch[0:10])"
      ],
      "metadata": {
        "colab": {
          "base_uri": "https://localhost:8080/"
        },
        "id": "7yjq-eW-ndss",
        "outputId": "48cc5373-a72e-4f4b-ad74-6eb543972bb9"
      },
      "execution_count": null,
      "outputs": [
        {
          "output_type": "stream",
          "name": "stdout",
          "text": [
            "[[-1.]\n",
            " [-1.]\n",
            " [-1.]\n",
            " [ 1.]\n",
            " [-1.]\n",
            " [ 1.]\n",
            " [-1.]\n",
            " [-1.]\n",
            " [ 1.]\n",
            " [-1.]]\n"
          ]
        }
      ]
    },
    {
      "cell_type": "code",
      "source": [
        "#repeat 4 more time to see if there are improvements\n",
        "for i in range (1, 5):\n",
        "  print(\"Round \" + str((i*50)+50))\n",
        "  #generate the corresponding weights and offset \n",
        "  #for our logistic regression curve - batch_gd verison\n",
        "  start = time.time()\n",
        "  batch_res = batch_gd(50, w_start=batch_w, b_start=batch_b)\n",
        "  end = time.time()\n",
        "  print(\"Time elapsed for batch: \" + str(end - start))\n",
        "  batch_w = batch_res[0]\n",
        "  batch_b = batch_res[1]\n",
        "  #generate the corresponding weights and offset \n",
        "  #for our logistic regression curve - stochastic_gd version\n",
        "  start = time.time()\n",
        "  sto_res = stochastic_gd(50, w_start=sto_w, b_start=sto_b)\n",
        "  end = time.time()\n",
        "  print(\"Time elapsed for sto: \" + str(end - start))\n",
        "  sto_w = sto_res[0]\n",
        "  sto_b = sto_res[1]\n",
        "  y_batch_train = X_train @ batch_w + batch_b\n",
        "  y_sto_train = X_train @ sto_w + sto_b\n",
        "  y_batch_train = np.sign(y_batch_train)\n",
        "  y_sto_train = np.sign(y_sto_train)\n",
        "  print(\"Batch Train accuracy: \" + str(np.sum(y_batch_train == y_train)/y_batch_train.shape[0]))\n",
        "  print(\"Sto Train accuracy: \" + str(np.sum(y_sto_train == y_train)/y_sto_train.shape[0]))\n",
        "\n",
        "#more epochs trained = generally better accuracy"
      ],
      "metadata": {
        "colab": {
          "base_uri": "https://localhost:8080/"
        },
        "id": "Gx4sRsdrD6QV",
        "outputId": "6d21d2ad-6e2c-458a-c15c-a708a931fd3d"
      },
      "execution_count": null,
      "outputs": [
        {
          "output_type": "stream",
          "name": "stdout",
          "text": [
            "Round 100\n",
            "Time elapsed for batch: 0.19092130661010742\n",
            "Time elapsed for sto: 12.124550819396973\n",
            "Batch Train accuracy: 0.5564272782136391\n",
            "Sto Train accuracy: 0.5929390464695232\n",
            "Round 150\n",
            "Time elapsed for batch: 0.1574268341064453\n",
            "Time elapsed for sto: 11.696076393127441\n",
            "Batch Train accuracy: 0.5642727821363911\n",
            "Sto Train accuracy: 0.6258298129149065\n",
            "Round 200\n",
            "Time elapsed for batch: 0.15480732917785645\n",
            "Time elapsed for sto: 12.053049564361572\n",
            "Batch Train accuracy: 0.5687990343995172\n",
            "Sto Train accuracy: 0.6333735666867834\n",
            "Round 250\n",
            "Time elapsed for batch: 0.15139985084533691\n",
            "Time elapsed for sto: 11.375460863113403\n",
            "Batch Train accuracy: 0.5757392878696439\n",
            "Sto Train accuracy: 0.6004828002414001\n"
          ]
        }
      ]
    },
    {
      "cell_type": "code",
      "source": [
        "print(\"w,b for batch\")\n",
        "print(batch_w,batch_b)\n",
        "print(\"w,b for sto\")\n",
        "print(sto_w,sto_b)\n",
        "\n",
        "print(\"Batch Test accuracy: \" + str(np.sum(y_batch == y_test)/y_batch.shape[0]))\n",
        "print(\"Sto Test accuracy: \" + str(np.sum(y_sha == y_test)/y_sha.shape[0]))\n"
      ],
      "metadata": {
        "colab": {
          "base_uri": "https://localhost:8080/"
        },
        "id": "80YTYYB5fF46",
        "outputId": "ba222752-ca51-42f5-e24c-70353449afe9"
      },
      "execution_count": null,
      "outputs": [
        {
          "output_type": "stream",
          "name": "stdout",
          "text": [
            "w,b for batch\n",
            "[[ 0.47195729]\n",
            " [ 0.02011831]\n",
            " [ 1.77869321]\n",
            " [-1.26296906]\n",
            " [-0.0876019 ]] -0.542435464529532\n",
            "w,b for sto\n",
            "[[ 29.95586562]\n",
            " [-30.28905047]\n",
            " [  8.53640229]\n",
            " [ -4.3864141 ]\n",
            " [  5.08341025]] -7.821145568892518\n",
            "Batch Test accuracy: 0.5211097708082026\n",
            "Sto Test accuracy: 0.5452352231604343\n"
          ]
        }
      ]
    },
    {
      "cell_type": "markdown",
      "source": [
        "#Task 4"
      ],
      "metadata": {
        "id": "0AEKlVSw92oR"
      }
    },
    {
      "cell_type": "markdown",
      "source": [
        "##Optimization 1 - Momentum "
      ],
      "metadata": {
        "id": "g3hcOXWPMcUo"
      }
    },
    {
      "cell_type": "code",
      "source": [
        "#now, we keep the last step update's data\n",
        "#and add a fraction of it to the current update\n",
        "MOMENTUM_FACTOR = 0.9\n",
        "#X_train_shuffle = X_train\n",
        "def stochastic_momentum_gd(epochs, prev_w, prev_b, learning_rate = LEARNING_RATE, \n",
        "                           my_X = X_train, my_Y = y_train, w_start=init_w, \n",
        "                           b_start=init_b, mom_factor = MOMENTUM_FACTOR):\n",
        "  w = w_start\n",
        "  b = b_start\n",
        "  previous_w = prev_w\n",
        "  previous_b = prev_b\n",
        "  for i in range ( epochs ):\n",
        "    randomize = np.arange(len(my_X))\n",
        "    np.random.shuffle(randomize)\n",
        "    my_X = my_X[randomize]\n",
        "    my_Y = my_Y[randomize]\n",
        "\n",
        "    #stochiastic step the same as before\n",
        "    for j in range(len(my_X)):\n",
        "      #X and Y:\n",
        "      my_example_X = my_X[j].T \n",
        "      my_example_Y = my_Y[j].T \n",
        "      my_example_X=my_example_X.reshape((my_example_X.shape[0], 1))\n",
        "      my_example_Y=my_example_Y.reshape((my_example_Y.shape[0], 1))\n",
        "\n",
        "\n",
        "      ####Evaluation####\n",
        "      n = my_example_X.shape[0]\n",
        "      m = my_example_Y.shape[0]\n",
        "\n",
        "      A=calc_A(w,my_example_X,b)\n",
        "      cost = calc_cost(m,my_example_Y,A)\n",
        "      dw = calc_dw(my_example_X,A,my_example_Y,n)\n",
        "      db = calc_db(A,my_example_Y,n)\n",
        "\n",
        "      ###Update###\n",
        "      w = w - (learning_rate*dw) - (previous_w * MOMENTUM_FACTOR)\n",
        "      b = b - (learning_rate*db) - (previous_b * MOMENTUM_FACTOR)\n",
        "\n",
        "      #record the step's w and b for momentum use for next step\n",
        "      previous_w=w\n",
        "      previous_b=b\n",
        "\n",
        "  #We also return previous factors so that they \n",
        "  #can be saved for further momentum training\n",
        "  return [w,b,previous_w,previous_b]"
      ],
      "metadata": {
        "id": "7GtjDGH992Ch"
      },
      "execution_count": null,
      "outputs": []
    },
    {
      "cell_type": "code",
      "source": [
        "stomom_w = init_w\n",
        "stomom_b = init_b\n",
        "prev_stomom_w = np.zeros((5,1))\n",
        "prev_stomom_b = 0\n",
        "\n",
        "#repeat 5 time\n",
        "for i in range (1, 6):\n",
        "  print(\"Epoch \" + str((i*50)))\n",
        "  start = time.time()\n",
        "  stomom_res = stochastic_momentum_gd(50, prev_w=prev_stomom_w, prev_b=prev_stomom_b,\n",
        "                                      w_start=stomom_w, b_start=stomom_b\n",
        "                                      )\n",
        "  end = time.time()\n",
        "  print(\"Time elapsed for sto-momentum: \" + str(end - start))\n",
        "  stomom_w = stomom_res[0]\n",
        "  stomom_b = stomom_res[1]\n",
        "  prev_stomom_w = stomom_res[2]\n",
        "  prev_stomom_b = stomom_res[3]\n",
        "  y_stomom_train = X_train @ stomom_w + stomom_b\n",
        "  y_stomom_train = np.sign(y_stomom_train)\n",
        "  print(\"Sto-Momentum Train accuracy: \" \n",
        "        + str(np.sum(y_stomom_train == y_train)/y_stomom_train.shape[0]))"
      ],
      "metadata": {
        "colab": {
          "base_uri": "https://localhost:8080/"
        },
        "id": "BoLGaEhRQ4Xb",
        "outputId": "4d71fef7-2694-47e5-ec53-9e5fce19a4c5"
      },
      "execution_count": null,
      "outputs": [
        {
          "output_type": "stream",
          "name": "stdout",
          "text": [
            "Epoch 50\n",
            "Time elapsed for sto-momentum: 13.887964248657227\n",
            "Sto-Momentum Train accuracy: 0.7260108630054315\n",
            "Epoch 100\n",
            "Time elapsed for sto-momentum: 14.96241307258606\n",
            "Sto-Momentum Train accuracy: 0.7260108630054315\n",
            "Epoch 150\n",
            "Time elapsed for sto-momentum: 14.771312713623047\n",
            "Sto-Momentum Train accuracy: 0.2739891369945685\n",
            "Epoch 200\n",
            "Time elapsed for sto-momentum: 13.856951236724854\n",
            "Sto-Momentum Train accuracy: 0.7260108630054315\n",
            "Epoch 250\n",
            "Time elapsed for sto-momentum: 14.521530866622925\n",
            "Sto-Momentum Train accuracy: 0.7260108630054315\n"
          ]
        }
      ]
    },
    {
      "cell_type": "code",
      "source": [
        "print(\"w,b for stomom\")\n",
        "print(stomom_w,stomom_b)\n",
        "\n",
        "y_stomom_test = X_test @ stomom_w + stomom_b\n",
        "y_stomom_test = np.sign(y_stomom_test)\n",
        "print(\"Stomom Test accuracy: \" + \n",
        "      str(np.sum(y_stomom_test == y_test)/y_stomom_test.shape[0]))\n",
        "\n"
      ],
      "metadata": {
        "colab": {
          "base_uri": "https://localhost:8080/"
        },
        "id": "0UEfAc4iTFfq",
        "outputId": "b95212d4-007f-46ec-ba63-168e6edb893a"
      },
      "execution_count": null,
      "outputs": [
        {
          "output_type": "stream",
          "name": "stdout",
          "text": [
            "w,b for stomom\n",
            "[[3.86191436e-05]\n",
            " [6.64180118e-06]\n",
            " [1.01177746e-03]\n",
            " [8.64617148e-04]\n",
            " [5.40220772e-04]] 0.000713338774426238\n",
            "Stomom Test accuracy: 0.7346200241254524\n"
          ]
        }
      ]
    },
    {
      "cell_type": "markdown",
      "source": [
        "##Thoughts on Momentum Optimization\n",
        "\n",
        "The resulting accuracy seems sound but recall that the data is imbalanced in two aspects: there are a lot more positive responses than negative ones, and review length in the data is generallly skewed in favor of shorter responses. The prediction accuracy in training data in general was extremely similar to the distribution of positive/negative answers in the original dataset:\n",
        "\n",
        " 1    0.727734\n",
        "\n",
        "-1    0.272266\n",
        "\n",
        "It is likely the momentum optimization caused the SGD to move \"too fast\" in favor of a large amount of positive (and in once instance, negative) answers and overfit its weights to the training data. It could be argued that given the high accuracy in the test set (73% with Momentum SGD vs 54% with SGD and 52% with Batch) that this may not be a bad thing if all drug data follows the same trends but we can't guarantee that this will be the case in future drug trials. In other words, we should probably avoid using \"regular\" momentum for this problem, especially if the data we have to work with is so unbalanced.\n",
        "\n",
        "\n",
        "We can speculate a little bit on the contributing factors to the problem of the data being greatly imbalanced towards positive answers - many of the drugs used in this dataset were prescription drugs like Lexapro and Zoloft that have been prescribed to millions of people every year - it's generally unlikely that a drug used in this context would be ineffective.  "
      ],
      "metadata": {
        "id": "81oRtAeZIA9d"
      }
    },
    {
      "cell_type": "markdown",
      "source": [
        "##Optimization 2 - Nesterov accelerated gradient\n",
        "\n",
        "Now would be a good time to determine if a more controlled version of momentum would avoid quickly overfitting to the data. We will now try and implement Nesterov accelerated gradient, where we first subtract the momentum term from the parameter terms (weight, coefficient) in the evaluation step. This lets us try to \"look ahead\" and avoid large jumps in the gradient, which hopefully will let us get a better fit in the data without overfitting due to large numbers of positive answers [1]. "
      ],
      "metadata": {
        "id": "SuRx8AwdMifR"
      }
    },
    {
      "cell_type": "code",
      "source": [
        "def stochastic_nesterov_gd(epochs, prev_w, prev_b, learning_rate = LEARNING_RATE, \n",
        "                           my_X = X_train, my_Y = y_train, w_start=init_w, \n",
        "                           b_start=init_b, mom_factor = MOMENTUM_FACTOR):\n",
        "  w = w_start\n",
        "  b = b_start\n",
        "  previous_w = prev_w\n",
        "  previous_b = prev_b\n",
        "  for i in range ( epochs ):\n",
        "    randomize = np.arange(len(my_X))\n",
        "    np.random.shuffle(randomize)\n",
        "    my_X = my_X[randomize]\n",
        "    my_Y = my_Y[randomize]\n",
        "\n",
        "    #stochiastic step the same as before\n",
        "    for j in range(len(my_X)):\n",
        "      #X and Y\n",
        "      my_example_X = my_X[j].T \n",
        "      my_example_Y = my_Y[j].T \n",
        "      my_example_X=my_example_X.reshape((my_example_X.shape[0], 1))\n",
        "      my_example_Y=my_example_Y.reshape((my_example_Y.shape[0], 1))\n",
        "\n",
        "      ####Evaluation####\n",
        "      n = my_example_X.shape[0]\n",
        "      m = my_example_Y.shape[0]\n",
        "      #Nesterov accelerated \"look-ahead\" modification\n",
        "      w = w - (previous_w * MOMENTUM_FACTOR)\n",
        "      b = b - (previous_b * MOMENTUM_FACTOR)\n",
        "\n",
        "      A=calc_A(w,my_example_X,b)\n",
        "      cost = calc_cost(m,my_example_Y,A)\n",
        "      dw = calc_dw(my_example_X,A,my_example_Y,n)\n",
        "      db = calc_db(A,my_example_Y,n)\n",
        "      ###Update###\n",
        "      w = w - (learning_rate*dw) - (previous_w * MOMENTUM_FACTOR)\n",
        "      b = b - (learning_rate*db) - (previous_b * MOMENTUM_FACTOR)\n",
        "      #record the step's w and b for momentum use for next step\n",
        "      previous_w=w\n",
        "      previous_b=b\n",
        "  #return previous factors so that they \n",
        "  #can be saved for further momentum training\n",
        "  return [w,b,previous_w,previous_b]"
      ],
      "metadata": {
        "id": "Gw5ROqeoAqTe"
      },
      "execution_count": null,
      "outputs": []
    },
    {
      "cell_type": "code",
      "source": [
        "#Appears to behave mostly similar to its gradient counterpart.\n",
        "\n",
        "stonester_w = init_w\n",
        "stonester_b = init_b\n",
        "prev_stonester_w = np.zeros((5,1))\n",
        "prev_stonester_b = 0\n",
        "\n",
        "#repeat 5 time\n",
        "for i in range (1, 6):\n",
        "  print(\"Epoch \" + str((i*50)))\n",
        "  start = time.time()\n",
        "  stonester_res = stochastic_nesterov_gd(50, prev_w=prev_stonester_w, prev_b=prev_stonester_b,\n",
        "                                      w_start=stonester_w, b_start=stonester_b\n",
        "                                      )\n",
        "  end = time.time()\n",
        "  print(\"Time elapsed for sto-nesterov: \" + str(end - start))\n",
        "  stonester_w = stonester_res[0]\n",
        "  stonester_b = stonester_res[1]\n",
        "  prev_stonester_w = stonester_res[2]\n",
        "  prev_stonester_b = stonester_res[3]\n",
        "  y_stonester_train = X_train @ stonester_w + stonester_b\n",
        "  y_stonester_train = np.sign(y_stonester_train)\n",
        "  print(\"Sto-Nesterov Train accuracy: \" \n",
        "        + str(np.sum(y_stonester_train == y_train)/y_stonester_train.shape[0]))"
      ],
      "metadata": {
        "colab": {
          "base_uri": "https://localhost:8080/"
        },
        "id": "r3MqZA6ceWTK",
        "outputId": "7e221d6d-e953-4b15-907d-e6fb7657f2c1"
      },
      "execution_count": null,
      "outputs": [
        {
          "output_type": "stream",
          "name": "stdout",
          "text": [
            "Epoch 50\n",
            "Time elapsed for sto-nesterov: 14.3397696018219\n",
            "Sto-Nesterov Train accuracy: 0.37356668678334337\n",
            "Epoch 100\n",
            "Time elapsed for sto-nesterov: 14.054285764694214\n",
            "Sto-Nesterov Train accuracy: 0.7260108630054315\n",
            "Epoch 150\n",
            "Time elapsed for sto-nesterov: 13.633586883544922\n",
            "Sto-Nesterov Train accuracy: 0.6388050694025347\n",
            "Epoch 200\n",
            "Time elapsed for sto-nesterov: 14.40108871459961\n",
            "Sto-Nesterov Train accuracy: 0.7410983705491853\n",
            "Epoch 250\n",
            "Time elapsed for sto-nesterov: 14.742513179779053\n",
            "Sto-Nesterov Train accuracy: 0.7260108630054315\n"
          ]
        }
      ]
    },
    {
      "cell_type": "code",
      "source": [
        "print(\"w,b for stonester\")\n",
        "print(stonester_w,stonester_b)\n",
        "\n",
        "y_stonester_test = X_test @ stonester_w + stonester_b\n",
        "y_stonester_test = np.sign(y_stonester_test)\n",
        "print(\"Stonester Test accuracy: \" + \n",
        "      str(np.sum(y_stonester_test == y_test)/y_stonester_test.shape[0]))"
      ],
      "metadata": {
        "colab": {
          "base_uri": "https://localhost:8080/"
        },
        "id": "grva2EybfSw6",
        "outputId": "8b034ccd-0650-49de-a67e-42831405c85c"
      },
      "execution_count": null,
      "outputs": [
        {
          "output_type": "stream",
          "name": "stdout",
          "text": [
            "w,b for stonester\n",
            "[[0.00040127]\n",
            " [0.00025183]\n",
            " [0.00988823]\n",
            " [0.00230443]\n",
            " [0.01181438]] 0.007232898478675594\n",
            "Stonester Test accuracy: 0.7346200241254524\n"
          ]
        }
      ]
    },
    {
      "cell_type": "markdown",
      "source": [
        "##Thoughts on Nesterov Optimization \n",
        "\n",
        "Using the Nesterov optimization to control the momentum's impact on SGD was successful - the accuracy rate of the ouput weights is no longer  identical to the positive/negative distribution during in training, and varies in a manner that suggests a more plausible set of weights and coefficient is being developed. We can confidently recommend Nesterov Optimization as a result because the controlled momentum is able to find a w/b that is a more accurate combination without quickly overfitting to the training set even when an imbalance is present.\n",
        "\n",
        "##Closing Thought on Comment Length\n",
        "\n",
        "It is worth noting that roughly 90% of the comments were all of \"brief\" (0-500 character) length.  We can speculate that comments will generally be brief due to the nature of people wanting to quickly complete an online review, and some review websites may even have character limits to prevent reviews from becoming overly verbose. In other words, this trend would likely be present in similar datasets as well. \n",
        "\n",
        "While we can have a model try to account for the remaining 10% of verbose comments as was done here, a future study would likely be able to get more meaning from comment lengths by dividing the reviews into buckets of 100s (0-100, 101-200, etc... with any reviews of length above 500 characters going into a dedicated 500+ bucket)."
      ],
      "metadata": {
        "id": "xOSvhZkDOtNW"
      }
    },
    {
      "cell_type": "markdown",
      "source": [
        "#References\n",
        "\n",
        "[1] Ruder, Sebastian. \"An overview of gradient descent optimization algorithms.\" arXiv preprint arXiv:1609.04747 (2016)."
      ],
      "metadata": {
        "id": "5vo63KskPxzP"
      }
    }
  ]
}