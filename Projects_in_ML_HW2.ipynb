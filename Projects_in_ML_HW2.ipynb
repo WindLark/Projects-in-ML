{
  "nbformat": 4,
  "nbformat_minor": 0,
  "metadata": {
    "colab": {
      "provenance": [],
      "toc_visible": true,
      "collapsed_sections": [
        "tkDn6LhW5MC0"
      ]
    },
    "kernelspec": {
      "name": "python3",
      "display_name": "Python 3"
    },
    "language_info": {
      "name": "python"
    }
  },
  "cells": [
    {
      "cell_type": "markdown",
      "source": [
        "#Task 0 - Information from HW1\n",
        "\n",
        "[Google Colab Link](https://colab.research.google.com/drive/1CRpz5m5P3lNN-3FVZge8Ih_6fUm03_k4?usp=sharing)\n",
        "\n",
        "Dataset used:\n",
        "\n",
        "[**Drug Review Dataset (Druglib.com) Data Set**](https://archive.ics.uci.edu/ml/datasets/Drug+Review+Dataset+%28Druglib.com%29)\n",
        "\n",
        "Provided by Surya Kallumadi and Felix Gräßer\n",
        "\n",
        "Given the following parameters:\n",
        "\n",
        "\n",
        "1. urlDrugName (categorical): name of drug\n",
        "2. condition (categorical): name of condition\n",
        "3. benefitsReview (text): patient on benefits\n",
        "4. sideEffectsReview (text): patient on side effects\n",
        "5. commentsReview (text): overall patient comment\n",
        "6. rating (numerical): 10 star patient rating\n",
        "7. sideEffects (categorical): 5 step side effect rating\n",
        "8. effectiveness (categorical): 5 step effectiveness rating\n",
        "\n",
        "We want to determine how any properties we can quantify such as sideEffects and Effectiveness will affect whether a patient feels overall positively (6-10) or negatively (1-5)  about a drug given to them. This is important becuase we want patients to have confidence that the drugs given to them work. As a hypothetical example, patients wouldn't likely want a drug with lots of sideeffects and little effectiveness.\n",
        "\n",
        "The problem is a good logistic regression problem because we can abstract the rating scale out to make it a more general binary classification of whether patients consider a drug \"effective\"\n",
        "or \"not effective\". We can then take other factors such\n",
        "as sideEffect and effectiveness evaluation and then determine\n",
        "if it is possible to predict perceived effectiveness or non-effectiveness based on trends in the individual factor ratings.\n",
        "\n",
        "To stay consistent with HW1, we select accuracy as one of our chosen metrics, but will explore if we can use another metric to evaluate performance."
      ],
      "metadata": {
        "id": "SSVFQssdbHdc"
      }
    },
    {
      "cell_type": "code",
      "execution_count": null,
      "metadata": {
        "id": "HzzJRb_a5HsE"
      },
      "outputs": [],
      "source": [
        "# import required libraries\n",
        "import pandas as pd\n",
        "import matplotlib.pyplot as plt\n",
        "import seaborn as sns\n",
        "import numpy as np\n",
        "from sklearn.model_selection import train_test_split\n",
        "from sklearn.preprocessing import Normalizer\n",
        "import time\n",
        "import math\n",
        "import warnings\n",
        "from sklearn import tree\n",
        "from sklearn.metrics import accuracy_score\n",
        "from sklearn.metrics import precision_score\n",
        "from sklearn.metrics import recall_score\n",
        "warnings.filterwarnings(\"ignore\")"
      ]
    },
    {
      "cell_type": "markdown",
      "source": [
        "#Loading and Processing Data\n",
        "\n",
        "This is functionally the the same process as it was in HW1."
      ],
      "metadata": {
        "id": "tkDn6LhW5MC0"
      }
    },
    {
      "cell_type": "markdown",
      "source": [
        "## Original File(s) statistics\n",
        "\n",
        "4143 entries total\n",
        "\n",
        "Original Training file \"a1\": 1407 \n",
        "\n",
        "Original Training file \"a2\": 1700 \n",
        "\n",
        "Original Test file \"b\": 1036\n",
        "\n",
        "The training file had to be split into two due to parsing issues."
      ],
      "metadata": {
        "id": "QIkEMMES5S_f"
      }
    },
    {
      "cell_type": "code",
      "source": [
        "df1a = pd.read_table('drugLibTrain_raw_p1.tsv') #, skiprows=1406\n",
        "df1b = pd.read_table('drugLibTrain_raw_p2.tsv', \n",
        "                     header=None,\n",
        "                     names=[\"Unnamed: 0\",\n",
        "                            \"urlDrugName\",\n",
        "                            \"rating\",\n",
        "                            \"effectiveness\",\n",
        "                            \"sideEffects\",\n",
        "                            \"condition\",\n",
        "                            \"benefitsReview\",\n",
        "                            \"sideEffectsReview\",\n",
        "                            \"commentsReview\"])\n",
        "df2 = pd.read_table('drugLibTest_raw.tsv')\n",
        "print(df1a.shape)\n",
        "print(df1b.shape)\n",
        "print(df2.shape)"
      ],
      "metadata": {
        "colab": {
          "base_uri": "https://localhost:8080/"
        },
        "id": "pYaGJ_dn57Dr",
        "outputId": "335d6777-578d-4b49-9bfc-ae75f1587e5a"
      },
      "execution_count": null,
      "outputs": [
        {
          "output_type": "stream",
          "name": "stdout",
          "text": [
            "(1407, 9)\n",
            "(1700, 9)\n",
            "(1036, 9)\n"
          ]
        }
      ]
    },
    {
      "cell_type": "code",
      "source": [
        "df2"
      ],
      "metadata": {
        "colab": {
          "base_uri": "https://localhost:8080/",
          "height": 832
        },
        "id": "W9TAtHZB6RY6",
        "outputId": "791a2030-8457-435e-a911-9643bd6fca36"
      },
      "execution_count": null,
      "outputs": [
        {
          "output_type": "execute_result",
          "data": {
            "text/plain": [
              "      Unnamed: 0     urlDrugName  rating           effectiveness  \\\n",
              "0           1366          biaxin       9  Considerably Effective   \n",
              "1           3724        lamictal       9        Highly Effective   \n",
              "2           3824        depakene       4    Moderately Effective   \n",
              "3            969         sarafem      10        Highly Effective   \n",
              "4            696        accutane      10        Highly Effective   \n",
              "...          ...             ...     ...                     ...   \n",
              "1031         690        accutane       7  Considerably Effective   \n",
              "1032        1071      proair-hfa      10        Highly Effective   \n",
              "1033         681        accutane       8  Considerably Effective   \n",
              "1034        2709         divigel      10        Highly Effective   \n",
              "1035         729  claripel-cream       8  Considerably Effective   \n",
              "\n",
              "                sideEffects                          condition  \\\n",
              "0         Mild Side Effects                    sinus infection   \n",
              "1         Mild Side Effects                   bipolar disorder   \n",
              "2       Severe Side Effects                   bipolar disorder   \n",
              "3           No Side Effects                 bi-polar / anxiety   \n",
              "4         Mild Side Effects                       nodular acne   \n",
              "...                     ...                                ...   \n",
              "1031    Severe Side Effects                      acne vulgaris   \n",
              "1032        No Side Effects                             asthma   \n",
              "1033  Moderate Side Effects                         serve acne   \n",
              "1034        No Side Effects                          menopause   \n",
              "1035      Mild Side Effects  acne scarring & hyperpigmentation   \n",
              "\n",
              "                                         benefitsReview  \\\n",
              "0     The antibiotic may have destroyed bacteria cau...   \n",
              "1     Lamictal stabilized my serious mood swings. On...   \n",
              "2     Initial benefits were comparable to the brand ...   \n",
              "3     It controlls my mood swings. It helps me think...   \n",
              "4     Within one week of treatment superficial acne ...   \n",
              "...                                                 ...   \n",
              "1031  Detoxing effect by pushing out the system thro...   \n",
              "1032  The albuterol relieved the constriction, irrit...   \n",
              "1033                    Serve Acne has turned to middle   \n",
              "1034  My overall mood, sense of well being, energy l...   \n",
              "1035  Up until 2 years ago, it worked really well on...   \n",
              "\n",
              "                                      sideEffectsReview  \\\n",
              "0                         Some back pain, some nauseau.   \n",
              "1     Drowsiness, a bit of mental numbness. If you t...   \n",
              "2     Depakene has a very thin coating, which caused...   \n",
              "3               I didnt really notice any side effects.   \n",
              "4     Side effects included moderate to severe dry s...   \n",
              "...                                                 ...   \n",
              "1031  Hairloss, extreme dry skin, itchiness, raises ...   \n",
              "1032                I have experienced no side effects.   \n",
              "1033    Painfull muscles, problems with seeing at night   \n",
              "1034  No side effects of any kind were noted or appa...   \n",
              "1035  Have stopped using it and have also learned th...   \n",
              "\n",
              "                                         commentsReview  \n",
              "0     Took the antibiotics for 14 days. Sinus infect...  \n",
              "1     Severe mood swings between hypomania and depre...  \n",
              "2     Depakote was prescribed to me by a Kaiser psyc...  \n",
              "3     This drug may not be for everyone but its wond...  \n",
              "4     Drug was taken in gelatin tablet at 0.5 mg per...  \n",
              "...                                                 ...  \n",
              "1031  Treatment period is 3 months/12 weeks. Dosage ...  \n",
              "1032  I use the albuterol as needed because of aller...  \n",
              "1033  This drug is highly teratogenic ,females must ...  \n",
              "1034  Divigel is a topically applied Bio-Identical H...  \n",
              "1035               Stopped using it for the time being.  \n",
              "\n",
              "[1036 rows x 9 columns]"
            ],
            "text/html": [
              "\n",
              "  <div id=\"df-9cc98d67-806c-4804-9a64-016189372f93\">\n",
              "    <div class=\"colab-df-container\">\n",
              "      <div>\n",
              "<style scoped>\n",
              "    .dataframe tbody tr th:only-of-type {\n",
              "        vertical-align: middle;\n",
              "    }\n",
              "\n",
              "    .dataframe tbody tr th {\n",
              "        vertical-align: top;\n",
              "    }\n",
              "\n",
              "    .dataframe thead th {\n",
              "        text-align: right;\n",
              "    }\n",
              "</style>\n",
              "<table border=\"1\" class=\"dataframe\">\n",
              "  <thead>\n",
              "    <tr style=\"text-align: right;\">\n",
              "      <th></th>\n",
              "      <th>Unnamed: 0</th>\n",
              "      <th>urlDrugName</th>\n",
              "      <th>rating</th>\n",
              "      <th>effectiveness</th>\n",
              "      <th>sideEffects</th>\n",
              "      <th>condition</th>\n",
              "      <th>benefitsReview</th>\n",
              "      <th>sideEffectsReview</th>\n",
              "      <th>commentsReview</th>\n",
              "    </tr>\n",
              "  </thead>\n",
              "  <tbody>\n",
              "    <tr>\n",
              "      <th>0</th>\n",
              "      <td>1366</td>\n",
              "      <td>biaxin</td>\n",
              "      <td>9</td>\n",
              "      <td>Considerably Effective</td>\n",
              "      <td>Mild Side Effects</td>\n",
              "      <td>sinus infection</td>\n",
              "      <td>The antibiotic may have destroyed bacteria cau...</td>\n",
              "      <td>Some back pain, some nauseau.</td>\n",
              "      <td>Took the antibiotics for 14 days. Sinus infect...</td>\n",
              "    </tr>\n",
              "    <tr>\n",
              "      <th>1</th>\n",
              "      <td>3724</td>\n",
              "      <td>lamictal</td>\n",
              "      <td>9</td>\n",
              "      <td>Highly Effective</td>\n",
              "      <td>Mild Side Effects</td>\n",
              "      <td>bipolar disorder</td>\n",
              "      <td>Lamictal stabilized my serious mood swings. On...</td>\n",
              "      <td>Drowsiness, a bit of mental numbness. If you t...</td>\n",
              "      <td>Severe mood swings between hypomania and depre...</td>\n",
              "    </tr>\n",
              "    <tr>\n",
              "      <th>2</th>\n",
              "      <td>3824</td>\n",
              "      <td>depakene</td>\n",
              "      <td>4</td>\n",
              "      <td>Moderately Effective</td>\n",
              "      <td>Severe Side Effects</td>\n",
              "      <td>bipolar disorder</td>\n",
              "      <td>Initial benefits were comparable to the brand ...</td>\n",
              "      <td>Depakene has a very thin coating, which caused...</td>\n",
              "      <td>Depakote was prescribed to me by a Kaiser psyc...</td>\n",
              "    </tr>\n",
              "    <tr>\n",
              "      <th>3</th>\n",
              "      <td>969</td>\n",
              "      <td>sarafem</td>\n",
              "      <td>10</td>\n",
              "      <td>Highly Effective</td>\n",
              "      <td>No Side Effects</td>\n",
              "      <td>bi-polar / anxiety</td>\n",
              "      <td>It controlls my mood swings. It helps me think...</td>\n",
              "      <td>I didnt really notice any side effects.</td>\n",
              "      <td>This drug may not be for everyone but its wond...</td>\n",
              "    </tr>\n",
              "    <tr>\n",
              "      <th>4</th>\n",
              "      <td>696</td>\n",
              "      <td>accutane</td>\n",
              "      <td>10</td>\n",
              "      <td>Highly Effective</td>\n",
              "      <td>Mild Side Effects</td>\n",
              "      <td>nodular acne</td>\n",
              "      <td>Within one week of treatment superficial acne ...</td>\n",
              "      <td>Side effects included moderate to severe dry s...</td>\n",
              "      <td>Drug was taken in gelatin tablet at 0.5 mg per...</td>\n",
              "    </tr>\n",
              "    <tr>\n",
              "      <th>...</th>\n",
              "      <td>...</td>\n",
              "      <td>...</td>\n",
              "      <td>...</td>\n",
              "      <td>...</td>\n",
              "      <td>...</td>\n",
              "      <td>...</td>\n",
              "      <td>...</td>\n",
              "      <td>...</td>\n",
              "      <td>...</td>\n",
              "    </tr>\n",
              "    <tr>\n",
              "      <th>1031</th>\n",
              "      <td>690</td>\n",
              "      <td>accutane</td>\n",
              "      <td>7</td>\n",
              "      <td>Considerably Effective</td>\n",
              "      <td>Severe Side Effects</td>\n",
              "      <td>acne vulgaris</td>\n",
              "      <td>Detoxing effect by pushing out the system thro...</td>\n",
              "      <td>Hairloss, extreme dry skin, itchiness, raises ...</td>\n",
              "      <td>Treatment period is 3 months/12 weeks. Dosage ...</td>\n",
              "    </tr>\n",
              "    <tr>\n",
              "      <th>1032</th>\n",
              "      <td>1071</td>\n",
              "      <td>proair-hfa</td>\n",
              "      <td>10</td>\n",
              "      <td>Highly Effective</td>\n",
              "      <td>No Side Effects</td>\n",
              "      <td>asthma</td>\n",
              "      <td>The albuterol relieved the constriction, irrit...</td>\n",
              "      <td>I have experienced no side effects.</td>\n",
              "      <td>I use the albuterol as needed because of aller...</td>\n",
              "    </tr>\n",
              "    <tr>\n",
              "      <th>1033</th>\n",
              "      <td>681</td>\n",
              "      <td>accutane</td>\n",
              "      <td>8</td>\n",
              "      <td>Considerably Effective</td>\n",
              "      <td>Moderate Side Effects</td>\n",
              "      <td>serve acne</td>\n",
              "      <td>Serve Acne has turned to middle</td>\n",
              "      <td>Painfull muscles, problems with seeing at night</td>\n",
              "      <td>This drug is highly teratogenic ,females must ...</td>\n",
              "    </tr>\n",
              "    <tr>\n",
              "      <th>1034</th>\n",
              "      <td>2709</td>\n",
              "      <td>divigel</td>\n",
              "      <td>10</td>\n",
              "      <td>Highly Effective</td>\n",
              "      <td>No Side Effects</td>\n",
              "      <td>menopause</td>\n",
              "      <td>My overall mood, sense of well being, energy l...</td>\n",
              "      <td>No side effects of any kind were noted or appa...</td>\n",
              "      <td>Divigel is a topically applied Bio-Identical H...</td>\n",
              "    </tr>\n",
              "    <tr>\n",
              "      <th>1035</th>\n",
              "      <td>729</td>\n",
              "      <td>claripel-cream</td>\n",
              "      <td>8</td>\n",
              "      <td>Considerably Effective</td>\n",
              "      <td>Mild Side Effects</td>\n",
              "      <td>acne scarring &amp; hyperpigmentation</td>\n",
              "      <td>Up until 2 years ago, it worked really well on...</td>\n",
              "      <td>Have stopped using it and have also learned th...</td>\n",
              "      <td>Stopped using it for the time being.</td>\n",
              "    </tr>\n",
              "  </tbody>\n",
              "</table>\n",
              "<p>1036 rows × 9 columns</p>\n",
              "</div>\n",
              "      <button class=\"colab-df-convert\" onclick=\"convertToInteractive('df-9cc98d67-806c-4804-9a64-016189372f93')\"\n",
              "              title=\"Convert this dataframe to an interactive table.\"\n",
              "              style=\"display:none;\">\n",
              "        \n",
              "  <svg xmlns=\"http://www.w3.org/2000/svg\" height=\"24px\"viewBox=\"0 0 24 24\"\n",
              "       width=\"24px\">\n",
              "    <path d=\"M0 0h24v24H0V0z\" fill=\"none\"/>\n",
              "    <path d=\"M18.56 5.44l.94 2.06.94-2.06 2.06-.94-2.06-.94-.94-2.06-.94 2.06-2.06.94zm-11 1L8.5 8.5l.94-2.06 2.06-.94-2.06-.94L8.5 2.5l-.94 2.06-2.06.94zm10 10l.94 2.06.94-2.06 2.06-.94-2.06-.94-.94-2.06-.94 2.06-2.06.94z\"/><path d=\"M17.41 7.96l-1.37-1.37c-.4-.4-.92-.59-1.43-.59-.52 0-1.04.2-1.43.59L10.3 9.45l-7.72 7.72c-.78.78-.78 2.05 0 2.83L4 21.41c.39.39.9.59 1.41.59.51 0 1.02-.2 1.41-.59l7.78-7.78 2.81-2.81c.8-.78.8-2.07 0-2.86zM5.41 20L4 18.59l7.72-7.72 1.47 1.35L5.41 20z\"/>\n",
              "  </svg>\n",
              "      </button>\n",
              "      \n",
              "  <style>\n",
              "    .colab-df-container {\n",
              "      display:flex;\n",
              "      flex-wrap:wrap;\n",
              "      gap: 12px;\n",
              "    }\n",
              "\n",
              "    .colab-df-convert {\n",
              "      background-color: #E8F0FE;\n",
              "      border: none;\n",
              "      border-radius: 50%;\n",
              "      cursor: pointer;\n",
              "      display: none;\n",
              "      fill: #1967D2;\n",
              "      height: 32px;\n",
              "      padding: 0 0 0 0;\n",
              "      width: 32px;\n",
              "    }\n",
              "\n",
              "    .colab-df-convert:hover {\n",
              "      background-color: #E2EBFA;\n",
              "      box-shadow: 0px 1px 2px rgba(60, 64, 67, 0.3), 0px 1px 3px 1px rgba(60, 64, 67, 0.15);\n",
              "      fill: #174EA6;\n",
              "    }\n",
              "\n",
              "    [theme=dark] .colab-df-convert {\n",
              "      background-color: #3B4455;\n",
              "      fill: #D2E3FC;\n",
              "    }\n",
              "\n",
              "    [theme=dark] .colab-df-convert:hover {\n",
              "      background-color: #434B5C;\n",
              "      box-shadow: 0px 1px 3px 1px rgba(0, 0, 0, 0.15);\n",
              "      filter: drop-shadow(0px 1px 2px rgba(0, 0, 0, 0.3));\n",
              "      fill: #FFFFFF;\n",
              "    }\n",
              "  </style>\n",
              "\n",
              "      <script>\n",
              "        const buttonEl =\n",
              "          document.querySelector('#df-9cc98d67-806c-4804-9a64-016189372f93 button.colab-df-convert');\n",
              "        buttonEl.style.display =\n",
              "          google.colab.kernel.accessAllowed ? 'block' : 'none';\n",
              "\n",
              "        async function convertToInteractive(key) {\n",
              "          const element = document.querySelector('#df-9cc98d67-806c-4804-9a64-016189372f93');\n",
              "          const dataTable =\n",
              "            await google.colab.kernel.invokeFunction('convertToInteractive',\n",
              "                                                     [key], {});\n",
              "          if (!dataTable) return;\n",
              "\n",
              "          const docLinkHtml = 'Like what you see? Visit the ' +\n",
              "            '<a target=\"_blank\" href=https://colab.research.google.com/notebooks/data_table.ipynb>data table notebook</a>'\n",
              "            + ' to learn more about interactive tables.';\n",
              "          element.innerHTML = '';\n",
              "          dataTable['output_type'] = 'display_data';\n",
              "          await google.colab.output.renderOutput(dataTable, element);\n",
              "          const docLink = document.createElement('div');\n",
              "          docLink.innerHTML = docLinkHtml;\n",
              "          element.appendChild(docLink);\n",
              "        }\n",
              "      </script>\n",
              "    </div>\n",
              "  </div>\n",
              "  "
            ]
          },
          "metadata": {},
          "execution_count": 7
        }
      ]
    },
    {
      "cell_type": "code",
      "source": [
        "#combine data for sanitizing\n",
        "allframes = [df1a, df1b, df2]\n",
        "\n",
        "dfall = pd.concat(allframes, ignore_index=True) #prevent duplicate indexed values\n",
        "\n",
        "print(dfall.shape)"
      ],
      "metadata": {
        "colab": {
          "base_uri": "https://localhost:8080/"
        },
        "id": "-mxNZbLwIBw-",
        "outputId": "9ee375f2-1fb3-4597-b004-1cc80c6c8e5e"
      },
      "execution_count": null,
      "outputs": [
        {
          "output_type": "stream",
          "name": "stdout",
          "text": [
            "(4143, 9)\n"
          ]
        }
      ]
    },
    {
      "cell_type": "code",
      "source": [
        "dfall"
      ],
      "metadata": {
        "colab": {
          "base_uri": "https://localhost:8080/",
          "height": 832
        },
        "id": "iYqYQMx_IiJn",
        "outputId": "0b434364-158e-4b09-c9ca-6feeee5a28fa"
      },
      "execution_count": null,
      "outputs": [
        {
          "output_type": "execute_result",
          "data": {
            "text/plain": [
              "      Unnamed: 0       urlDrugName  rating           effectiveness  \\\n",
              "0           2202         enalapril       4        Highly Effective   \n",
              "1           3117  ortho-tri-cyclen       1        Highly Effective   \n",
              "2           1146           ponstel      10        Highly Effective   \n",
              "3           3947          prilosec       3    Marginally Effective   \n",
              "4           1951            lyrica       2    Marginally Effective   \n",
              "...          ...               ...     ...                     ...   \n",
              "4138         690          accutane       7  Considerably Effective   \n",
              "4139        1071        proair-hfa      10        Highly Effective   \n",
              "4140         681          accutane       8  Considerably Effective   \n",
              "4141        2709           divigel      10        Highly Effective   \n",
              "4142         729    claripel-cream       8  Considerably Effective   \n",
              "\n",
              "                sideEffects                               condition  \\\n",
              "0         Mild Side Effects  management of congestive heart failure   \n",
              "1       Severe Side Effects                        birth prevention   \n",
              "2           No Side Effects                        menstrual cramps   \n",
              "3         Mild Side Effects                             acid reflux   \n",
              "4       Severe Side Effects                            fibromyalgia   \n",
              "...                     ...                                     ...   \n",
              "4138    Severe Side Effects                           acne vulgaris   \n",
              "4139        No Side Effects                                  asthma   \n",
              "4140  Moderate Side Effects                              serve acne   \n",
              "4141        No Side Effects                               menopause   \n",
              "4142      Mild Side Effects       acne scarring & hyperpigmentation   \n",
              "\n",
              "                                         benefitsReview  \\\n",
              "0     slowed the progression of left ventricular dys...   \n",
              "1     Although this type of birth control has more c...   \n",
              "2     I was used to having cramps so badly that they...   \n",
              "3     The acid reflux went away for a few months aft...   \n",
              "4     I think that the Lyrica was starting to help w...   \n",
              "...                                                 ...   \n",
              "4138  Detoxing effect by pushing out the system thro...   \n",
              "4139  The albuterol relieved the constriction, irrit...   \n",
              "4140                    Serve Acne has turned to middle   \n",
              "4141  My overall mood, sense of well being, energy l...   \n",
              "4142  Up until 2 years ago, it worked really well on...   \n",
              "\n",
              "                                      sideEffectsReview  \\\n",
              "0     cough, hypotension , proteinuria, impotence , ...   \n",
              "1     Heavy Cycle, Cramps, Hot Flashes, Fatigue, Lon...   \n",
              "2            Heavier bleeding and clotting than normal.   \n",
              "3     Constipation, dry mouth and some mild dizzines...   \n",
              "4     I felt extremely drugged and dopey.  Could not...   \n",
              "...                                                 ...   \n",
              "4138  Hairloss, extreme dry skin, itchiness, raises ...   \n",
              "4139                I have experienced no side effects.   \n",
              "4140    Painfull muscles, problems with seeing at night   \n",
              "4141  No side effects of any kind were noted or appa...   \n",
              "4142  Have stopped using it and have also learned th...   \n",
              "\n",
              "                                         commentsReview  \n",
              "0     monitor blood pressure , weight and asses for ...  \n",
              "1     I Hate This Birth Control, I Would Not Suggest...  \n",
              "2     I took 2 pills at the onset of my menstrual cr...  \n",
              "3     I was given Prilosec prescription at a dose of...  \n",
              "4                                             See above  \n",
              "...                                                 ...  \n",
              "4138  Treatment period is 3 months/12 weeks. Dosage ...  \n",
              "4139  I use the albuterol as needed because of aller...  \n",
              "4140  This drug is highly teratogenic ,females must ...  \n",
              "4141  Divigel is a topically applied Bio-Identical H...  \n",
              "4142               Stopped using it for the time being.  \n",
              "\n",
              "[4143 rows x 9 columns]"
            ],
            "text/html": [
              "\n",
              "  <div id=\"df-426f49a7-2998-4110-87cb-01e421a05fcf\">\n",
              "    <div class=\"colab-df-container\">\n",
              "      <div>\n",
              "<style scoped>\n",
              "    .dataframe tbody tr th:only-of-type {\n",
              "        vertical-align: middle;\n",
              "    }\n",
              "\n",
              "    .dataframe tbody tr th {\n",
              "        vertical-align: top;\n",
              "    }\n",
              "\n",
              "    .dataframe thead th {\n",
              "        text-align: right;\n",
              "    }\n",
              "</style>\n",
              "<table border=\"1\" class=\"dataframe\">\n",
              "  <thead>\n",
              "    <tr style=\"text-align: right;\">\n",
              "      <th></th>\n",
              "      <th>Unnamed: 0</th>\n",
              "      <th>urlDrugName</th>\n",
              "      <th>rating</th>\n",
              "      <th>effectiveness</th>\n",
              "      <th>sideEffects</th>\n",
              "      <th>condition</th>\n",
              "      <th>benefitsReview</th>\n",
              "      <th>sideEffectsReview</th>\n",
              "      <th>commentsReview</th>\n",
              "    </tr>\n",
              "  </thead>\n",
              "  <tbody>\n",
              "    <tr>\n",
              "      <th>0</th>\n",
              "      <td>2202</td>\n",
              "      <td>enalapril</td>\n",
              "      <td>4</td>\n",
              "      <td>Highly Effective</td>\n",
              "      <td>Mild Side Effects</td>\n",
              "      <td>management of congestive heart failure</td>\n",
              "      <td>slowed the progression of left ventricular dys...</td>\n",
              "      <td>cough, hypotension , proteinuria, impotence , ...</td>\n",
              "      <td>monitor blood pressure , weight and asses for ...</td>\n",
              "    </tr>\n",
              "    <tr>\n",
              "      <th>1</th>\n",
              "      <td>3117</td>\n",
              "      <td>ortho-tri-cyclen</td>\n",
              "      <td>1</td>\n",
              "      <td>Highly Effective</td>\n",
              "      <td>Severe Side Effects</td>\n",
              "      <td>birth prevention</td>\n",
              "      <td>Although this type of birth control has more c...</td>\n",
              "      <td>Heavy Cycle, Cramps, Hot Flashes, Fatigue, Lon...</td>\n",
              "      <td>I Hate This Birth Control, I Would Not Suggest...</td>\n",
              "    </tr>\n",
              "    <tr>\n",
              "      <th>2</th>\n",
              "      <td>1146</td>\n",
              "      <td>ponstel</td>\n",
              "      <td>10</td>\n",
              "      <td>Highly Effective</td>\n",
              "      <td>No Side Effects</td>\n",
              "      <td>menstrual cramps</td>\n",
              "      <td>I was used to having cramps so badly that they...</td>\n",
              "      <td>Heavier bleeding and clotting than normal.</td>\n",
              "      <td>I took 2 pills at the onset of my menstrual cr...</td>\n",
              "    </tr>\n",
              "    <tr>\n",
              "      <th>3</th>\n",
              "      <td>3947</td>\n",
              "      <td>prilosec</td>\n",
              "      <td>3</td>\n",
              "      <td>Marginally Effective</td>\n",
              "      <td>Mild Side Effects</td>\n",
              "      <td>acid reflux</td>\n",
              "      <td>The acid reflux went away for a few months aft...</td>\n",
              "      <td>Constipation, dry mouth and some mild dizzines...</td>\n",
              "      <td>I was given Prilosec prescription at a dose of...</td>\n",
              "    </tr>\n",
              "    <tr>\n",
              "      <th>4</th>\n",
              "      <td>1951</td>\n",
              "      <td>lyrica</td>\n",
              "      <td>2</td>\n",
              "      <td>Marginally Effective</td>\n",
              "      <td>Severe Side Effects</td>\n",
              "      <td>fibromyalgia</td>\n",
              "      <td>I think that the Lyrica was starting to help w...</td>\n",
              "      <td>I felt extremely drugged and dopey.  Could not...</td>\n",
              "      <td>See above</td>\n",
              "    </tr>\n",
              "    <tr>\n",
              "      <th>...</th>\n",
              "      <td>...</td>\n",
              "      <td>...</td>\n",
              "      <td>...</td>\n",
              "      <td>...</td>\n",
              "      <td>...</td>\n",
              "      <td>...</td>\n",
              "      <td>...</td>\n",
              "      <td>...</td>\n",
              "      <td>...</td>\n",
              "    </tr>\n",
              "    <tr>\n",
              "      <th>4138</th>\n",
              "      <td>690</td>\n",
              "      <td>accutane</td>\n",
              "      <td>7</td>\n",
              "      <td>Considerably Effective</td>\n",
              "      <td>Severe Side Effects</td>\n",
              "      <td>acne vulgaris</td>\n",
              "      <td>Detoxing effect by pushing out the system thro...</td>\n",
              "      <td>Hairloss, extreme dry skin, itchiness, raises ...</td>\n",
              "      <td>Treatment period is 3 months/12 weeks. Dosage ...</td>\n",
              "    </tr>\n",
              "    <tr>\n",
              "      <th>4139</th>\n",
              "      <td>1071</td>\n",
              "      <td>proair-hfa</td>\n",
              "      <td>10</td>\n",
              "      <td>Highly Effective</td>\n",
              "      <td>No Side Effects</td>\n",
              "      <td>asthma</td>\n",
              "      <td>The albuterol relieved the constriction, irrit...</td>\n",
              "      <td>I have experienced no side effects.</td>\n",
              "      <td>I use the albuterol as needed because of aller...</td>\n",
              "    </tr>\n",
              "    <tr>\n",
              "      <th>4140</th>\n",
              "      <td>681</td>\n",
              "      <td>accutane</td>\n",
              "      <td>8</td>\n",
              "      <td>Considerably Effective</td>\n",
              "      <td>Moderate Side Effects</td>\n",
              "      <td>serve acne</td>\n",
              "      <td>Serve Acne has turned to middle</td>\n",
              "      <td>Painfull muscles, problems with seeing at night</td>\n",
              "      <td>This drug is highly teratogenic ,females must ...</td>\n",
              "    </tr>\n",
              "    <tr>\n",
              "      <th>4141</th>\n",
              "      <td>2709</td>\n",
              "      <td>divigel</td>\n",
              "      <td>10</td>\n",
              "      <td>Highly Effective</td>\n",
              "      <td>No Side Effects</td>\n",
              "      <td>menopause</td>\n",
              "      <td>My overall mood, sense of well being, energy l...</td>\n",
              "      <td>No side effects of any kind were noted or appa...</td>\n",
              "      <td>Divigel is a topically applied Bio-Identical H...</td>\n",
              "    </tr>\n",
              "    <tr>\n",
              "      <th>4142</th>\n",
              "      <td>729</td>\n",
              "      <td>claripel-cream</td>\n",
              "      <td>8</td>\n",
              "      <td>Considerably Effective</td>\n",
              "      <td>Mild Side Effects</td>\n",
              "      <td>acne scarring &amp; hyperpigmentation</td>\n",
              "      <td>Up until 2 years ago, it worked really well on...</td>\n",
              "      <td>Have stopped using it and have also learned th...</td>\n",
              "      <td>Stopped using it for the time being.</td>\n",
              "    </tr>\n",
              "  </tbody>\n",
              "</table>\n",
              "<p>4143 rows × 9 columns</p>\n",
              "</div>\n",
              "      <button class=\"colab-df-convert\" onclick=\"convertToInteractive('df-426f49a7-2998-4110-87cb-01e421a05fcf')\"\n",
              "              title=\"Convert this dataframe to an interactive table.\"\n",
              "              style=\"display:none;\">\n",
              "        \n",
              "  <svg xmlns=\"http://www.w3.org/2000/svg\" height=\"24px\"viewBox=\"0 0 24 24\"\n",
              "       width=\"24px\">\n",
              "    <path d=\"M0 0h24v24H0V0z\" fill=\"none\"/>\n",
              "    <path d=\"M18.56 5.44l.94 2.06.94-2.06 2.06-.94-2.06-.94-.94-2.06-.94 2.06-2.06.94zm-11 1L8.5 8.5l.94-2.06 2.06-.94-2.06-.94L8.5 2.5l-.94 2.06-2.06.94zm10 10l.94 2.06.94-2.06 2.06-.94-2.06-.94-.94-2.06-.94 2.06-2.06.94z\"/><path d=\"M17.41 7.96l-1.37-1.37c-.4-.4-.92-.59-1.43-.59-.52 0-1.04.2-1.43.59L10.3 9.45l-7.72 7.72c-.78.78-.78 2.05 0 2.83L4 21.41c.39.39.9.59 1.41.59.51 0 1.02-.2 1.41-.59l7.78-7.78 2.81-2.81c.8-.78.8-2.07 0-2.86zM5.41 20L4 18.59l7.72-7.72 1.47 1.35L5.41 20z\"/>\n",
              "  </svg>\n",
              "      </button>\n",
              "      \n",
              "  <style>\n",
              "    .colab-df-container {\n",
              "      display:flex;\n",
              "      flex-wrap:wrap;\n",
              "      gap: 12px;\n",
              "    }\n",
              "\n",
              "    .colab-df-convert {\n",
              "      background-color: #E8F0FE;\n",
              "      border: none;\n",
              "      border-radius: 50%;\n",
              "      cursor: pointer;\n",
              "      display: none;\n",
              "      fill: #1967D2;\n",
              "      height: 32px;\n",
              "      padding: 0 0 0 0;\n",
              "      width: 32px;\n",
              "    }\n",
              "\n",
              "    .colab-df-convert:hover {\n",
              "      background-color: #E2EBFA;\n",
              "      box-shadow: 0px 1px 2px rgba(60, 64, 67, 0.3), 0px 1px 3px 1px rgba(60, 64, 67, 0.15);\n",
              "      fill: #174EA6;\n",
              "    }\n",
              "\n",
              "    [theme=dark] .colab-df-convert {\n",
              "      background-color: #3B4455;\n",
              "      fill: #D2E3FC;\n",
              "    }\n",
              "\n",
              "    [theme=dark] .colab-df-convert:hover {\n",
              "      background-color: #434B5C;\n",
              "      box-shadow: 0px 1px 3px 1px rgba(0, 0, 0, 0.15);\n",
              "      filter: drop-shadow(0px 1px 2px rgba(0, 0, 0, 0.3));\n",
              "      fill: #FFFFFF;\n",
              "    }\n",
              "  </style>\n",
              "\n",
              "      <script>\n",
              "        const buttonEl =\n",
              "          document.querySelector('#df-426f49a7-2998-4110-87cb-01e421a05fcf button.colab-df-convert');\n",
              "        buttonEl.style.display =\n",
              "          google.colab.kernel.accessAllowed ? 'block' : 'none';\n",
              "\n",
              "        async function convertToInteractive(key) {\n",
              "          const element = document.querySelector('#df-426f49a7-2998-4110-87cb-01e421a05fcf');\n",
              "          const dataTable =\n",
              "            await google.colab.kernel.invokeFunction('convertToInteractive',\n",
              "                                                     [key], {});\n",
              "          if (!dataTable) return;\n",
              "\n",
              "          const docLinkHtml = 'Like what you see? Visit the ' +\n",
              "            '<a target=\"_blank\" href=https://colab.research.google.com/notebooks/data_table.ipynb>data table notebook</a>'\n",
              "            + ' to learn more about interactive tables.';\n",
              "          element.innerHTML = '';\n",
              "          dataTable['output_type'] = 'display_data';\n",
              "          await google.colab.output.renderOutput(dataTable, element);\n",
              "          const docLink = document.createElement('div');\n",
              "          docLink.innerHTML = docLinkHtml;\n",
              "          element.appendChild(docLink);\n",
              "        }\n",
              "      </script>\n",
              "    </div>\n",
              "  </div>\n",
              "  "
            ]
          },
          "metadata": {},
          "execution_count": 9
        }
      ]
    },
    {
      "cell_type": "code",
      "source": [
        "#check to make sure multliple values aren't on same row id\n",
        "dfall.loc[0,:]"
      ],
      "metadata": {
        "colab": {
          "base_uri": "https://localhost:8080/"
        },
        "id": "3UxHD02gK0rN",
        "outputId": "9773b5c3-fd3c-4b79-b410-34b548a7b5ab"
      },
      "execution_count": null,
      "outputs": [
        {
          "output_type": "execute_result",
          "data": {
            "text/plain": [
              "Unnamed: 0                                                        2202\n",
              "urlDrugName                                                  enalapril\n",
              "rating                                                               4\n",
              "effectiveness                                         Highly Effective\n",
              "sideEffects                                          Mild Side Effects\n",
              "condition                       management of congestive heart failure\n",
              "benefitsReview       slowed the progression of left ventricular dys...\n",
              "sideEffectsReview    cough, hypotension , proteinuria, impotence , ...\n",
              "commentsReview       monitor blood pressure , weight and asses for ...\n",
              "Name: 0, dtype: object"
            ]
          },
          "metadata": {},
          "execution_count": 10
        }
      ]
    },
    {
      "cell_type": "code",
      "source": [
        "#identify # of empty fields\n",
        "dfall.isna().sum()"
      ],
      "metadata": {
        "colab": {
          "base_uri": "https://localhost:8080/"
        },
        "id": "-wRvBab8OMHu",
        "outputId": "28e1d99d-6ef0-4ef6-e611-cfd3ab73248c"
      },
      "execution_count": null,
      "outputs": [
        {
          "output_type": "execute_result",
          "data": {
            "text/plain": [
              "Unnamed: 0           0\n",
              "urlDrugName          0\n",
              "rating               0\n",
              "effectiveness        0\n",
              "sideEffects          0\n",
              "condition            1\n",
              "benefitsReview       0\n",
              "sideEffectsReview    2\n",
              "commentsReview       8\n",
              "dtype: int64"
            ]
          },
          "metadata": {},
          "execution_count": 11
        }
      ]
    },
    {
      "cell_type": "markdown",
      "source": [
        "##Initial Dataset Impressions\n",
        "\n",
        "This is a very clean dataset overall. A quick manual review\n",
        "showed that rating, effectiveness, and sideEffects \n",
        "all had populated valid values in their intended ranges.\n",
        "We will not be using condition - this will be explained below.\n",
        "\n",
        "benefitsReview, sideEffectsReview, commentsReview\n",
        "all consisted of valid strings or an empty field,\n",
        "likely reflecting that the patient had no additional\n",
        "comment on the drug used. We will just note for now that they are all in string format.\n"
      ],
      "metadata": {
        "id": "3vvf9E3J5inw"
      }
    },
    {
      "cell_type": "code",
      "source": [
        "print(dfall.urlDrugName.value_counts())"
      ],
      "metadata": {
        "colab": {
          "base_uri": "https://localhost:8080/"
        },
        "id": "AyuoeTQRGMuk",
        "outputId": "a37d5b1b-3674-46ee-e3f2-573cc38a9b17"
      },
      "execution_count": null,
      "outputs": [
        {
          "output_type": "stream",
          "name": "stdout",
          "text": [
            "lexapro            74\n",
            "paxil              58\n",
            "retin-a            55\n",
            "synthroid          53\n",
            "zoloft             52\n",
            "                   ..\n",
            "elmiron             1\n",
            "lasix               1\n",
            "zovirax-topical     1\n",
            "bactrim-ds          1\n",
            "prevalite           1\n",
            "Name: urlDrugName, Length: 541, dtype: int64\n"
          ]
        }
      ]
    },
    {
      "cell_type": "code",
      "source": [
        "print(dfall.condition.value_counts())"
      ],
      "metadata": {
        "colab": {
          "base_uri": "https://localhost:8080/"
        },
        "id": "4Pp8XEmtGa-c",
        "outputId": "827c4cd6-6a5e-4162-ae0f-83ed1be81dac"
      },
      "execution_count": null,
      "outputs": [
        {
          "output_type": "stream",
          "name": "stdout",
          "text": [
            "depression                                            302\n",
            "acne                                                  211\n",
            "anxiety                                                90\n",
            "insomnia                                               75\n",
            "birth control                                          68\n",
            "                                                     ... \n",
            "ankylosing spondalytis                                  1\n",
            "opiate/heroin addiction                                 1\n",
            "improvement of skin appearance, very very mild acn      1\n",
            "anxiety/worry                                           1\n",
            "acne scarring & hyperpigmentation                       1\n",
            "Name: condition, Length: 1807, dtype: int64\n"
          ]
        }
      ]
    },
    {
      "cell_type": "markdown",
      "source": [
        "##Preliminary Review of the Data\n",
        "\n",
        "We are not particularly concerned with the first column (ID numbers)\n",
        "as it will not demonstrate any trends.\n",
        "\n",
        "There are a 541 different drug names (column 2) and \n",
        "1807 condition names (column 5) with neither having an\n",
        "entry or entries that takes up a noticeable majority\n",
        "of the cases. (I.e. would result in a lot of features\n",
        "as it would be hard to break down or group drugs or conditions\n",
        "without extensive medical knowledge.)\n",
        "\n",
        "We are primarily interested in whether reviewing tendencies \n",
        "correlate to confidence in overall drug rating, so we drop these columns for the time being for the sake of keeping features manageable.\n",
        "\n",
        "\n",
        "The rating column is numerical, but the effectiveness and sideEffects columns have their values  as strings and must be converted to ints.\n",
        "\n",
        "We use the following conversion scale:\n",
        "\n",
        "**\"Effectiveness Strength\"**\n",
        "\n",
        "Highly Effective = 5\n",
        "\n",
        "Considerably Effective = 4\n",
        "\n",
        "Moderately Effective = 3 \n",
        "\n",
        "Marginally Effective = 2\n",
        "\n",
        "Ineffective = 1\n",
        "\n",
        "**\"Side Effectiveness Strength\"**\n",
        "\n",
        "Extremely Severe Side Effects = 5\n",
        "\n",
        "Severe Side Effects = 4 \n",
        "\n",
        "Moderate Side Effects = 3\n",
        "\n",
        "Mild Side Effects = 2\n",
        "\n",
        "No Side Effects = 1\n",
        "\n",
        "\n",
        "We can  quantify the comment fields (benefitsReview\n",
        ",sideEffectsReview,commentsReview) by character length, to\n",
        "see if there is any correlation between how talkative a user is in their\n",
        "review and the overall effectiveness. (E.g. Do people who\n",
        "talk more have more complaints and thus less overall rating/confidence in a drug?) \n",
        "\n",
        "It is worth noting a few users left some of their comment sections completely empty. A larger but still small portion of others left comments like \"See Above\" or \"None\" to demontrate that no details were mentions. Generally, though, this would only occur on 1 or rarely 2 of the 3 comment sections of a review, so we will assess them all as separate columns to see if is indicative of a user being more positive or negative about a drug."
      ],
      "metadata": {
        "id": "l_o7LE5K6R3w"
      }
    },
    {
      "cell_type": "code",
      "source": [
        "#Print the number of \"None\" style \n",
        "#comments for benefits, sideeffects, and comments respectively.\n",
        "#About 1 out of 20 sideEffects reviewers had a None style comment.\n",
        "#The other \"None\" style comments or empty comments are negligible amounts.\n",
        "\n",
        "print(\n",
        "dfall.loc[dfall['benefitsReview'].isin(['none','None','NONE','None.',\n",
        "                                           'See above','See Above','see above',\n",
        "                                           'See above.'])].shape\n",
        ")\n",
        "print(\n",
        "dfall.loc[dfall['sideEffectsReview'].isin(['none','None','NONE','None.',\n",
        "                                           'See above','See Above','see above',\n",
        "                                           'See above.'])].shape\n",
        ")\n",
        "print(\n",
        "dfall.loc[dfall['commentsReview'].isin(['none','None','NONE','None.',\n",
        "                                           'See above','See Above','see above',\n",
        "                                           'See above.'])].shape\n",
        ")\n"
      ],
      "metadata": {
        "colab": {
          "base_uri": "https://localhost:8080/"
        },
        "id": "NCKLGQB9O8rW",
        "outputId": "86166ae1-896d-4cec-f9d6-0b13089b265f"
      },
      "execution_count": null,
      "outputs": [
        {
          "output_type": "stream",
          "name": "stdout",
          "text": [
            "(56, 9)\n",
            "(276, 9)\n",
            "(25, 9)\n"
          ]
        }
      ]
    },
    {
      "cell_type": "markdown",
      "source": [
        "##Processing Data Based on Review\n",
        "\n"
      ],
      "metadata": {
        "id": "XToAXkl_9YSL"
      }
    },
    {
      "cell_type": "code",
      "source": [
        "#Drop the unused columns based on our preliminary review.\n",
        "dfall_pruned=dfall.drop(['Unnamed: 0', 'urlDrugName','condition'], axis=1)\n",
        "dfall_pruned"
      ],
      "metadata": {
        "colab": {
          "base_uri": "https://localhost:8080/",
          "height": 641
        },
        "id": "zea5weMlHP64",
        "outputId": "edd6f1b5-37c0-4d45-8a7a-fe6053e4ca72"
      },
      "execution_count": null,
      "outputs": [
        {
          "output_type": "execute_result",
          "data": {
            "text/plain": [
              "      rating           effectiveness            sideEffects  \\\n",
              "0          4        Highly Effective      Mild Side Effects   \n",
              "1          1        Highly Effective    Severe Side Effects   \n",
              "2         10        Highly Effective        No Side Effects   \n",
              "3          3    Marginally Effective      Mild Side Effects   \n",
              "4          2    Marginally Effective    Severe Side Effects   \n",
              "...      ...                     ...                    ...   \n",
              "4138       7  Considerably Effective    Severe Side Effects   \n",
              "4139      10        Highly Effective        No Side Effects   \n",
              "4140       8  Considerably Effective  Moderate Side Effects   \n",
              "4141      10        Highly Effective        No Side Effects   \n",
              "4142       8  Considerably Effective      Mild Side Effects   \n",
              "\n",
              "                                         benefitsReview  \\\n",
              "0     slowed the progression of left ventricular dys...   \n",
              "1     Although this type of birth control has more c...   \n",
              "2     I was used to having cramps so badly that they...   \n",
              "3     The acid reflux went away for a few months aft...   \n",
              "4     I think that the Lyrica was starting to help w...   \n",
              "...                                                 ...   \n",
              "4138  Detoxing effect by pushing out the system thro...   \n",
              "4139  The albuterol relieved the constriction, irrit...   \n",
              "4140                    Serve Acne has turned to middle   \n",
              "4141  My overall mood, sense of well being, energy l...   \n",
              "4142  Up until 2 years ago, it worked really well on...   \n",
              "\n",
              "                                      sideEffectsReview  \\\n",
              "0     cough, hypotension , proteinuria, impotence , ...   \n",
              "1     Heavy Cycle, Cramps, Hot Flashes, Fatigue, Lon...   \n",
              "2            Heavier bleeding and clotting than normal.   \n",
              "3     Constipation, dry mouth and some mild dizzines...   \n",
              "4     I felt extremely drugged and dopey.  Could not...   \n",
              "...                                                 ...   \n",
              "4138  Hairloss, extreme dry skin, itchiness, raises ...   \n",
              "4139                I have experienced no side effects.   \n",
              "4140    Painfull muscles, problems with seeing at night   \n",
              "4141  No side effects of any kind were noted or appa...   \n",
              "4142  Have stopped using it and have also learned th...   \n",
              "\n",
              "                                         commentsReview  \n",
              "0     monitor blood pressure , weight and asses for ...  \n",
              "1     I Hate This Birth Control, I Would Not Suggest...  \n",
              "2     I took 2 pills at the onset of my menstrual cr...  \n",
              "3     I was given Prilosec prescription at a dose of...  \n",
              "4                                             See above  \n",
              "...                                                 ...  \n",
              "4138  Treatment period is 3 months/12 weeks. Dosage ...  \n",
              "4139  I use the albuterol as needed because of aller...  \n",
              "4140  This drug is highly teratogenic ,females must ...  \n",
              "4141  Divigel is a topically applied Bio-Identical H...  \n",
              "4142               Stopped using it for the time being.  \n",
              "\n",
              "[4143 rows x 6 columns]"
            ],
            "text/html": [
              "\n",
              "  <div id=\"df-68bbd467-c7b5-4a4f-98d2-f34f313dd526\">\n",
              "    <div class=\"colab-df-container\">\n",
              "      <div>\n",
              "<style scoped>\n",
              "    .dataframe tbody tr th:only-of-type {\n",
              "        vertical-align: middle;\n",
              "    }\n",
              "\n",
              "    .dataframe tbody tr th {\n",
              "        vertical-align: top;\n",
              "    }\n",
              "\n",
              "    .dataframe thead th {\n",
              "        text-align: right;\n",
              "    }\n",
              "</style>\n",
              "<table border=\"1\" class=\"dataframe\">\n",
              "  <thead>\n",
              "    <tr style=\"text-align: right;\">\n",
              "      <th></th>\n",
              "      <th>rating</th>\n",
              "      <th>effectiveness</th>\n",
              "      <th>sideEffects</th>\n",
              "      <th>benefitsReview</th>\n",
              "      <th>sideEffectsReview</th>\n",
              "      <th>commentsReview</th>\n",
              "    </tr>\n",
              "  </thead>\n",
              "  <tbody>\n",
              "    <tr>\n",
              "      <th>0</th>\n",
              "      <td>4</td>\n",
              "      <td>Highly Effective</td>\n",
              "      <td>Mild Side Effects</td>\n",
              "      <td>slowed the progression of left ventricular dys...</td>\n",
              "      <td>cough, hypotension , proteinuria, impotence , ...</td>\n",
              "      <td>monitor blood pressure , weight and asses for ...</td>\n",
              "    </tr>\n",
              "    <tr>\n",
              "      <th>1</th>\n",
              "      <td>1</td>\n",
              "      <td>Highly Effective</td>\n",
              "      <td>Severe Side Effects</td>\n",
              "      <td>Although this type of birth control has more c...</td>\n",
              "      <td>Heavy Cycle, Cramps, Hot Flashes, Fatigue, Lon...</td>\n",
              "      <td>I Hate This Birth Control, I Would Not Suggest...</td>\n",
              "    </tr>\n",
              "    <tr>\n",
              "      <th>2</th>\n",
              "      <td>10</td>\n",
              "      <td>Highly Effective</td>\n",
              "      <td>No Side Effects</td>\n",
              "      <td>I was used to having cramps so badly that they...</td>\n",
              "      <td>Heavier bleeding and clotting than normal.</td>\n",
              "      <td>I took 2 pills at the onset of my menstrual cr...</td>\n",
              "    </tr>\n",
              "    <tr>\n",
              "      <th>3</th>\n",
              "      <td>3</td>\n",
              "      <td>Marginally Effective</td>\n",
              "      <td>Mild Side Effects</td>\n",
              "      <td>The acid reflux went away for a few months aft...</td>\n",
              "      <td>Constipation, dry mouth and some mild dizzines...</td>\n",
              "      <td>I was given Prilosec prescription at a dose of...</td>\n",
              "    </tr>\n",
              "    <tr>\n",
              "      <th>4</th>\n",
              "      <td>2</td>\n",
              "      <td>Marginally Effective</td>\n",
              "      <td>Severe Side Effects</td>\n",
              "      <td>I think that the Lyrica was starting to help w...</td>\n",
              "      <td>I felt extremely drugged and dopey.  Could not...</td>\n",
              "      <td>See above</td>\n",
              "    </tr>\n",
              "    <tr>\n",
              "      <th>...</th>\n",
              "      <td>...</td>\n",
              "      <td>...</td>\n",
              "      <td>...</td>\n",
              "      <td>...</td>\n",
              "      <td>...</td>\n",
              "      <td>...</td>\n",
              "    </tr>\n",
              "    <tr>\n",
              "      <th>4138</th>\n",
              "      <td>7</td>\n",
              "      <td>Considerably Effective</td>\n",
              "      <td>Severe Side Effects</td>\n",
              "      <td>Detoxing effect by pushing out the system thro...</td>\n",
              "      <td>Hairloss, extreme dry skin, itchiness, raises ...</td>\n",
              "      <td>Treatment period is 3 months/12 weeks. Dosage ...</td>\n",
              "    </tr>\n",
              "    <tr>\n",
              "      <th>4139</th>\n",
              "      <td>10</td>\n",
              "      <td>Highly Effective</td>\n",
              "      <td>No Side Effects</td>\n",
              "      <td>The albuterol relieved the constriction, irrit...</td>\n",
              "      <td>I have experienced no side effects.</td>\n",
              "      <td>I use the albuterol as needed because of aller...</td>\n",
              "    </tr>\n",
              "    <tr>\n",
              "      <th>4140</th>\n",
              "      <td>8</td>\n",
              "      <td>Considerably Effective</td>\n",
              "      <td>Moderate Side Effects</td>\n",
              "      <td>Serve Acne has turned to middle</td>\n",
              "      <td>Painfull muscles, problems with seeing at night</td>\n",
              "      <td>This drug is highly teratogenic ,females must ...</td>\n",
              "    </tr>\n",
              "    <tr>\n",
              "      <th>4141</th>\n",
              "      <td>10</td>\n",
              "      <td>Highly Effective</td>\n",
              "      <td>No Side Effects</td>\n",
              "      <td>My overall mood, sense of well being, energy l...</td>\n",
              "      <td>No side effects of any kind were noted or appa...</td>\n",
              "      <td>Divigel is a topically applied Bio-Identical H...</td>\n",
              "    </tr>\n",
              "    <tr>\n",
              "      <th>4142</th>\n",
              "      <td>8</td>\n",
              "      <td>Considerably Effective</td>\n",
              "      <td>Mild Side Effects</td>\n",
              "      <td>Up until 2 years ago, it worked really well on...</td>\n",
              "      <td>Have stopped using it and have also learned th...</td>\n",
              "      <td>Stopped using it for the time being.</td>\n",
              "    </tr>\n",
              "  </tbody>\n",
              "</table>\n",
              "<p>4143 rows × 6 columns</p>\n",
              "</div>\n",
              "      <button class=\"colab-df-convert\" onclick=\"convertToInteractive('df-68bbd467-c7b5-4a4f-98d2-f34f313dd526')\"\n",
              "              title=\"Convert this dataframe to an interactive table.\"\n",
              "              style=\"display:none;\">\n",
              "        \n",
              "  <svg xmlns=\"http://www.w3.org/2000/svg\" height=\"24px\"viewBox=\"0 0 24 24\"\n",
              "       width=\"24px\">\n",
              "    <path d=\"M0 0h24v24H0V0z\" fill=\"none\"/>\n",
              "    <path d=\"M18.56 5.44l.94 2.06.94-2.06 2.06-.94-2.06-.94-.94-2.06-.94 2.06-2.06.94zm-11 1L8.5 8.5l.94-2.06 2.06-.94-2.06-.94L8.5 2.5l-.94 2.06-2.06.94zm10 10l.94 2.06.94-2.06 2.06-.94-2.06-.94-.94-2.06-.94 2.06-2.06.94z\"/><path d=\"M17.41 7.96l-1.37-1.37c-.4-.4-.92-.59-1.43-.59-.52 0-1.04.2-1.43.59L10.3 9.45l-7.72 7.72c-.78.78-.78 2.05 0 2.83L4 21.41c.39.39.9.59 1.41.59.51 0 1.02-.2 1.41-.59l7.78-7.78 2.81-2.81c.8-.78.8-2.07 0-2.86zM5.41 20L4 18.59l7.72-7.72 1.47 1.35L5.41 20z\"/>\n",
              "  </svg>\n",
              "      </button>\n",
              "      \n",
              "  <style>\n",
              "    .colab-df-container {\n",
              "      display:flex;\n",
              "      flex-wrap:wrap;\n",
              "      gap: 12px;\n",
              "    }\n",
              "\n",
              "    .colab-df-convert {\n",
              "      background-color: #E8F0FE;\n",
              "      border: none;\n",
              "      border-radius: 50%;\n",
              "      cursor: pointer;\n",
              "      display: none;\n",
              "      fill: #1967D2;\n",
              "      height: 32px;\n",
              "      padding: 0 0 0 0;\n",
              "      width: 32px;\n",
              "    }\n",
              "\n",
              "    .colab-df-convert:hover {\n",
              "      background-color: #E2EBFA;\n",
              "      box-shadow: 0px 1px 2px rgba(60, 64, 67, 0.3), 0px 1px 3px 1px rgba(60, 64, 67, 0.15);\n",
              "      fill: #174EA6;\n",
              "    }\n",
              "\n",
              "    [theme=dark] .colab-df-convert {\n",
              "      background-color: #3B4455;\n",
              "      fill: #D2E3FC;\n",
              "    }\n",
              "\n",
              "    [theme=dark] .colab-df-convert:hover {\n",
              "      background-color: #434B5C;\n",
              "      box-shadow: 0px 1px 3px 1px rgba(0, 0, 0, 0.15);\n",
              "      filter: drop-shadow(0px 1px 2px rgba(0, 0, 0, 0.3));\n",
              "      fill: #FFFFFF;\n",
              "    }\n",
              "  </style>\n",
              "\n",
              "      <script>\n",
              "        const buttonEl =\n",
              "          document.querySelector('#df-68bbd467-c7b5-4a4f-98d2-f34f313dd526 button.colab-df-convert');\n",
              "        buttonEl.style.display =\n",
              "          google.colab.kernel.accessAllowed ? 'block' : 'none';\n",
              "\n",
              "        async function convertToInteractive(key) {\n",
              "          const element = document.querySelector('#df-68bbd467-c7b5-4a4f-98d2-f34f313dd526');\n",
              "          const dataTable =\n",
              "            await google.colab.kernel.invokeFunction('convertToInteractive',\n",
              "                                                     [key], {});\n",
              "          if (!dataTable) return;\n",
              "\n",
              "          const docLinkHtml = 'Like what you see? Visit the ' +\n",
              "            '<a target=\"_blank\" href=https://colab.research.google.com/notebooks/data_table.ipynb>data table notebook</a>'\n",
              "            + ' to learn more about interactive tables.';\n",
              "          element.innerHTML = '';\n",
              "          dataTable['output_type'] = 'display_data';\n",
              "          await google.colab.output.renderOutput(dataTable, element);\n",
              "          const docLink = document.createElement('div');\n",
              "          docLink.innerHTML = docLinkHtml;\n",
              "          element.appendChild(docLink);\n",
              "        }\n",
              "      </script>\n",
              "    </div>\n",
              "  </div>\n",
              "  "
            ]
          },
          "metadata": {},
          "execution_count": 15
        }
      ]
    },
    {
      "cell_type": "code",
      "source": [
        "#convert effectiveness and sideEffect\n",
        "\n",
        "effectDict = {\n",
        "  \"Highly Effective\": 5,\n",
        "  \"Considerably Effective\": 4,\n",
        "  \"Moderately Effective\": 3,\n",
        "  \"Marginally Effective\": 2,\n",
        "  \"Ineffective\": 1\n",
        "}\n",
        "\n",
        "sideeffectDict = {\n",
        "  \"Extremely Severe Side Effects\": 5,\n",
        "  \"Severe Side Effects\": 4,\n",
        "  \"Moderate Side Effects\": 3,\n",
        "  \"Mild Side Effects\": 2,\n",
        "  \"No Side Effects\": 1\n",
        "}\n",
        "\n",
        "\n",
        "dfall_pruned.loc[dfall_pruned['effectiveness'] == \"Highly Effective\", 'effectiveness'] = 5\n",
        "dfall_pruned.loc[dfall_pruned['effectiveness'] == \"Considerably Effective\", 'effectiveness'] = 4\n",
        "dfall_pruned.loc[dfall_pruned['effectiveness'] == \"Moderately Effective\", 'effectiveness'] = 3\n",
        "dfall_pruned.loc[dfall_pruned['effectiveness'] == \"Marginally Effective\", 'effectiveness'] = 2\n",
        "dfall_pruned.loc[dfall_pruned['effectiveness'] == \"Ineffective\", 'effectiveness'] = 1\n",
        "\n",
        "dfall_pruned.loc[dfall_pruned['sideEffects'] == \"Extremely Severe Side Effects\", 'sideEffects'] = 5\n",
        "dfall_pruned.loc[dfall_pruned['sideEffects'] == \"Severe Side Effects\", 'sideEffects'] = 4\n",
        "dfall_pruned.loc[dfall_pruned['sideEffects'] == \"Moderate Side Effects\", 'sideEffects'] = 3\n",
        "dfall_pruned.loc[dfall_pruned['sideEffects'] == \"Mild Side Effects\", 'sideEffects'] = 2\n",
        "dfall_pruned.loc[dfall_pruned['sideEffects'] == \"No Side Effects\", 'sideEffects'] = 1\n",
        "dfall_pruned"
      ],
      "metadata": {
        "colab": {
          "base_uri": "https://localhost:8080/",
          "height": 641
        },
        "id": "r8F8bEyn1YFU",
        "outputId": "76703da7-4e62-4a18-8a55-5bfc0666a3ac"
      },
      "execution_count": null,
      "outputs": [
        {
          "output_type": "execute_result",
          "data": {
            "text/plain": [
              "      rating effectiveness sideEffects  \\\n",
              "0          4             5           2   \n",
              "1          1             5           4   \n",
              "2         10             5           1   \n",
              "3          3             2           2   \n",
              "4          2             2           4   \n",
              "...      ...           ...         ...   \n",
              "4138       7             4           4   \n",
              "4139      10             5           1   \n",
              "4140       8             4           3   \n",
              "4141      10             5           1   \n",
              "4142       8             4           2   \n",
              "\n",
              "                                         benefitsReview  \\\n",
              "0     slowed the progression of left ventricular dys...   \n",
              "1     Although this type of birth control has more c...   \n",
              "2     I was used to having cramps so badly that they...   \n",
              "3     The acid reflux went away for a few months aft...   \n",
              "4     I think that the Lyrica was starting to help w...   \n",
              "...                                                 ...   \n",
              "4138  Detoxing effect by pushing out the system thro...   \n",
              "4139  The albuterol relieved the constriction, irrit...   \n",
              "4140                    Serve Acne has turned to middle   \n",
              "4141  My overall mood, sense of well being, energy l...   \n",
              "4142  Up until 2 years ago, it worked really well on...   \n",
              "\n",
              "                                      sideEffectsReview  \\\n",
              "0     cough, hypotension , proteinuria, impotence , ...   \n",
              "1     Heavy Cycle, Cramps, Hot Flashes, Fatigue, Lon...   \n",
              "2            Heavier bleeding and clotting than normal.   \n",
              "3     Constipation, dry mouth and some mild dizzines...   \n",
              "4     I felt extremely drugged and dopey.  Could not...   \n",
              "...                                                 ...   \n",
              "4138  Hairloss, extreme dry skin, itchiness, raises ...   \n",
              "4139                I have experienced no side effects.   \n",
              "4140    Painfull muscles, problems with seeing at night   \n",
              "4141  No side effects of any kind were noted or appa...   \n",
              "4142  Have stopped using it and have also learned th...   \n",
              "\n",
              "                                         commentsReview  \n",
              "0     monitor blood pressure , weight and asses for ...  \n",
              "1     I Hate This Birth Control, I Would Not Suggest...  \n",
              "2     I took 2 pills at the onset of my menstrual cr...  \n",
              "3     I was given Prilosec prescription at a dose of...  \n",
              "4                                             See above  \n",
              "...                                                 ...  \n",
              "4138  Treatment period is 3 months/12 weeks. Dosage ...  \n",
              "4139  I use the albuterol as needed because of aller...  \n",
              "4140  This drug is highly teratogenic ,females must ...  \n",
              "4141  Divigel is a topically applied Bio-Identical H...  \n",
              "4142               Stopped using it for the time being.  \n",
              "\n",
              "[4143 rows x 6 columns]"
            ],
            "text/html": [
              "\n",
              "  <div id=\"df-f741302d-2e40-4c5d-8002-b30269be474d\">\n",
              "    <div class=\"colab-df-container\">\n",
              "      <div>\n",
              "<style scoped>\n",
              "    .dataframe tbody tr th:only-of-type {\n",
              "        vertical-align: middle;\n",
              "    }\n",
              "\n",
              "    .dataframe tbody tr th {\n",
              "        vertical-align: top;\n",
              "    }\n",
              "\n",
              "    .dataframe thead th {\n",
              "        text-align: right;\n",
              "    }\n",
              "</style>\n",
              "<table border=\"1\" class=\"dataframe\">\n",
              "  <thead>\n",
              "    <tr style=\"text-align: right;\">\n",
              "      <th></th>\n",
              "      <th>rating</th>\n",
              "      <th>effectiveness</th>\n",
              "      <th>sideEffects</th>\n",
              "      <th>benefitsReview</th>\n",
              "      <th>sideEffectsReview</th>\n",
              "      <th>commentsReview</th>\n",
              "    </tr>\n",
              "  </thead>\n",
              "  <tbody>\n",
              "    <tr>\n",
              "      <th>0</th>\n",
              "      <td>4</td>\n",
              "      <td>5</td>\n",
              "      <td>2</td>\n",
              "      <td>slowed the progression of left ventricular dys...</td>\n",
              "      <td>cough, hypotension , proteinuria, impotence , ...</td>\n",
              "      <td>monitor blood pressure , weight and asses for ...</td>\n",
              "    </tr>\n",
              "    <tr>\n",
              "      <th>1</th>\n",
              "      <td>1</td>\n",
              "      <td>5</td>\n",
              "      <td>4</td>\n",
              "      <td>Although this type of birth control has more c...</td>\n",
              "      <td>Heavy Cycle, Cramps, Hot Flashes, Fatigue, Lon...</td>\n",
              "      <td>I Hate This Birth Control, I Would Not Suggest...</td>\n",
              "    </tr>\n",
              "    <tr>\n",
              "      <th>2</th>\n",
              "      <td>10</td>\n",
              "      <td>5</td>\n",
              "      <td>1</td>\n",
              "      <td>I was used to having cramps so badly that they...</td>\n",
              "      <td>Heavier bleeding and clotting than normal.</td>\n",
              "      <td>I took 2 pills at the onset of my menstrual cr...</td>\n",
              "    </tr>\n",
              "    <tr>\n",
              "      <th>3</th>\n",
              "      <td>3</td>\n",
              "      <td>2</td>\n",
              "      <td>2</td>\n",
              "      <td>The acid reflux went away for a few months aft...</td>\n",
              "      <td>Constipation, dry mouth and some mild dizzines...</td>\n",
              "      <td>I was given Prilosec prescription at a dose of...</td>\n",
              "    </tr>\n",
              "    <tr>\n",
              "      <th>4</th>\n",
              "      <td>2</td>\n",
              "      <td>2</td>\n",
              "      <td>4</td>\n",
              "      <td>I think that the Lyrica was starting to help w...</td>\n",
              "      <td>I felt extremely drugged and dopey.  Could not...</td>\n",
              "      <td>See above</td>\n",
              "    </tr>\n",
              "    <tr>\n",
              "      <th>...</th>\n",
              "      <td>...</td>\n",
              "      <td>...</td>\n",
              "      <td>...</td>\n",
              "      <td>...</td>\n",
              "      <td>...</td>\n",
              "      <td>...</td>\n",
              "    </tr>\n",
              "    <tr>\n",
              "      <th>4138</th>\n",
              "      <td>7</td>\n",
              "      <td>4</td>\n",
              "      <td>4</td>\n",
              "      <td>Detoxing effect by pushing out the system thro...</td>\n",
              "      <td>Hairloss, extreme dry skin, itchiness, raises ...</td>\n",
              "      <td>Treatment period is 3 months/12 weeks. Dosage ...</td>\n",
              "    </tr>\n",
              "    <tr>\n",
              "      <th>4139</th>\n",
              "      <td>10</td>\n",
              "      <td>5</td>\n",
              "      <td>1</td>\n",
              "      <td>The albuterol relieved the constriction, irrit...</td>\n",
              "      <td>I have experienced no side effects.</td>\n",
              "      <td>I use the albuterol as needed because of aller...</td>\n",
              "    </tr>\n",
              "    <tr>\n",
              "      <th>4140</th>\n",
              "      <td>8</td>\n",
              "      <td>4</td>\n",
              "      <td>3</td>\n",
              "      <td>Serve Acne has turned to middle</td>\n",
              "      <td>Painfull muscles, problems with seeing at night</td>\n",
              "      <td>This drug is highly teratogenic ,females must ...</td>\n",
              "    </tr>\n",
              "    <tr>\n",
              "      <th>4141</th>\n",
              "      <td>10</td>\n",
              "      <td>5</td>\n",
              "      <td>1</td>\n",
              "      <td>My overall mood, sense of well being, energy l...</td>\n",
              "      <td>No side effects of any kind were noted or appa...</td>\n",
              "      <td>Divigel is a topically applied Bio-Identical H...</td>\n",
              "    </tr>\n",
              "    <tr>\n",
              "      <th>4142</th>\n",
              "      <td>8</td>\n",
              "      <td>4</td>\n",
              "      <td>2</td>\n",
              "      <td>Up until 2 years ago, it worked really well on...</td>\n",
              "      <td>Have stopped using it and have also learned th...</td>\n",
              "      <td>Stopped using it for the time being.</td>\n",
              "    </tr>\n",
              "  </tbody>\n",
              "</table>\n",
              "<p>4143 rows × 6 columns</p>\n",
              "</div>\n",
              "      <button class=\"colab-df-convert\" onclick=\"convertToInteractive('df-f741302d-2e40-4c5d-8002-b30269be474d')\"\n",
              "              title=\"Convert this dataframe to an interactive table.\"\n",
              "              style=\"display:none;\">\n",
              "        \n",
              "  <svg xmlns=\"http://www.w3.org/2000/svg\" height=\"24px\"viewBox=\"0 0 24 24\"\n",
              "       width=\"24px\">\n",
              "    <path d=\"M0 0h24v24H0V0z\" fill=\"none\"/>\n",
              "    <path d=\"M18.56 5.44l.94 2.06.94-2.06 2.06-.94-2.06-.94-.94-2.06-.94 2.06-2.06.94zm-11 1L8.5 8.5l.94-2.06 2.06-.94-2.06-.94L8.5 2.5l-.94 2.06-2.06.94zm10 10l.94 2.06.94-2.06 2.06-.94-2.06-.94-.94-2.06-.94 2.06-2.06.94z\"/><path d=\"M17.41 7.96l-1.37-1.37c-.4-.4-.92-.59-1.43-.59-.52 0-1.04.2-1.43.59L10.3 9.45l-7.72 7.72c-.78.78-.78 2.05 0 2.83L4 21.41c.39.39.9.59 1.41.59.51 0 1.02-.2 1.41-.59l7.78-7.78 2.81-2.81c.8-.78.8-2.07 0-2.86zM5.41 20L4 18.59l7.72-7.72 1.47 1.35L5.41 20z\"/>\n",
              "  </svg>\n",
              "      </button>\n",
              "      \n",
              "  <style>\n",
              "    .colab-df-container {\n",
              "      display:flex;\n",
              "      flex-wrap:wrap;\n",
              "      gap: 12px;\n",
              "    }\n",
              "\n",
              "    .colab-df-convert {\n",
              "      background-color: #E8F0FE;\n",
              "      border: none;\n",
              "      border-radius: 50%;\n",
              "      cursor: pointer;\n",
              "      display: none;\n",
              "      fill: #1967D2;\n",
              "      height: 32px;\n",
              "      padding: 0 0 0 0;\n",
              "      width: 32px;\n",
              "    }\n",
              "\n",
              "    .colab-df-convert:hover {\n",
              "      background-color: #E2EBFA;\n",
              "      box-shadow: 0px 1px 2px rgba(60, 64, 67, 0.3), 0px 1px 3px 1px rgba(60, 64, 67, 0.15);\n",
              "      fill: #174EA6;\n",
              "    }\n",
              "\n",
              "    [theme=dark] .colab-df-convert {\n",
              "      background-color: #3B4455;\n",
              "      fill: #D2E3FC;\n",
              "    }\n",
              "\n",
              "    [theme=dark] .colab-df-convert:hover {\n",
              "      background-color: #434B5C;\n",
              "      box-shadow: 0px 1px 3px 1px rgba(0, 0, 0, 0.15);\n",
              "      filter: drop-shadow(0px 1px 2px rgba(0, 0, 0, 0.3));\n",
              "      fill: #FFFFFF;\n",
              "    }\n",
              "  </style>\n",
              "\n",
              "      <script>\n",
              "        const buttonEl =\n",
              "          document.querySelector('#df-f741302d-2e40-4c5d-8002-b30269be474d button.colab-df-convert');\n",
              "        buttonEl.style.display =\n",
              "          google.colab.kernel.accessAllowed ? 'block' : 'none';\n",
              "\n",
              "        async function convertToInteractive(key) {\n",
              "          const element = document.querySelector('#df-f741302d-2e40-4c5d-8002-b30269be474d');\n",
              "          const dataTable =\n",
              "            await google.colab.kernel.invokeFunction('convertToInteractive',\n",
              "                                                     [key], {});\n",
              "          if (!dataTable) return;\n",
              "\n",
              "          const docLinkHtml = 'Like what you see? Visit the ' +\n",
              "            '<a target=\"_blank\" href=https://colab.research.google.com/notebooks/data_table.ipynb>data table notebook</a>'\n",
              "            + ' to learn more about interactive tables.';\n",
              "          element.innerHTML = '';\n",
              "          dataTable['output_type'] = 'display_data';\n",
              "          await google.colab.output.renderOutput(dataTable, element);\n",
              "          const docLink = document.createElement('div');\n",
              "          docLink.innerHTML = docLinkHtml;\n",
              "          element.appendChild(docLink);\n",
              "        }\n",
              "      </script>\n",
              "    </div>\n",
              "  </div>\n",
              "  "
            ]
          },
          "metadata": {},
          "execution_count": 16
        }
      ]
    },
    {
      "cell_type": "code",
      "source": [
        "#a few  comments have arbitrary float values - possibly corresponding to\n",
        "#an additional rating, a misunderstood rating, \n",
        "#or some kind of survery-specific code?\n",
        "#we'll try and cast these reports as strings \n",
        "#to preserve their presence in the data\n",
        "dfall_pruned['benefitsReview'] = dfall_pruned['benefitsReview'].apply(lambda x: len(str(x)))\n",
        "dfall_pruned['sideEffectsReview'] = dfall_pruned['sideEffectsReview'].apply(lambda x: len(str(x)))\n",
        "dfall_pruned['commentsReview'] = dfall_pruned['commentsReview'].apply(lambda x: len(str(x)))\n",
        "dfall_pruned"
      ],
      "metadata": {
        "colab": {
          "base_uri": "https://localhost:8080/",
          "height": 424
        },
        "id": "oGoWgjrMD73J",
        "outputId": "4b5e6051-0f69-48a4-aade-1e1d3fe66c79"
      },
      "execution_count": null,
      "outputs": [
        {
          "output_type": "execute_result",
          "data": {
            "text/plain": [
              "      rating effectiveness sideEffects  benefitsReview  sideEffectsReview  \\\n",
              "0          4             5           2             184                197   \n",
              "1          1             5           4             178                258   \n",
              "2         10             5           1             254                 42   \n",
              "3          3             2           2             598                111   \n",
              "4          2             2           4             114                150   \n",
              "...      ...           ...         ...             ...                ...   \n",
              "4138       7             4           4             230                371   \n",
              "4139      10             5           1             306                 35   \n",
              "4140       8             4           3              31                 47   \n",
              "4141      10             5           1             162                169   \n",
              "4142       8             4           2             188                 91   \n",
              "\n",
              "      commentsReview  \n",
              "0                 65  \n",
              "1                 62  \n",
              "2                387  \n",
              "3                158  \n",
              "4                  9  \n",
              "...              ...  \n",
              "4138             218  \n",
              "4139             121  \n",
              "4140             262  \n",
              "4141             306  \n",
              "4142              36  \n",
              "\n",
              "[4143 rows x 6 columns]"
            ],
            "text/html": [
              "\n",
              "  <div id=\"df-2eb00065-fb9b-4d1b-bb6b-17e01e49864c\">\n",
              "    <div class=\"colab-df-container\">\n",
              "      <div>\n",
              "<style scoped>\n",
              "    .dataframe tbody tr th:only-of-type {\n",
              "        vertical-align: middle;\n",
              "    }\n",
              "\n",
              "    .dataframe tbody tr th {\n",
              "        vertical-align: top;\n",
              "    }\n",
              "\n",
              "    .dataframe thead th {\n",
              "        text-align: right;\n",
              "    }\n",
              "</style>\n",
              "<table border=\"1\" class=\"dataframe\">\n",
              "  <thead>\n",
              "    <tr style=\"text-align: right;\">\n",
              "      <th></th>\n",
              "      <th>rating</th>\n",
              "      <th>effectiveness</th>\n",
              "      <th>sideEffects</th>\n",
              "      <th>benefitsReview</th>\n",
              "      <th>sideEffectsReview</th>\n",
              "      <th>commentsReview</th>\n",
              "    </tr>\n",
              "  </thead>\n",
              "  <tbody>\n",
              "    <tr>\n",
              "      <th>0</th>\n",
              "      <td>4</td>\n",
              "      <td>5</td>\n",
              "      <td>2</td>\n",
              "      <td>184</td>\n",
              "      <td>197</td>\n",
              "      <td>65</td>\n",
              "    </tr>\n",
              "    <tr>\n",
              "      <th>1</th>\n",
              "      <td>1</td>\n",
              "      <td>5</td>\n",
              "      <td>4</td>\n",
              "      <td>178</td>\n",
              "      <td>258</td>\n",
              "      <td>62</td>\n",
              "    </tr>\n",
              "    <tr>\n",
              "      <th>2</th>\n",
              "      <td>10</td>\n",
              "      <td>5</td>\n",
              "      <td>1</td>\n",
              "      <td>254</td>\n",
              "      <td>42</td>\n",
              "      <td>387</td>\n",
              "    </tr>\n",
              "    <tr>\n",
              "      <th>3</th>\n",
              "      <td>3</td>\n",
              "      <td>2</td>\n",
              "      <td>2</td>\n",
              "      <td>598</td>\n",
              "      <td>111</td>\n",
              "      <td>158</td>\n",
              "    </tr>\n",
              "    <tr>\n",
              "      <th>4</th>\n",
              "      <td>2</td>\n",
              "      <td>2</td>\n",
              "      <td>4</td>\n",
              "      <td>114</td>\n",
              "      <td>150</td>\n",
              "      <td>9</td>\n",
              "    </tr>\n",
              "    <tr>\n",
              "      <th>...</th>\n",
              "      <td>...</td>\n",
              "      <td>...</td>\n",
              "      <td>...</td>\n",
              "      <td>...</td>\n",
              "      <td>...</td>\n",
              "      <td>...</td>\n",
              "    </tr>\n",
              "    <tr>\n",
              "      <th>4138</th>\n",
              "      <td>7</td>\n",
              "      <td>4</td>\n",
              "      <td>4</td>\n",
              "      <td>230</td>\n",
              "      <td>371</td>\n",
              "      <td>218</td>\n",
              "    </tr>\n",
              "    <tr>\n",
              "      <th>4139</th>\n",
              "      <td>10</td>\n",
              "      <td>5</td>\n",
              "      <td>1</td>\n",
              "      <td>306</td>\n",
              "      <td>35</td>\n",
              "      <td>121</td>\n",
              "    </tr>\n",
              "    <tr>\n",
              "      <th>4140</th>\n",
              "      <td>8</td>\n",
              "      <td>4</td>\n",
              "      <td>3</td>\n",
              "      <td>31</td>\n",
              "      <td>47</td>\n",
              "      <td>262</td>\n",
              "    </tr>\n",
              "    <tr>\n",
              "      <th>4141</th>\n",
              "      <td>10</td>\n",
              "      <td>5</td>\n",
              "      <td>1</td>\n",
              "      <td>162</td>\n",
              "      <td>169</td>\n",
              "      <td>306</td>\n",
              "    </tr>\n",
              "    <tr>\n",
              "      <th>4142</th>\n",
              "      <td>8</td>\n",
              "      <td>4</td>\n",
              "      <td>2</td>\n",
              "      <td>188</td>\n",
              "      <td>91</td>\n",
              "      <td>36</td>\n",
              "    </tr>\n",
              "  </tbody>\n",
              "</table>\n",
              "<p>4143 rows × 6 columns</p>\n",
              "</div>\n",
              "      <button class=\"colab-df-convert\" onclick=\"convertToInteractive('df-2eb00065-fb9b-4d1b-bb6b-17e01e49864c')\"\n",
              "              title=\"Convert this dataframe to an interactive table.\"\n",
              "              style=\"display:none;\">\n",
              "        \n",
              "  <svg xmlns=\"http://www.w3.org/2000/svg\" height=\"24px\"viewBox=\"0 0 24 24\"\n",
              "       width=\"24px\">\n",
              "    <path d=\"M0 0h24v24H0V0z\" fill=\"none\"/>\n",
              "    <path d=\"M18.56 5.44l.94 2.06.94-2.06 2.06-.94-2.06-.94-.94-2.06-.94 2.06-2.06.94zm-11 1L8.5 8.5l.94-2.06 2.06-.94-2.06-.94L8.5 2.5l-.94 2.06-2.06.94zm10 10l.94 2.06.94-2.06 2.06-.94-2.06-.94-.94-2.06-.94 2.06-2.06.94z\"/><path d=\"M17.41 7.96l-1.37-1.37c-.4-.4-.92-.59-1.43-.59-.52 0-1.04.2-1.43.59L10.3 9.45l-7.72 7.72c-.78.78-.78 2.05 0 2.83L4 21.41c.39.39.9.59 1.41.59.51 0 1.02-.2 1.41-.59l7.78-7.78 2.81-2.81c.8-.78.8-2.07 0-2.86zM5.41 20L4 18.59l7.72-7.72 1.47 1.35L5.41 20z\"/>\n",
              "  </svg>\n",
              "      </button>\n",
              "      \n",
              "  <style>\n",
              "    .colab-df-container {\n",
              "      display:flex;\n",
              "      flex-wrap:wrap;\n",
              "      gap: 12px;\n",
              "    }\n",
              "\n",
              "    .colab-df-convert {\n",
              "      background-color: #E8F0FE;\n",
              "      border: none;\n",
              "      border-radius: 50%;\n",
              "      cursor: pointer;\n",
              "      display: none;\n",
              "      fill: #1967D2;\n",
              "      height: 32px;\n",
              "      padding: 0 0 0 0;\n",
              "      width: 32px;\n",
              "    }\n",
              "\n",
              "    .colab-df-convert:hover {\n",
              "      background-color: #E2EBFA;\n",
              "      box-shadow: 0px 1px 2px rgba(60, 64, 67, 0.3), 0px 1px 3px 1px rgba(60, 64, 67, 0.15);\n",
              "      fill: #174EA6;\n",
              "    }\n",
              "\n",
              "    [theme=dark] .colab-df-convert {\n",
              "      background-color: #3B4455;\n",
              "      fill: #D2E3FC;\n",
              "    }\n",
              "\n",
              "    [theme=dark] .colab-df-convert:hover {\n",
              "      background-color: #434B5C;\n",
              "      box-shadow: 0px 1px 3px 1px rgba(0, 0, 0, 0.15);\n",
              "      filter: drop-shadow(0px 1px 2px rgba(0, 0, 0, 0.3));\n",
              "      fill: #FFFFFF;\n",
              "    }\n",
              "  </style>\n",
              "\n",
              "      <script>\n",
              "        const buttonEl =\n",
              "          document.querySelector('#df-2eb00065-fb9b-4d1b-bb6b-17e01e49864c button.colab-df-convert');\n",
              "        buttonEl.style.display =\n",
              "          google.colab.kernel.accessAllowed ? 'block' : 'none';\n",
              "\n",
              "        async function convertToInteractive(key) {\n",
              "          const element = document.querySelector('#df-2eb00065-fb9b-4d1b-bb6b-17e01e49864c');\n",
              "          const dataTable =\n",
              "            await google.colab.kernel.invokeFunction('convertToInteractive',\n",
              "                                                     [key], {});\n",
              "          if (!dataTable) return;\n",
              "\n",
              "          const docLinkHtml = 'Like what you see? Visit the ' +\n",
              "            '<a target=\"_blank\" href=https://colab.research.google.com/notebooks/data_table.ipynb>data table notebook</a>'\n",
              "            + ' to learn more about interactive tables.';\n",
              "          element.innerHTML = '';\n",
              "          dataTable['output_type'] = 'display_data';\n",
              "          await google.colab.output.renderOutput(dataTable, element);\n",
              "          const docLink = document.createElement('div');\n",
              "          docLink.innerHTML = docLinkHtml;\n",
              "          element.appendChild(docLink);\n",
              "        }\n",
              "      </script>\n",
              "    </div>\n",
              "  </div>\n",
              "  "
            ]
          },
          "metadata": {},
          "execution_count": 17
        }
      ]
    },
    {
      "cell_type": "code",
      "source": [
        "#lastly make ratings negative/positive\n",
        "dfall_pruned.loc[dfall_pruned['rating'] <= 5, 'rating'] = -1\n",
        "dfall_pruned.loc[dfall_pruned['rating'] > 5, 'rating'] = 1\n",
        "dfall_pruned"
      ],
      "metadata": {
        "colab": {
          "base_uri": "https://localhost:8080/",
          "height": 424
        },
        "id": "XNOWORvoLeWx",
        "outputId": "71f2aaad-ae95-4ad6-f60c-14e80bc331fb"
      },
      "execution_count": null,
      "outputs": [
        {
          "output_type": "execute_result",
          "data": {
            "text/plain": [
              "      rating effectiveness sideEffects  benefitsReview  sideEffectsReview  \\\n",
              "0         -1             5           2             184                197   \n",
              "1         -1             5           4             178                258   \n",
              "2          1             5           1             254                 42   \n",
              "3         -1             2           2             598                111   \n",
              "4         -1             2           4             114                150   \n",
              "...      ...           ...         ...             ...                ...   \n",
              "4138       1             4           4             230                371   \n",
              "4139       1             5           1             306                 35   \n",
              "4140       1             4           3              31                 47   \n",
              "4141       1             5           1             162                169   \n",
              "4142       1             4           2             188                 91   \n",
              "\n",
              "      commentsReview  \n",
              "0                 65  \n",
              "1                 62  \n",
              "2                387  \n",
              "3                158  \n",
              "4                  9  \n",
              "...              ...  \n",
              "4138             218  \n",
              "4139             121  \n",
              "4140             262  \n",
              "4141             306  \n",
              "4142              36  \n",
              "\n",
              "[4143 rows x 6 columns]"
            ],
            "text/html": [
              "\n",
              "  <div id=\"df-dc293ca7-21ed-4d0b-a53d-fa3a992a6bd7\">\n",
              "    <div class=\"colab-df-container\">\n",
              "      <div>\n",
              "<style scoped>\n",
              "    .dataframe tbody tr th:only-of-type {\n",
              "        vertical-align: middle;\n",
              "    }\n",
              "\n",
              "    .dataframe tbody tr th {\n",
              "        vertical-align: top;\n",
              "    }\n",
              "\n",
              "    .dataframe thead th {\n",
              "        text-align: right;\n",
              "    }\n",
              "</style>\n",
              "<table border=\"1\" class=\"dataframe\">\n",
              "  <thead>\n",
              "    <tr style=\"text-align: right;\">\n",
              "      <th></th>\n",
              "      <th>rating</th>\n",
              "      <th>effectiveness</th>\n",
              "      <th>sideEffects</th>\n",
              "      <th>benefitsReview</th>\n",
              "      <th>sideEffectsReview</th>\n",
              "      <th>commentsReview</th>\n",
              "    </tr>\n",
              "  </thead>\n",
              "  <tbody>\n",
              "    <tr>\n",
              "      <th>0</th>\n",
              "      <td>-1</td>\n",
              "      <td>5</td>\n",
              "      <td>2</td>\n",
              "      <td>184</td>\n",
              "      <td>197</td>\n",
              "      <td>65</td>\n",
              "    </tr>\n",
              "    <tr>\n",
              "      <th>1</th>\n",
              "      <td>-1</td>\n",
              "      <td>5</td>\n",
              "      <td>4</td>\n",
              "      <td>178</td>\n",
              "      <td>258</td>\n",
              "      <td>62</td>\n",
              "    </tr>\n",
              "    <tr>\n",
              "      <th>2</th>\n",
              "      <td>1</td>\n",
              "      <td>5</td>\n",
              "      <td>1</td>\n",
              "      <td>254</td>\n",
              "      <td>42</td>\n",
              "      <td>387</td>\n",
              "    </tr>\n",
              "    <tr>\n",
              "      <th>3</th>\n",
              "      <td>-1</td>\n",
              "      <td>2</td>\n",
              "      <td>2</td>\n",
              "      <td>598</td>\n",
              "      <td>111</td>\n",
              "      <td>158</td>\n",
              "    </tr>\n",
              "    <tr>\n",
              "      <th>4</th>\n",
              "      <td>-1</td>\n",
              "      <td>2</td>\n",
              "      <td>4</td>\n",
              "      <td>114</td>\n",
              "      <td>150</td>\n",
              "      <td>9</td>\n",
              "    </tr>\n",
              "    <tr>\n",
              "      <th>...</th>\n",
              "      <td>...</td>\n",
              "      <td>...</td>\n",
              "      <td>...</td>\n",
              "      <td>...</td>\n",
              "      <td>...</td>\n",
              "      <td>...</td>\n",
              "    </tr>\n",
              "    <tr>\n",
              "      <th>4138</th>\n",
              "      <td>1</td>\n",
              "      <td>4</td>\n",
              "      <td>4</td>\n",
              "      <td>230</td>\n",
              "      <td>371</td>\n",
              "      <td>218</td>\n",
              "    </tr>\n",
              "    <tr>\n",
              "      <th>4139</th>\n",
              "      <td>1</td>\n",
              "      <td>5</td>\n",
              "      <td>1</td>\n",
              "      <td>306</td>\n",
              "      <td>35</td>\n",
              "      <td>121</td>\n",
              "    </tr>\n",
              "    <tr>\n",
              "      <th>4140</th>\n",
              "      <td>1</td>\n",
              "      <td>4</td>\n",
              "      <td>3</td>\n",
              "      <td>31</td>\n",
              "      <td>47</td>\n",
              "      <td>262</td>\n",
              "    </tr>\n",
              "    <tr>\n",
              "      <th>4141</th>\n",
              "      <td>1</td>\n",
              "      <td>5</td>\n",
              "      <td>1</td>\n",
              "      <td>162</td>\n",
              "      <td>169</td>\n",
              "      <td>306</td>\n",
              "    </tr>\n",
              "    <tr>\n",
              "      <th>4142</th>\n",
              "      <td>1</td>\n",
              "      <td>4</td>\n",
              "      <td>2</td>\n",
              "      <td>188</td>\n",
              "      <td>91</td>\n",
              "      <td>36</td>\n",
              "    </tr>\n",
              "  </tbody>\n",
              "</table>\n",
              "<p>4143 rows × 6 columns</p>\n",
              "</div>\n",
              "      <button class=\"colab-df-convert\" onclick=\"convertToInteractive('df-dc293ca7-21ed-4d0b-a53d-fa3a992a6bd7')\"\n",
              "              title=\"Convert this dataframe to an interactive table.\"\n",
              "              style=\"display:none;\">\n",
              "        \n",
              "  <svg xmlns=\"http://www.w3.org/2000/svg\" height=\"24px\"viewBox=\"0 0 24 24\"\n",
              "       width=\"24px\">\n",
              "    <path d=\"M0 0h24v24H0V0z\" fill=\"none\"/>\n",
              "    <path d=\"M18.56 5.44l.94 2.06.94-2.06 2.06-.94-2.06-.94-.94-2.06-.94 2.06-2.06.94zm-11 1L8.5 8.5l.94-2.06 2.06-.94-2.06-.94L8.5 2.5l-.94 2.06-2.06.94zm10 10l.94 2.06.94-2.06 2.06-.94-2.06-.94-.94-2.06-.94 2.06-2.06.94z\"/><path d=\"M17.41 7.96l-1.37-1.37c-.4-.4-.92-.59-1.43-.59-.52 0-1.04.2-1.43.59L10.3 9.45l-7.72 7.72c-.78.78-.78 2.05 0 2.83L4 21.41c.39.39.9.59 1.41.59.51 0 1.02-.2 1.41-.59l7.78-7.78 2.81-2.81c.8-.78.8-2.07 0-2.86zM5.41 20L4 18.59l7.72-7.72 1.47 1.35L5.41 20z\"/>\n",
              "  </svg>\n",
              "      </button>\n",
              "      \n",
              "  <style>\n",
              "    .colab-df-container {\n",
              "      display:flex;\n",
              "      flex-wrap:wrap;\n",
              "      gap: 12px;\n",
              "    }\n",
              "\n",
              "    .colab-df-convert {\n",
              "      background-color: #E8F0FE;\n",
              "      border: none;\n",
              "      border-radius: 50%;\n",
              "      cursor: pointer;\n",
              "      display: none;\n",
              "      fill: #1967D2;\n",
              "      height: 32px;\n",
              "      padding: 0 0 0 0;\n",
              "      width: 32px;\n",
              "    }\n",
              "\n",
              "    .colab-df-convert:hover {\n",
              "      background-color: #E2EBFA;\n",
              "      box-shadow: 0px 1px 2px rgba(60, 64, 67, 0.3), 0px 1px 3px 1px rgba(60, 64, 67, 0.15);\n",
              "      fill: #174EA6;\n",
              "    }\n",
              "\n",
              "    [theme=dark] .colab-df-convert {\n",
              "      background-color: #3B4455;\n",
              "      fill: #D2E3FC;\n",
              "    }\n",
              "\n",
              "    [theme=dark] .colab-df-convert:hover {\n",
              "      background-color: #434B5C;\n",
              "      box-shadow: 0px 1px 3px 1px rgba(0, 0, 0, 0.15);\n",
              "      filter: drop-shadow(0px 1px 2px rgba(0, 0, 0, 0.3));\n",
              "      fill: #FFFFFF;\n",
              "    }\n",
              "  </style>\n",
              "\n",
              "      <script>\n",
              "        const buttonEl =\n",
              "          document.querySelector('#df-dc293ca7-21ed-4d0b-a53d-fa3a992a6bd7 button.colab-df-convert');\n",
              "        buttonEl.style.display =\n",
              "          google.colab.kernel.accessAllowed ? 'block' : 'none';\n",
              "\n",
              "        async function convertToInteractive(key) {\n",
              "          const element = document.querySelector('#df-dc293ca7-21ed-4d0b-a53d-fa3a992a6bd7');\n",
              "          const dataTable =\n",
              "            await google.colab.kernel.invokeFunction('convertToInteractive',\n",
              "                                                     [key], {});\n",
              "          if (!dataTable) return;\n",
              "\n",
              "          const docLinkHtml = 'Like what you see? Visit the ' +\n",
              "            '<a target=\"_blank\" href=https://colab.research.google.com/notebooks/data_table.ipynb>data table notebook</a>'\n",
              "            + ' to learn more about interactive tables.';\n",
              "          element.innerHTML = '';\n",
              "          dataTable['output_type'] = 'display_data';\n",
              "          await google.colab.output.renderOutput(dataTable, element);\n",
              "          const docLink = document.createElement('div');\n",
              "          docLink.innerHTML = docLinkHtml;\n",
              "          element.appendChild(docLink);\n",
              "        }\n",
              "      </script>\n",
              "    </div>\n",
              "  </div>\n",
              "  "
            ]
          },
          "metadata": {},
          "execution_count": 18
        }
      ]
    },
    {
      "cell_type": "code",
      "source": [
        "#Imbalance in data: note that patients \n",
        "#typically tended to be positive\n",
        "#about medical drug use in the data. \n",
        "dfall_pruned.rating.value_counts(normalize=True)"
      ],
      "metadata": {
        "colab": {
          "base_uri": "https://localhost:8080/"
        },
        "id": "jI8w5sbBM0xd",
        "outputId": "8967fb65-2aa6-4ddd-9dac-072006f86fb5"
      },
      "execution_count": null,
      "outputs": [
        {
          "output_type": "execute_result",
          "data": {
            "text/plain": [
              " 1    0.727734\n",
              "-1    0.272266\n",
              "Name: rating, dtype: float64"
            ]
          },
          "metadata": {},
          "execution_count": 19
        }
      ]
    },
    {
      "cell_type": "code",
      "source": [
        "#Preparing to split data\n",
        "\n",
        "# independent variables (All other factors)\n",
        "X = dfall_pruned.drop(['rating'], axis=1)\n",
        "# dependent/target variable (Positive (1) or Negative (-1) opinion)\n",
        "#y = dfall_pruned.rating\n",
        "y = dfall_pruned['rating'].to_numpy()\n",
        "y = y.reshape((y.shape[0], 1))"
      ],
      "metadata": {
        "id": "RH4TImKqVSsl"
      },
      "execution_count": null,
      "outputs": []
    },
    {
      "cell_type": "code",
      "source": [
        "X"
      ],
      "metadata": {
        "colab": {
          "base_uri": "https://localhost:8080/",
          "height": 424
        },
        "id": "f3Mm6-7eiRsO",
        "outputId": "eeebda67-06b8-454c-da75-7ab5c2184d82"
      },
      "execution_count": null,
      "outputs": [
        {
          "output_type": "execute_result",
          "data": {
            "text/plain": [
              "     effectiveness sideEffects  benefitsReview  sideEffectsReview  \\\n",
              "0                5           2             184                197   \n",
              "1                5           4             178                258   \n",
              "2                5           1             254                 42   \n",
              "3                2           2             598                111   \n",
              "4                2           4             114                150   \n",
              "...            ...         ...             ...                ...   \n",
              "4138             4           4             230                371   \n",
              "4139             5           1             306                 35   \n",
              "4140             4           3              31                 47   \n",
              "4141             5           1             162                169   \n",
              "4142             4           2             188                 91   \n",
              "\n",
              "      commentsReview  \n",
              "0                 65  \n",
              "1                 62  \n",
              "2                387  \n",
              "3                158  \n",
              "4                  9  \n",
              "...              ...  \n",
              "4138             218  \n",
              "4139             121  \n",
              "4140             262  \n",
              "4141             306  \n",
              "4142              36  \n",
              "\n",
              "[4143 rows x 5 columns]"
            ],
            "text/html": [
              "\n",
              "  <div id=\"df-a50f9e58-ef50-42b1-8a17-e5e0ddc4bd9e\">\n",
              "    <div class=\"colab-df-container\">\n",
              "      <div>\n",
              "<style scoped>\n",
              "    .dataframe tbody tr th:only-of-type {\n",
              "        vertical-align: middle;\n",
              "    }\n",
              "\n",
              "    .dataframe tbody tr th {\n",
              "        vertical-align: top;\n",
              "    }\n",
              "\n",
              "    .dataframe thead th {\n",
              "        text-align: right;\n",
              "    }\n",
              "</style>\n",
              "<table border=\"1\" class=\"dataframe\">\n",
              "  <thead>\n",
              "    <tr style=\"text-align: right;\">\n",
              "      <th></th>\n",
              "      <th>effectiveness</th>\n",
              "      <th>sideEffects</th>\n",
              "      <th>benefitsReview</th>\n",
              "      <th>sideEffectsReview</th>\n",
              "      <th>commentsReview</th>\n",
              "    </tr>\n",
              "  </thead>\n",
              "  <tbody>\n",
              "    <tr>\n",
              "      <th>0</th>\n",
              "      <td>5</td>\n",
              "      <td>2</td>\n",
              "      <td>184</td>\n",
              "      <td>197</td>\n",
              "      <td>65</td>\n",
              "    </tr>\n",
              "    <tr>\n",
              "      <th>1</th>\n",
              "      <td>5</td>\n",
              "      <td>4</td>\n",
              "      <td>178</td>\n",
              "      <td>258</td>\n",
              "      <td>62</td>\n",
              "    </tr>\n",
              "    <tr>\n",
              "      <th>2</th>\n",
              "      <td>5</td>\n",
              "      <td>1</td>\n",
              "      <td>254</td>\n",
              "      <td>42</td>\n",
              "      <td>387</td>\n",
              "    </tr>\n",
              "    <tr>\n",
              "      <th>3</th>\n",
              "      <td>2</td>\n",
              "      <td>2</td>\n",
              "      <td>598</td>\n",
              "      <td>111</td>\n",
              "      <td>158</td>\n",
              "    </tr>\n",
              "    <tr>\n",
              "      <th>4</th>\n",
              "      <td>2</td>\n",
              "      <td>4</td>\n",
              "      <td>114</td>\n",
              "      <td>150</td>\n",
              "      <td>9</td>\n",
              "    </tr>\n",
              "    <tr>\n",
              "      <th>...</th>\n",
              "      <td>...</td>\n",
              "      <td>...</td>\n",
              "      <td>...</td>\n",
              "      <td>...</td>\n",
              "      <td>...</td>\n",
              "    </tr>\n",
              "    <tr>\n",
              "      <th>4138</th>\n",
              "      <td>4</td>\n",
              "      <td>4</td>\n",
              "      <td>230</td>\n",
              "      <td>371</td>\n",
              "      <td>218</td>\n",
              "    </tr>\n",
              "    <tr>\n",
              "      <th>4139</th>\n",
              "      <td>5</td>\n",
              "      <td>1</td>\n",
              "      <td>306</td>\n",
              "      <td>35</td>\n",
              "      <td>121</td>\n",
              "    </tr>\n",
              "    <tr>\n",
              "      <th>4140</th>\n",
              "      <td>4</td>\n",
              "      <td>3</td>\n",
              "      <td>31</td>\n",
              "      <td>47</td>\n",
              "      <td>262</td>\n",
              "    </tr>\n",
              "    <tr>\n",
              "      <th>4141</th>\n",
              "      <td>5</td>\n",
              "      <td>1</td>\n",
              "      <td>162</td>\n",
              "      <td>169</td>\n",
              "      <td>306</td>\n",
              "    </tr>\n",
              "    <tr>\n",
              "      <th>4142</th>\n",
              "      <td>4</td>\n",
              "      <td>2</td>\n",
              "      <td>188</td>\n",
              "      <td>91</td>\n",
              "      <td>36</td>\n",
              "    </tr>\n",
              "  </tbody>\n",
              "</table>\n",
              "<p>4143 rows × 5 columns</p>\n",
              "</div>\n",
              "      <button class=\"colab-df-convert\" onclick=\"convertToInteractive('df-a50f9e58-ef50-42b1-8a17-e5e0ddc4bd9e')\"\n",
              "              title=\"Convert this dataframe to an interactive table.\"\n",
              "              style=\"display:none;\">\n",
              "        \n",
              "  <svg xmlns=\"http://www.w3.org/2000/svg\" height=\"24px\"viewBox=\"0 0 24 24\"\n",
              "       width=\"24px\">\n",
              "    <path d=\"M0 0h24v24H0V0z\" fill=\"none\"/>\n",
              "    <path d=\"M18.56 5.44l.94 2.06.94-2.06 2.06-.94-2.06-.94-.94-2.06-.94 2.06-2.06.94zm-11 1L8.5 8.5l.94-2.06 2.06-.94-2.06-.94L8.5 2.5l-.94 2.06-2.06.94zm10 10l.94 2.06.94-2.06 2.06-.94-2.06-.94-.94-2.06-.94 2.06-2.06.94z\"/><path d=\"M17.41 7.96l-1.37-1.37c-.4-.4-.92-.59-1.43-.59-.52 0-1.04.2-1.43.59L10.3 9.45l-7.72 7.72c-.78.78-.78 2.05 0 2.83L4 21.41c.39.39.9.59 1.41.59.51 0 1.02-.2 1.41-.59l7.78-7.78 2.81-2.81c.8-.78.8-2.07 0-2.86zM5.41 20L4 18.59l7.72-7.72 1.47 1.35L5.41 20z\"/>\n",
              "  </svg>\n",
              "      </button>\n",
              "      \n",
              "  <style>\n",
              "    .colab-df-container {\n",
              "      display:flex;\n",
              "      flex-wrap:wrap;\n",
              "      gap: 12px;\n",
              "    }\n",
              "\n",
              "    .colab-df-convert {\n",
              "      background-color: #E8F0FE;\n",
              "      border: none;\n",
              "      border-radius: 50%;\n",
              "      cursor: pointer;\n",
              "      display: none;\n",
              "      fill: #1967D2;\n",
              "      height: 32px;\n",
              "      padding: 0 0 0 0;\n",
              "      width: 32px;\n",
              "    }\n",
              "\n",
              "    .colab-df-convert:hover {\n",
              "      background-color: #E2EBFA;\n",
              "      box-shadow: 0px 1px 2px rgba(60, 64, 67, 0.3), 0px 1px 3px 1px rgba(60, 64, 67, 0.15);\n",
              "      fill: #174EA6;\n",
              "    }\n",
              "\n",
              "    [theme=dark] .colab-df-convert {\n",
              "      background-color: #3B4455;\n",
              "      fill: #D2E3FC;\n",
              "    }\n",
              "\n",
              "    [theme=dark] .colab-df-convert:hover {\n",
              "      background-color: #434B5C;\n",
              "      box-shadow: 0px 1px 3px 1px rgba(0, 0, 0, 0.15);\n",
              "      filter: drop-shadow(0px 1px 2px rgba(0, 0, 0, 0.3));\n",
              "      fill: #FFFFFF;\n",
              "    }\n",
              "  </style>\n",
              "\n",
              "      <script>\n",
              "        const buttonEl =\n",
              "          document.querySelector('#df-a50f9e58-ef50-42b1-8a17-e5e0ddc4bd9e button.colab-df-convert');\n",
              "        buttonEl.style.display =\n",
              "          google.colab.kernel.accessAllowed ? 'block' : 'none';\n",
              "\n",
              "        async function convertToInteractive(key) {\n",
              "          const element = document.querySelector('#df-a50f9e58-ef50-42b1-8a17-e5e0ddc4bd9e');\n",
              "          const dataTable =\n",
              "            await google.colab.kernel.invokeFunction('convertToInteractive',\n",
              "                                                     [key], {});\n",
              "          if (!dataTable) return;\n",
              "\n",
              "          const docLinkHtml = 'Like what you see? Visit the ' +\n",
              "            '<a target=\"_blank\" href=https://colab.research.google.com/notebooks/data_table.ipynb>data table notebook</a>'\n",
              "            + ' to learn more about interactive tables.';\n",
              "          element.innerHTML = '';\n",
              "          dataTable['output_type'] = 'display_data';\n",
              "          await google.colab.output.renderOutput(dataTable, element);\n",
              "          const docLink = document.createElement('div');\n",
              "          docLink.innerHTML = docLinkHtml;\n",
              "          element.appendChild(docLink);\n",
              "        }\n",
              "      </script>\n",
              "    </div>\n",
              "  </div>\n",
              "  "
            ]
          },
          "metadata": {},
          "execution_count": 21
        }
      ]
    },
    {
      "cell_type": "code",
      "source": [
        "y"
      ],
      "metadata": {
        "colab": {
          "base_uri": "https://localhost:8080/"
        },
        "id": "M9BDKyUSiSPM",
        "outputId": "732ebf53-2709-48dc-e3a9-f413058f8513"
      },
      "execution_count": null,
      "outputs": [
        {
          "output_type": "execute_result",
          "data": {
            "text/plain": [
              "array([[-1],\n",
              "       [-1],\n",
              "       [ 1],\n",
              "       ...,\n",
              "       [ 1],\n",
              "       [ 1],\n",
              "       [ 1]])"
            ]
          },
          "metadata": {},
          "execution_count": 22
        }
      ]
    },
    {
      "cell_type": "code",
      "source": [
        "#train_test split\n",
        "X_train, X_test, y_train, y_test = train_test_split(X, y, test_size=0.2, random_state=42)\n",
        "# Use normalizer on each X data\n",
        "transformer = Normalizer(norm='max').fit(X_train)\n",
        "X_train = transformer.transform(X_train)\n",
        "X_test = transformer.transform(X_test)"
      ],
      "metadata": {
        "id": "sOppFBrTa0-h"
      },
      "execution_count": null,
      "outputs": []
    },
    {
      "cell_type": "code",
      "source": [
        "X_train"
      ],
      "metadata": {
        "colab": {
          "base_uri": "https://localhost:8080/"
        },
        "id": "Ugr2JVUqa10n",
        "outputId": "0b241135-a213-4556-ec5d-6c69018d5799"
      },
      "execution_count": null,
      "outputs": [
        {
          "output_type": "execute_result",
          "data": {
            "text/plain": [
              "array([[0.00840336, 0.00560224, 0.80952381, 0.05322129, 1.        ],\n",
              "       [0.01602564, 0.00641026, 0.17307692, 0.01282051, 1.        ],\n",
              "       [0.00796813, 0.00398406, 1.        , 0.39840637, 0.5059761 ],\n",
              "       ...,\n",
              "       [0.01144165, 0.00457666, 1.        , 0.71167048, 0.60411899],\n",
              "       [0.01550388, 0.01550388, 0.5503876 , 0.96511628, 1.        ],\n",
              "       [0.0059952 , 0.0059952 , 0.15347722, 0.51318945, 1.        ]])"
            ]
          },
          "metadata": {},
          "execution_count": 24
        }
      ]
    },
    {
      "cell_type": "code",
      "source": [
        "X_test"
      ],
      "metadata": {
        "colab": {
          "base_uri": "https://localhost:8080/"
        },
        "id": "0kQECMAya3LI",
        "outputId": "ea293f74-a1cf-47e1-e262-ba84a212cc48"
      },
      "execution_count": null,
      "outputs": [
        {
          "output_type": "execute_result",
          "data": {
            "text/plain": [
              "array([[0.00114679, 0.00229358, 0.12614679, 1.        , 0.25860092],\n",
              "       [0.01754386, 0.00350877, 1.        , 0.92982456, 0.99298246],\n",
              "       [0.0152439 , 0.00609756, 0.39634146, 0.13719512, 1.        ],\n",
              "       ...,\n",
              "       [0.01273885, 0.00636943, 1.        , 0.61783439, 0.39490446],\n",
              "       [0.00834725, 0.00166945, 0.87479132, 0.05175292, 1.        ],\n",
              "       [0.02898551, 0.00724638, 1.        , 0.6884058 , 0.51449275]])"
            ]
          },
          "metadata": {},
          "execution_count": 25
        }
      ]
    },
    {
      "cell_type": "code",
      "source": [
        "print(X_train.shape)\n",
        "print(X_test.shape)"
      ],
      "metadata": {
        "colab": {
          "base_uri": "https://localhost:8080/"
        },
        "id": "kyokYetpgDFU",
        "outputId": "c87dc000-28e4-4d01-a377-312558f9b684"
      },
      "execution_count": null,
      "outputs": [
        {
          "output_type": "stream",
          "name": "stdout",
          "text": [
            "(3314, 5)\n",
            "(829, 5)\n"
          ]
        }
      ]
    },
    {
      "cell_type": "code",
      "source": [
        "print(y_train.shape)\n",
        "print(y_test.shape)"
      ],
      "metadata": {
        "colab": {
          "base_uri": "https://localhost:8080/"
        },
        "id": "ztN7sNhmgGdM",
        "outputId": "f0151da4-cec1-485f-8aef-3859fe19161c"
      },
      "execution_count": null,
      "outputs": [
        {
          "output_type": "stream",
          "name": "stdout",
          "text": [
            "(3314, 1)\n",
            "(829, 1)\n"
          ]
        }
      ]
    },
    {
      "cell_type": "code",
      "source": [
        "len(X_train)"
      ],
      "metadata": {
        "colab": {
          "base_uri": "https://localhost:8080/"
        },
        "id": "94WXuv5-Uk8e",
        "outputId": "d1a40a8a-acfd-4b71-dea1-dbf86f1ad3cb"
      },
      "execution_count": null,
      "outputs": [
        {
          "output_type": "execute_result",
          "data": {
            "text/plain": [
              "3314"
            ]
          },
          "metadata": {},
          "execution_count": 28
        }
      ]
    },
    {
      "cell_type": "markdown",
      "source": [
        "#Task 1 - Descision Tree"
      ],
      "metadata": {
        "id": "zV84SyDib6Ys"
      }
    },
    {
      "cell_type": "markdown",
      "source": [
        "##Basic Descision Tree"
      ],
      "metadata": {
        "id": "Mjrzx_bpCcUA"
      }
    },
    {
      "cell_type": "code",
      "source": [
        "clf = tree.DecisionTreeClassifier(random_state=86)\n",
        "start = time.time()\n",
        "clf = clf.fit(X_train, y_train)\n",
        "end = time.time()\n",
        "print(\"Time elapsed for Descision Tree fit: \" + str(end - start))"
      ],
      "metadata": {
        "colab": {
          "base_uri": "https://localhost:8080/"
        },
        "id": "KZdtgOKHb4Ta",
        "outputId": "71456d6e-40a7-4cd5-d29d-09aedf25df2f"
      },
      "execution_count": null,
      "outputs": [
        {
          "output_type": "stream",
          "name": "stdout",
          "text": [
            "Time elapsed for Descision Tree fit: 0.021248579025268555\n"
          ]
        }
      ]
    },
    {
      "cell_type": "code",
      "source": [
        "y_DesTree_train =clf.predict(X_train)\n",
        "y_DesTree_train = y_DesTree_train.reshape((y_DesTree_train.shape[0], 1))\n",
        "print(y_DesTree_train)\n",
        "print(y_train)"
      ],
      "metadata": {
        "colab": {
          "base_uri": "https://localhost:8080/"
        },
        "id": "XbkRR32gg7tV",
        "outputId": "8108cc4b-99f7-4e47-9d24-4214a69f3d03"
      },
      "execution_count": null,
      "outputs": [
        {
          "output_type": "stream",
          "name": "stdout",
          "text": [
            "[[ 1]\n",
            " [ 1]\n",
            " [ 1]\n",
            " ...\n",
            " [ 1]\n",
            " [-1]\n",
            " [-1]]\n",
            "[[ 1]\n",
            " [ 1]\n",
            " [ 1]\n",
            " ...\n",
            " [ 1]\n",
            " [-1]\n",
            " [-1]]\n"
          ]
        }
      ]
    },
    {
      "cell_type": "code",
      "source": [
        "#Plot the Tree\n",
        "tree.plot_tree(clf)\n",
        "#plt.show to prevent excess chunks of text code\n",
        "plt.show()"
      ],
      "metadata": {
        "colab": {
          "base_uri": "https://localhost:8080/",
          "height": 248
        },
        "id": "guGs8cGqzQxt",
        "outputId": "105764a3-36e7-4169-f898-2b15e382745e"
      },
      "execution_count": null,
      "outputs": [
        {
          "output_type": "display_data",
          "data": {
            "text/plain": [
              "<Figure size 432x288 with 1 Axes>"
            ],
            "image/png": "[encoded data removed]"
          },
          "metadata": {
            "needs_background": "light"
          }
        }
      ]
    },
    {
      "cell_type": "code",
      "source": [
        "print(clf.tree_.max_depth)"
      ],
      "metadata": {
        "colab": {
          "base_uri": "https://localhost:8080/"
        },
        "id": "JwMiFgmt1nAi",
        "outputId": "93543ab0-f507-48c5-dbb8-e108224ea7ae"
      },
      "execution_count": null,
      "outputs": [
        {
          "output_type": "stream",
          "name": "stdout",
          "text": [
            "17\n"
          ]
        }
      ]
    },
    {
      "cell_type": "code",
      "source": [
        "y_DesTree_train == y_train"
      ],
      "metadata": {
        "colab": {
          "base_uri": "https://localhost:8080/"
        },
        "id": "sVOn18MIjfpZ",
        "outputId": "3d6f251b-8666-4099-c994-cf023c1f062b"
      },
      "execution_count": null,
      "outputs": [
        {
          "output_type": "execute_result",
          "data": {
            "text/plain": [
              "array([[ True],\n",
              "       [ True],\n",
              "       [ True],\n",
              "       ...,\n",
              "       [ True],\n",
              "       [ True],\n",
              "       [ True]])"
            ]
          },
          "metadata": {},
          "execution_count": 36
        }
      ]
    },
    {
      "cell_type": "code",
      "source": [
        "#Accuracy SCore\n",
        "#sklearn.metrics.accuracy_score(y_true, y_pred...\n",
        "acc_s = str(accuracy_score(y_train, y_DesTree_train))\n",
        "pre_s = str(precision_score(y_train, y_DesTree_train))\n",
        "rec_s = str(recall_score(y_train, y_DesTree_train))\n",
        "\n",
        "print(\"Train Accuracy: \" + acc_s )\n",
        "print(\"Train Precision: \" + pre_s )\n",
        "print(\"Train Recall: \" + rec_s )"
      ],
      "metadata": {
        "colab": {
          "base_uri": "https://localhost:8080/"
        },
        "id": "kWbJKkOYi4nD",
        "outputId": "2936a4dd-aaed-493b-be5f-12377c392cea"
      },
      "execution_count": null,
      "outputs": [
        {
          "output_type": "stream",
          "name": "stdout",
          "text": [
            "Train Accuracy: 1.0\n",
            "Train Precision: 1.0\n",
            "Train Recall: 1.0\n"
          ]
        }
      ]
    },
    {
      "cell_type": "code",
      "source": [
        "y_DesTree_test =clf.predict(X_test)\n",
        "y_DesTree_test = y_DesTree_test.reshape((y_DesTree_test.shape[0], 1))\n",
        "print(y_DesTree_test[0:10])\n",
        "print(y_test[0:10])"
      ],
      "metadata": {
        "colab": {
          "base_uri": "https://localhost:8080/"
        },
        "id": "Y2F3M-W-p4Ke",
        "outputId": "deb303a5-d2d1-4a31-cf22-2afd5e89615a"
      },
      "execution_count": null,
      "outputs": [
        {
          "output_type": "stream",
          "name": "stdout",
          "text": [
            "[[-1]\n",
            " [ 1]\n",
            " [ 1]\n",
            " [ 1]\n",
            " [-1]\n",
            " [ 1]\n",
            " [ 1]\n",
            " [ 1]\n",
            " [ 1]\n",
            " [ 1]]\n",
            "[[-1]\n",
            " [ 1]\n",
            " [ 1]\n",
            " [ 1]\n",
            " [-1]\n",
            " [ 1]\n",
            " [ 1]\n",
            " [ 1]\n",
            " [ 1]\n",
            " [ 1]]\n"
          ]
        }
      ]
    },
    {
      "cell_type": "code",
      "source": [
        "acc_s = str(accuracy_score(y_test, y_DesTree_test))\n",
        "pre_s = str(precision_score(y_test, y_DesTree_test))\n",
        "rec_s = str(recall_score(y_test, y_DesTree_test))\n",
        "\n",
        "print(\"Test Accuracy: \" + acc_s )\n",
        "print(\"Test Precision: \" + pre_s )\n",
        "print(\"Test Recall: \" + rec_s )"
      ],
      "metadata": {
        "colab": {
          "base_uri": "https://localhost:8080/"
        },
        "id": "oqlG3dI4jK7C",
        "outputId": "04d0e6a7-ded5-4c99-e71f-00c72974a33a"
      },
      "execution_count": null,
      "outputs": [
        {
          "output_type": "stream",
          "name": "stdout",
          "text": [
            "Test Accuracy: 0.8673100120627262\n",
            "Test Precision: 0.912396694214876\n",
            "Test Recall: 0.9064039408866995\n"
          ]
        }
      ]
    },
    {
      "cell_type": "markdown",
      "source": [
        "###Thoughts on the Basic Descision Tree\n",
        "\n",
        "\n",
        "The tree is extremely large! This, combined with the observation of 100% train accuracy/precision/recall, suggests the algorithm is overfitting to the train set. Since the descision tree classifier will attempt to keep dividing and classifying the data until it is no longer possible, it is likely it has learned features that are specific to the train dataset and not applicable in other datasets."
      ],
      "metadata": {
        "id": "yS75EffwQghd"
      }
    },
    {
      "cell_type": "markdown",
      "source": [
        "##Trying Limited Max Depth"
      ],
      "metadata": {
        "id": "SbGwqxtCCgsQ"
      }
    },
    {
      "cell_type": "code",
      "source": [
        "#try limited max_depth\n",
        "clf = tree.DecisionTreeClassifier(max_depth=5, random_state=86)\n",
        "start = time.time()\n",
        "clf = clf.fit(X_train, y_train)\n",
        "end = time.time()\n",
        "print(\"Time elapsed for Descision Tree fit: \" + str(end - start))"
      ],
      "metadata": {
        "colab": {
          "base_uri": "https://localhost:8080/"
        },
        "id": "wGHk-8Lgy9B3",
        "outputId": "d66834b6-3005-4d32-bf4c-b0519bd277c9"
      },
      "execution_count": null,
      "outputs": [
        {
          "output_type": "stream",
          "name": "stdout",
          "text": [
            "Time elapsed for Descision Tree fit: 0.01426076889038086\n"
          ]
        }
      ]
    },
    {
      "cell_type": "code",
      "source": [
        "tree.plot_tree(clf)\n",
        "#plt.show to prevent excess chunks of text code\n",
        "plt.show()"
      ],
      "metadata": {
        "colab": {
          "base_uri": "https://localhost:8080/",
          "height": 248
        },
        "id": "CkZMwhvm5twv",
        "outputId": "0fa2ee2c-cfa7-4ec5-8cf7-577c27e8d263"
      },
      "execution_count": null,
      "outputs": [
        {
          "output_type": "display_data",
          "data": {
            "text/plain": [
              "<Figure size 432x288 with 1 Axes>"
            ],
            "image/png": "[encoded data removed]"
          },
          "metadata": {
            "needs_background": "light"
          }
        }
      ]
    },
    {
      "cell_type": "code",
      "source": [
        "print(clf.tree_.max_depth)"
      ],
      "metadata": {
        "colab": {
          "base_uri": "https://localhost:8080/"
        },
        "id": "W4gKnHxyeq9I",
        "outputId": "c8622c20-eff6-43be-93d8-1881a9143e3d"
      },
      "execution_count": null,
      "outputs": [
        {
          "output_type": "stream",
          "name": "stdout",
          "text": [
            "5\n"
          ]
        }
      ]
    },
    {
      "cell_type": "code",
      "source": [
        "y_DesTree_train =clf.predict(X_train)\n",
        "y_DesTree_train = y_DesTree_train.reshape((y_DesTree_train.shape[0], 1))"
      ],
      "metadata": {
        "id": "x4Wd9IxR5wun"
      },
      "execution_count": null,
      "outputs": []
    },
    {
      "cell_type": "code",
      "source": [
        "acc_s = str(accuracy_score(y_train, y_DesTree_train))\n",
        "pre_s = str(precision_score(y_train, y_DesTree_train))\n",
        "rec_s = str(recall_score(y_train, y_DesTree_train))\n",
        "\n",
        "print(\"Train Accuracy: \" + acc_s )\n",
        "print(\"Train Precision: \" + pre_s )\n",
        "print(\"Train Recall: \" + rec_s )"
      ],
      "metadata": {
        "colab": {
          "base_uri": "https://localhost:8080/"
        },
        "id": "VKaKbmNHo0B8",
        "outputId": "70761e21-2e4e-4820-bb63-5eda9fb8e772"
      },
      "execution_count": null,
      "outputs": [
        {
          "output_type": "stream",
          "name": "stdout",
          "text": [
            "Train Accuracy: 0.8940856970428486\n",
            "Train Precision: 0.906930693069307\n",
            "Train Recall: 0.9517871986699917\n"
          ]
        }
      ]
    },
    {
      "cell_type": "code",
      "source": [
        "#We can confirm that the initial descision tree overfit the train/test set this way\n",
        "y_DesTree_test =clf.predict(X_test)\n",
        "y_DesTree_test = y_DesTree_test.reshape((y_DesTree_test.shape[0], 1))"
      ],
      "metadata": {
        "id": "fUIOjBt26BC6"
      },
      "execution_count": null,
      "outputs": []
    },
    {
      "cell_type": "code",
      "source": [
        "acc_s = str(accuracy_score(y_test, y_DesTree_test))\n",
        "pre_s = str(precision_score(y_test, y_DesTree_test))\n",
        "rec_s = str(recall_score(y_test, y_DesTree_test))\n",
        "\n",
        "print(\"Test Accuracy: \" + acc_s )\n",
        "print(\"Test Precision: \" + pre_s )\n",
        "print(\"Test Recall: \" + rec_s )"
      ],
      "metadata": {
        "colab": {
          "base_uri": "https://localhost:8080/"
        },
        "id": "F_-rJkC4ovzS",
        "outputId": "935167f7-9a5e-43ba-ed95-ac7716dafb98"
      },
      "execution_count": null,
      "outputs": [
        {
          "output_type": "stream",
          "name": "stdout",
          "text": [
            "Test Accuracy: 0.887816646562123\n",
            "Test Precision: 0.9043887147335423\n",
            "Test Recall: 0.9474548440065681\n"
          ]
        }
      ]
    },
    {
      "cell_type": "markdown",
      "source": [
        "###Thoughts on Modifying Limited Max Depth\n",
        "\n",
        "Limiting the max depth helped prevent the tree from fitting to irrelevant features and our train/test accuracy now looks more reasonable. We want to be able to capture enough features so that we can apply our classification to a more general context, but not so many that we overfit.\n",
        "\n",
        "While there was no major change in Precision, Recall on the test set noticeably improved by about 4%. This less overfit model was less likely to 'miss' positive reviews in classification."
      ],
      "metadata": {
        "id": "ajlE3P04DaIB"
      }
    },
    {
      "cell_type": "markdown",
      "source": [
        "##Trying Min Samples Split\n",
        "\n",
        "We will try a smaller minimum count and a larger minimum count."
      ],
      "metadata": {
        "id": "hiVArqW_CmVZ"
      }
    },
    {
      "cell_type": "code",
      "source": [
        "#min_samples_split: The minimum number of samples required to split a node. \n",
        "#There exists a trade-off between smaller minimum count and a larger one. \n",
        "#Try finding out how this helps combat overfitting.\n",
        "#min_samples_split: int or float, default=2\n",
        "\n",
        "clf = tree.DecisionTreeClassifier(min_samples_split=5, random_state=86)\n",
        "start = time.time()\n",
        "clf = clf.fit(X_train, y_train)\n",
        "end = time.time()\n",
        "print(\"Time elapsed for Descision Tree fit: \" + str(end - start))"
      ],
      "metadata": {
        "colab": {
          "base_uri": "https://localhost:8080/"
        },
        "id": "YKEZGBs_6M5x",
        "outputId": "768b785e-3971-41a6-9d38-25c82696dd7d"
      },
      "execution_count": null,
      "outputs": [
        {
          "output_type": "stream",
          "name": "stdout",
          "text": [
            "Time elapsed for Descision Tree fit: 0.019168376922607422\n"
          ]
        }
      ]
    },
    {
      "cell_type": "code",
      "source": [
        "tree.plot_tree(clf)\n",
        "#plt.show to prevent excess chunks of text code\n",
        "plt.show()"
      ],
      "metadata": {
        "colab": {
          "base_uri": "https://localhost:8080/",
          "height": 248
        },
        "outputId": "07b8902f-7bfb-4bda-e2f2-0ca837a2fa91",
        "id": "V0Ppbn3Q6mD9"
      },
      "execution_count": null,
      "outputs": [
        {
          "output_type": "display_data",
          "data": {
            "text/plain": [
              "<Figure size 432x288 with 1 Axes>"
            ],
            "image/png": "[encoded data removed]"
          },
          "metadata": {
            "needs_background": "light"
          }
        }
      ]
    },
    {
      "cell_type": "code",
      "source": [
        "print(clf.tree_.max_depth)"
      ],
      "metadata": {
        "colab": {
          "base_uri": "https://localhost:8080/"
        },
        "id": "SC2GKriIex1R",
        "outputId": "ae54a6f6-6037-4959-90bf-37c921be7df9"
      },
      "execution_count": null,
      "outputs": [
        {
          "output_type": "stream",
          "name": "stdout",
          "text": [
            "16\n"
          ]
        }
      ]
    },
    {
      "cell_type": "code",
      "source": [
        "y_DesTree_train =clf.predict(X_train)\n",
        "y_DesTree_train = y_DesTree_train.reshape((y_DesTree_train.shape[0], 1))"
      ],
      "metadata": {
        "id": "0E61E9xJ6mD_"
      },
      "execution_count": null,
      "outputs": []
    },
    {
      "cell_type": "code",
      "source": [
        "acc_s = str(accuracy_score(y_train, y_DesTree_train))\n",
        "pre_s = str(precision_score(y_train, y_DesTree_train))\n",
        "rec_s = str(recall_score(y_train, y_DesTree_train))\n",
        "\n",
        "print(\"Train Accuracy: \" + acc_s )\n",
        "print(\"Train Precision: \" + pre_s )\n",
        "print(\"Train Recall: \" + rec_s )"
      ],
      "metadata": {
        "colab": {
          "base_uri": "https://localhost:8080/"
        },
        "id": "1OfRBgSCuSni",
        "outputId": "cda0a79f-d30c-447d-ba99-b48728505e79"
      },
      "execution_count": null,
      "outputs": [
        {
          "output_type": "stream",
          "name": "stdout",
          "text": [
            "Train Accuracy: 0.97978273989137\n",
            "Train Precision: 0.9895353704478862\n",
            "Train Recall: 0.9825436408977556\n"
          ]
        }
      ]
    },
    {
      "cell_type": "code",
      "source": [
        "y_DesTree_test =clf.predict(X_test)\n",
        "y_DesTree_test = y_DesTree_test.reshape((y_DesTree_test.shape[0], 1))"
      ],
      "metadata": {
        "id": "R09Nno3_6mEA"
      },
      "execution_count": null,
      "outputs": []
    },
    {
      "cell_type": "code",
      "source": [
        "acc_s = str(accuracy_score(y_test, y_DesTree_test))\n",
        "pre_s = str(precision_score(y_test, y_DesTree_test))\n",
        "rec_s = str(recall_score(y_test, y_DesTree_test))\n",
        "\n",
        "print(\"Test Accuracy: \" + acc_s )\n",
        "print(\"Test Precision: \" + pre_s )\n",
        "print(\"Test Recall: \" + rec_s )"
      ],
      "metadata": {
        "colab": {
          "base_uri": "https://localhost:8080/"
        },
        "outputId": "162f16ee-2f10-4b54-e054-bbe142403514",
        "id": "yeQWThV7uSnj"
      },
      "execution_count": null,
      "outputs": [
        {
          "output_type": "stream",
          "name": "stdout",
          "text": [
            "Test Accuracy: 0.8661037394451147\n",
            "Test Precision: 0.915\n",
            "Test Recall: 0.9014778325123153\n"
          ]
        }
      ]
    },
    {
      "cell_type": "code",
      "source": [
        "#min_samples_split: The minimum number of samples required to split a node. \n",
        "#There exists a trade-off between smaller minimum count and a larger one. \n",
        "#Try finding out how this helps combat overfitting.\n",
        "#min_samples_split: int or float, default=2\n",
        "\n",
        "clf = tree.DecisionTreeClassifier(min_samples_split=150, random_state=86) #cannot be 1.0\n",
        "start = time.time()\n",
        "clf = clf.fit(X_train, y_train)\n",
        "end = time.time()\n",
        "print(\"Time elapsed for Descision Tree fit: \" + str(end - start))"
      ],
      "metadata": {
        "colab": {
          "base_uri": "https://localhost:8080/"
        },
        "outputId": "e8e88c98-4800-4247-eff8-2e20ed39667e",
        "id": "o3os9t7R60BQ"
      },
      "execution_count": null,
      "outputs": [
        {
          "output_type": "stream",
          "name": "stdout",
          "text": [
            "Time elapsed for Descision Tree fit: 0.01703500747680664\n"
          ]
        }
      ]
    },
    {
      "cell_type": "code",
      "source": [
        "tree.plot_tree(clf)\n",
        "plt.show()"
      ],
      "metadata": {
        "colab": {
          "base_uri": "https://localhost:8080/",
          "height": 248
        },
        "outputId": "9437a595-6500-46af-8186-5261f05e1e6b",
        "id": "lHgcJW6E60BU"
      },
      "execution_count": null,
      "outputs": [
        {
          "output_type": "display_data",
          "data": {
            "text/plain": [
              "<Figure size 432x288 with 1 Axes>"
            ],
            "image/png": "[encoded data removed]"
          },
          "metadata": {
            "needs_background": "light"
          }
        }
      ]
    },
    {
      "cell_type": "code",
      "source": [
        "print(clf.tree_.max_depth)"
      ],
      "metadata": {
        "colab": {
          "base_uri": "https://localhost:8080/"
        },
        "id": "p_No3E-ffLdg",
        "outputId": "2f8bcb71-a7d5-444b-9441-942936561657"
      },
      "execution_count": null,
      "outputs": [
        {
          "output_type": "stream",
          "name": "stdout",
          "text": [
            "10\n"
          ]
        }
      ]
    },
    {
      "cell_type": "code",
      "source": [
        "y_DesTree_train =clf.predict(X_train)\n",
        "y_DesTree_train = y_DesTree_train.reshape((y_DesTree_train.shape[0], 1))"
      ],
      "metadata": {
        "id": "NdJvX1uz60BW"
      },
      "execution_count": null,
      "outputs": []
    },
    {
      "cell_type": "code",
      "source": [
        "acc_s = str(accuracy_score(y_train, y_DesTree_train))\n",
        "pre_s = str(precision_score(y_train, y_DesTree_train))\n",
        "rec_s = str(recall_score(y_train, y_DesTree_train))\n",
        "\n",
        "print(\"Train Accuracy: \" + acc_s )\n",
        "print(\"Train Precision: \" + pre_s )\n",
        "print(\"Train Recall: \" + rec_s )"
      ],
      "metadata": {
        "colab": {
          "base_uri": "https://localhost:8080/"
        },
        "id": "yd9NqSANuaYO",
        "outputId": "4c416d4a-136c-49b6-8965-2eb84268bd5a"
      },
      "execution_count": null,
      "outputs": [
        {
          "output_type": "stream",
          "name": "stdout",
          "text": [
            "Train Accuracy: 0.8777911888955945\n",
            "Train Precision: 0.9255635899617184\n",
            "Train Recall: 0.9044056525353283\n"
          ]
        }
      ]
    },
    {
      "cell_type": "code",
      "source": [
        "y_DesTree_test =clf.predict(X_test)\n",
        "y_DesTree_test = y_DesTree_test.reshape((y_DesTree_test.shape[0], 1))"
      ],
      "metadata": {
        "id": "mQ1tblmB60BY"
      },
      "execution_count": null,
      "outputs": []
    },
    {
      "cell_type": "code",
      "source": [
        "acc_s = str(accuracy_score(y_test, y_DesTree_test))\n",
        "pre_s = str(precision_score(y_test, y_DesTree_test))\n",
        "rec_s = str(recall_score(y_test, y_DesTree_test))\n",
        "\n",
        "print(\"Test Accuracy: \" + acc_s )\n",
        "print(\"Test Precision: \" + pre_s )\n",
        "print(\"Test Recall: \" + rec_s )"
      ],
      "metadata": {
        "colab": {
          "base_uri": "https://localhost:8080/"
        },
        "outputId": "6601a506-c010-4b5b-affd-f75bef3b0a80",
        "id": "taioQ_9uuaYQ"
      },
      "execution_count": null,
      "outputs": [
        {
          "output_type": "stream",
          "name": "stdout",
          "text": [
            "Test Accuracy: 0.8709288299155609\n",
            "Test Precision: 0.919732441471572\n",
            "Test Recall: 0.90311986863711\n"
          ]
        }
      ]
    },
    {
      "cell_type": "code",
      "source": [
        "#min_samples_split: The minimum number of samples required to split a node. \n",
        "#There exists a trade-off between smaller minimum count and a larger one. \n",
        "#Try finding out how this helps combat overfitting.\n",
        "#min_samples_split: int or float, default=2\n",
        "\n",
        "clf = tree.DecisionTreeClassifier(min_samples_split=500) #cannot be 1.0\n",
        "start = time.time()\n",
        "clf = clf.fit(X_train, y_train)\n",
        "end = time.time()\n",
        "print(\"Time elapsed for Descision Tree fit: \" + str(end - start))"
      ],
      "metadata": {
        "colab": {
          "base_uri": "https://localhost:8080/"
        },
        "outputId": "256a8d18-80d7-4864-c633-4be15e35c433",
        "id": "qeaVYT747jrt"
      },
      "execution_count": null,
      "outputs": [
        {
          "output_type": "stream",
          "name": "stdout",
          "text": [
            "Time elapsed for Descision Tree fit: 0.013990640640258789\n"
          ]
        }
      ]
    },
    {
      "cell_type": "code",
      "source": [
        "tree.plot_tree(clf)\n",
        "plt.show()"
      ],
      "metadata": {
        "colab": {
          "base_uri": "https://localhost:8080/",
          "height": 248
        },
        "outputId": "706d27f5-2548-4759-eb7b-61be77959980",
        "id": "WHqYC_6K7jrw"
      },
      "execution_count": null,
      "outputs": [
        {
          "output_type": "display_data",
          "data": {
            "text/plain": [
              "<Figure size 432x288 with 1 Axes>"
            ],
            "image/png": "[encoded data removed]"
          },
          "metadata": {
            "needs_background": "light"
          }
        }
      ]
    },
    {
      "cell_type": "code",
      "source": [
        "print(clf.tree_.max_depth)"
      ],
      "metadata": {
        "colab": {
          "base_uri": "https://localhost:8080/"
        },
        "id": "yZpJ35PofRm5",
        "outputId": "4bb31562-4ea1-42f8-dcae-ae7aee9c015d"
      },
      "execution_count": null,
      "outputs": [
        {
          "output_type": "stream",
          "name": "stdout",
          "text": [
            "6\n"
          ]
        }
      ]
    },
    {
      "cell_type": "code",
      "source": [
        "y_DesTree_train =clf.predict(X_train)\n",
        "y_DesTree_train = y_DesTree_train.reshape((y_DesTree_train.shape[0], 1))"
      ],
      "metadata": {
        "id": "iDqNoYgx7jrz"
      },
      "execution_count": null,
      "outputs": []
    },
    {
      "cell_type": "code",
      "source": [
        "acc_s = str(accuracy_score(y_train, y_DesTree_train))\n",
        "pre_s = str(precision_score(y_train, y_DesTree_train))\n",
        "rec_s = str(recall_score(y_train, y_DesTree_train))\n",
        "\n",
        "print(\"Train Accuracy: \" + acc_s )\n",
        "print(\"Train Precision: \" + pre_s )\n",
        "print(\"Train Recall: \" + rec_s )"
      ],
      "metadata": {
        "colab": {
          "base_uri": "https://localhost:8080/"
        },
        "id": "O5nr72xXufWX",
        "outputId": "0ddc38c8-1871-46b7-acd2-ec172cb4bd0b"
      },
      "execution_count": null,
      "outputs": [
        {
          "output_type": "stream",
          "name": "stdout",
          "text": [
            "Train Accuracy: 0.851840675920338\n",
            "Train Precision: 0.8571428571428571\n",
            "Train Recall: 0.9551122194513716\n"
          ]
        }
      ]
    },
    {
      "cell_type": "code",
      "source": [
        "y_DesTree_test =clf.predict(X_test)\n",
        "y_DesTree_test = y_DesTree_test.reshape((y_DesTree_test.shape[0], 1))"
      ],
      "metadata": {
        "id": "f8SW4K_K7jr0"
      },
      "execution_count": null,
      "outputs": []
    },
    {
      "cell_type": "code",
      "source": [
        "acc_s = str(accuracy_score(y_test, y_DesTree_test))\n",
        "pre_s = str(precision_score(y_test, y_DesTree_test))\n",
        "rec_s = str(recall_score(y_test, y_DesTree_test))\n",
        "\n",
        "print(\"Test Accuracy: \" + acc_s )\n",
        "print(\"Test Precision: \" + pre_s )\n",
        "print(\"Test Recall: \" + rec_s )"
      ],
      "metadata": {
        "colab": {
          "base_uri": "https://localhost:8080/"
        },
        "outputId": "c17ce019-14fb-4f0e-8266-e2172b9ce2ea",
        "id": "rl3CPFYtufWY"
      },
      "execution_count": null,
      "outputs": [
        {
          "output_type": "stream",
          "name": "stdout",
          "text": [
            "Test Accuracy: 0.8516284680337757\n",
            "Test Precision: 0.8616071428571429\n",
            "Test Recall: 0.9507389162561576\n"
          ]
        }
      ]
    },
    {
      "cell_type": "markdown",
      "source": [
        "###Thoughts on modifying Input Parameter Split\n",
        "\n",
        "By limiting the number of samples required to create a split in the classifier, we effectively limit the depth of the tree. We can observe that while we reduced overfitting, we also reduced accuracy and precision, so the tradeoff of min samples split is that the more we use it to combat overfitting, the less accurate our model will be because it will stop creating splits after a certain threshold.\n",
        "\n",
        "It is worth noting that if we set the min_samples_split parameters too large (i.e. splits will stop much earlier in the creation of the tree as the min sample limit is hit), accuracy and precision would actually start to worsen even if recall continued to improve. We don't want to just mitigate False Negatives, we also want to correctly identify negative reviews and minimze mistaken positive reviews (because we are judging the patient's assesment of a drug!) so the ``min_samples_split=500`` example shows why we may want to consider different metrics when assessing a model."
      ],
      "metadata": {
        "id": "-ptM51d9CrCC"
      }
    },
    {
      "cell_type": "markdown",
      "source": [
        "#Task 2 - Bag and Boost (w/KFold Cross Val)"
      ],
      "metadata": {
        "id": "8OrxOK1MCIDy"
      }
    },
    {
      "cell_type": "markdown",
      "source": [
        "##Bagging - Random Forest"
      ],
      "metadata": {
        "id": "zKLTz2b_GCq-"
      }
    },
    {
      "cell_type": "code",
      "source": [
        "from numpy import mean\n",
        "from numpy import std\n",
        "from sklearn.model_selection import cross_val_score\n",
        "from sklearn.model_selection import StratifiedKFold\n",
        "from sklearn.model_selection import RepeatedStratifiedKFold\n",
        "from sklearn.ensemble import RandomForestClassifier"
      ],
      "metadata": {
        "id": "U_NA5l1XGD-N"
      },
      "execution_count": null,
      "outputs": []
    },
    {
      "cell_type": "code",
      "source": [
        "#create the random forest classifier\n",
        "clf = RandomForestClassifier(random_state=86)"
      ],
      "metadata": {
        "id": "Vp00xaenIKE5"
      },
      "execution_count": null,
      "outputs": []
    },
    {
      "cell_type": "code",
      "source": [
        "#Proof of convergence\n",
        "#printing multiple times in diff states to show minimal variation in stratified kfold\n",
        "#KFold\n",
        "# evaluate the model\n",
        "for i in range(86, 92):\n",
        "  cv = RepeatedStratifiedKFold(n_splits=10, n_repeats=3, random_state=i)\n",
        "  #same-state allows us to redo cross val score for a diff metric\n",
        "  #Accuracy\n",
        "  n_scores = cross_val_score(clf, X_train, y_train, scoring='accuracy', cv=cv, n_jobs=-1, error_score='raise')\n",
        "  # report performance\n",
        "  print('State %d Accuracy: %.3f (%.3f)' % (i, mean(n_scores), std(n_scores)))\n",
        "\n",
        "  #Precision\n",
        "  n_scores_P = cross_val_score(clf, X_train, y_train, scoring='precision', cv=cv, n_jobs=-1, error_score='raise')\n",
        "  # report performance\n",
        "  print('State %d Precision: %.3f (%.3f)' % (i, mean(n_scores_P), std(n_scores_P)))\n",
        "\n",
        "  #Recall\n",
        "  n_scores_P = cross_val_score(clf, X_train, y_train, scoring='recall', cv=cv, n_jobs=-1, error_score='raise')\n",
        "  # report performance\n",
        "  print('State %d Precision: %.3f (%.3f)' % (i, mean(n_scores_P), std(n_scores_P)))\n",
        "  print(\"========\")"
      ],
      "metadata": {
        "id": "pe0Da3SoMPdt",
        "colab": {
          "base_uri": "https://localhost:8080/"
        },
        "outputId": "bf1ffb63-67a3-4f2a-bec9-d8a6694be31e"
      },
      "execution_count": null,
      "outputs": [
        {
          "output_type": "stream",
          "name": "stdout",
          "text": [
            "State 86 Accuracy: 0.888 (0.017)\n",
            "State 86 Precision: 0.905 (0.014)\n",
            "State 86 Precision: 0.945 (0.013)\n",
            "========\n",
            "State 87 Accuracy: 0.887 (0.014)\n",
            "State 87 Precision: 0.905 (0.013)\n",
            "State 87 Precision: 0.943 (0.013)\n",
            "========\n",
            "State 88 Accuracy: 0.889 (0.014)\n",
            "State 88 Precision: 0.907 (0.012)\n",
            "State 88 Precision: 0.944 (0.014)\n",
            "========\n",
            "State 89 Accuracy: 0.888 (0.015)\n",
            "State 89 Precision: 0.906 (0.015)\n",
            "State 89 Precision: 0.944 (0.015)\n",
            "========\n",
            "State 90 Accuracy: 0.888 (0.015)\n",
            "State 90 Precision: 0.907 (0.013)\n",
            "State 90 Precision: 0.943 (0.015)\n",
            "========\n",
            "State 91 Accuracy: 0.887 (0.012)\n",
            "State 91 Precision: 0.906 (0.016)\n",
            "State 91 Precision: 0.943 (0.013)\n",
            "========\n"
          ]
        }
      ]
    },
    {
      "cell_type": "code",
      "source": [
        "#perform the final fit\n",
        "clf.fit(X_train, y_train)\n",
        "y_Bag_train = clf.predict(X_train)\n",
        "y_Bag_train = y_Bag_train.reshape((y_Bag_train.shape[0], 1))\n",
        "print(y_Bag_train.shape)"
      ],
      "metadata": {
        "id": "2kgcOt00Lz1K",
        "colab": {
          "base_uri": "https://localhost:8080/"
        },
        "outputId": "31e58dbe-167c-4274-fe87-b1f326705864"
      },
      "execution_count": null,
      "outputs": [
        {
          "output_type": "stream",
          "name": "stdout",
          "text": [
            "(3314, 1)\n"
          ]
        }
      ]
    },
    {
      "cell_type": "code",
      "source": [
        "acc_s = str(accuracy_score(y_train, y_Bag_train))\n",
        "pre_s = str(precision_score(y_train, y_Bag_train))\n",
        "rec_s = str(recall_score(y_train, y_Bag_train))\n",
        "\n",
        "print(\"Train Accuracy: \" + acc_s )\n",
        "print(\"Train Precision: \" + pre_s )\n",
        "print(\"Train Recall: \" + rec_s )\n"
      ],
      "metadata": {
        "colab": {
          "base_uri": "https://localhost:8080/"
        },
        "id": "UI8IH7NE5WHr",
        "outputId": "e752ca32-cb64-4d04-a7f6-2ab3b8e3f8e9"
      },
      "execution_count": null,
      "outputs": [
        {
          "output_type": "stream",
          "name": "stdout",
          "text": [
            "Train Accuracy: 1.0\n",
            "Train Precision: 1.0\n",
            "Train Recall: 1.0\n"
          ]
        }
      ]
    },
    {
      "cell_type": "code",
      "source": [
        "y_Bag_test = clf.predict(X_test)\n",
        "y_Bag_test = y_Bag_test.reshape((y_Bag_test.shape[0], 1))\n",
        "print(y_Bag_test.shape)"
      ],
      "metadata": {
        "colab": {
          "base_uri": "https://localhost:8080/"
        },
        "id": "dk-9CnrI5soV",
        "outputId": "e01c4bf1-7d3b-4b86-db35-0316a3182a94"
      },
      "execution_count": null,
      "outputs": [
        {
          "output_type": "stream",
          "name": "stdout",
          "text": [
            "(829, 1)\n"
          ]
        }
      ]
    },
    {
      "cell_type": "code",
      "source": [
        "acc_s = str(accuracy_score(y_test, y_Bag_test))\n",
        "pre_s = str(precision_score(y_test, y_Bag_test))\n",
        "rec_s = str(recall_score(y_test, y_Bag_test))\n",
        "\n",
        "print(\"Test Accuracy: \" + acc_s )\n",
        "print(\"Test Precision: \" + pre_s )\n",
        "print(\"Test Recall: \" + rec_s )"
      ],
      "metadata": {
        "colab": {
          "base_uri": "https://localhost:8080/"
        },
        "id": "0tvLCvoD5zl2",
        "outputId": "ae1b9d85-ecb9-4e8b-ee9a-67d097a87447"
      },
      "execution_count": null,
      "outputs": [
        {
          "output_type": "stream",
          "name": "stdout",
          "text": [
            "Test Accuracy: 0.8998793727382388\n",
            "Test Precision: 0.9174603174603174\n",
            "Test Recall: 0.9490968801313628\n"
          ]
        }
      ]
    },
    {
      "cell_type": "markdown",
      "source": [
        "##Boosting - Adaboost"
      ],
      "metadata": {
        "id": "dBMM0j4ROxWk"
      }
    },
    {
      "cell_type": "code",
      "source": [
        "from sklearn.ensemble import AdaBoostClassifier\n",
        "clf = AdaBoostClassifier(n_estimators=4, random_state=86, algorithm='SAMME')"
      ],
      "metadata": {
        "id": "WEUlPnImaNIs"
      },
      "execution_count": null,
      "outputs": []
    },
    {
      "cell_type": "code",
      "source": [
        "#Proof of convergence\n",
        "#printing multiple times in diff states to show minimal variation in stratified kfold\n",
        "#KFold\n",
        "# evaluate the model\n",
        "for i in range(86, 92):\n",
        "  cv = RepeatedStratifiedKFold(n_splits=10, n_repeats=3, random_state=i)\n",
        "  #same-state allows us to redo cross val score for a diff metric\n",
        "  #Accuracy\n",
        "  n_scores = cross_val_score(clf, X_train, y_train, scoring='accuracy', cv=cv, n_jobs=-1, error_score='raise')\n",
        "  # report performance\n",
        "  print('State %d Accuracy: %.3f (%.3f)' % (i, mean(n_scores), std(n_scores)))\n",
        "\n",
        "  #Precision\n",
        "  n_scores_P = cross_val_score(clf, X_train, y_train, scoring='precision', cv=cv, n_jobs=-1, error_score='raise')\n",
        "  # report performance\n",
        "  print('State %d Precision: %.3f (%.3f)' % (i, mean(n_scores_P), std(n_scores_P)))\n",
        "\n",
        "  #Recall\n",
        "  n_scores_P = cross_val_score(clf, X_train, y_train, scoring='recall', cv=cv, n_jobs=-1, error_score='raise')\n",
        "  # report performance\n",
        "  print('State %d Precision: %.3f (%.3f)' % (i, mean(n_scores_P), std(n_scores_P)))\n",
        "  print(\"========\")"
      ],
      "metadata": {
        "id": "OV5fUuGYymQp",
        "colab": {
          "base_uri": "https://localhost:8080/"
        },
        "outputId": "0cdee679-84ad-4193-c832-f04afd86a60c"
      },
      "execution_count": null,
      "outputs": [
        {
          "output_type": "stream",
          "name": "stdout",
          "text": [
            "State 86 Accuracy: 0.785 (0.023)\n",
            "State 86 Precision: 0.819 (0.016)\n",
            "State 86 Precision: 0.903 (0.022)\n",
            "========\n",
            "State 87 Accuracy: 0.787 (0.017)\n",
            "State 87 Precision: 0.822 (0.015)\n",
            "State 87 Precision: 0.903 (0.016)\n",
            "========\n",
            "State 88 Accuracy: 0.788 (0.018)\n",
            "State 88 Precision: 0.823 (0.015)\n",
            "State 88 Precision: 0.902 (0.018)\n",
            "========\n",
            "State 89 Accuracy: 0.786 (0.019)\n",
            "State 89 Precision: 0.820 (0.013)\n",
            "State 89 Precision: 0.903 (0.018)\n",
            "========\n",
            "State 90 Accuracy: 0.789 (0.019)\n",
            "State 90 Precision: 0.824 (0.014)\n",
            "State 90 Precision: 0.901 (0.024)\n",
            "========\n",
            "State 91 Accuracy: 0.786 (0.018)\n",
            "State 91 Precision: 0.821 (0.014)\n",
            "State 91 Precision: 0.903 (0.020)\n",
            "========\n"
          ]
        }
      ]
    },
    {
      "cell_type": "code",
      "source": [
        "#perform the final fit\n",
        "clf.fit(X_train, y_train)\n",
        "y_Boost_train = clf.predict(X_train)\n",
        "y_Boost_train = y_Boost_train.reshape((y_Boost_train.shape[0], 1))\n",
        "print(y_Boost_train.shape)"
      ],
      "metadata": {
        "id": "TYYykuOYyo0o",
        "colab": {
          "base_uri": "https://localhost:8080/"
        },
        "outputId": "10166713-75a3-4567-a903-7c7b7aead098"
      },
      "execution_count": null,
      "outputs": [
        {
          "output_type": "stream",
          "name": "stdout",
          "text": [
            "(3314, 1)\n"
          ]
        }
      ]
    },
    {
      "cell_type": "code",
      "source": [
        "acc_s = str(accuracy_score(y_train, y_Boost_train))\n",
        "pre_s = str(precision_score(y_train, y_Boost_train))\n",
        "rec_s = str(recall_score(y_train, y_Boost_train))\n",
        "\n",
        "print(\"Train Accuracy: \" + acc_s )\n",
        "print(\"Train Precision: \" + pre_s )\n",
        "print(\"Train Recall: \" + rec_s )\n",
        "\n"
      ],
      "metadata": {
        "colab": {
          "base_uri": "https://localhost:8080/"
        },
        "outputId": "ed7e79c8-c713-4b49-f4e6-b0f8d5b390b7",
        "id": "qktGoHyI7_C9"
      },
      "execution_count": null,
      "outputs": [
        {
          "output_type": "stream",
          "name": "stdout",
          "text": [
            "Train Accuracy: 0.7866626433313216\n",
            "Train Precision: 0.8206870517176293\n",
            "Train Recall: 0.9035743973399833\n"
          ]
        }
      ]
    },
    {
      "cell_type": "code",
      "source": [
        "y_Boost_test = clf.predict(X_test)\n",
        "y_Boost_test = y_Boost_test.reshape((y_Boost_test.shape[0], 1))\n",
        "print(y_Boost_test.shape)"
      ],
      "metadata": {
        "colab": {
          "base_uri": "https://localhost:8080/"
        },
        "outputId": "e176d781-b4a6-44d2-da81-ea8bce6bef96",
        "id": "ejzheTWA7_C_"
      },
      "execution_count": null,
      "outputs": [
        {
          "output_type": "stream",
          "name": "stdout",
          "text": [
            "(829, 1)\n"
          ]
        }
      ]
    },
    {
      "cell_type": "code",
      "source": [
        "accuracy_score(y_test, y_Boost_test)\n",
        "acc_s = str(accuracy_score(y_test, y_DesTree_test))\n",
        "pre_s = str(precision_score(y_test, y_DesTree_test))\n",
        "rec_s = str(recall_score(y_test, y_DesTree_test))\n",
        "\n",
        "print(\"Test Accuracy: \" + acc_s )\n",
        "print(\"Test Precision: \" + pre_s )\n",
        "print(\"Test Recall: \" + rec_s )"
      ],
      "metadata": {
        "colab": {
          "base_uri": "https://localhost:8080/"
        },
        "outputId": "1610fa34-5fab-4e54-dfd6-fba80237c370",
        "id": "rzuaJb8k7_DB"
      },
      "execution_count": null,
      "outputs": [
        {
          "output_type": "stream",
          "name": "stdout",
          "text": [
            "Test Accuracy: 0.8516284680337757\n",
            "Test Precision: 0.8616071428571429\n",
            "Test Recall: 0.9507389162561576\n"
          ]
        }
      ]
    },
    {
      "cell_type": "markdown",
      "source": [
        "#Thoughts on Bagging and Boosting\n",
        "\n",
        "Our instances in which we used validation demonstrated that Random Forest and AdaBoost would both be suitable algorithms to handle classifying our drug review data. [However, validation only assesses training data and cannot tell us if we are overfitting or underfitting data.](https://towardsdatascience.com/cross-validation-in-machine-learning-72924a69872f) We witness why this is a problem in in this section.\n",
        "\n",
        "Unfortunately, when used in practice the Random Forest classifier suffered overfitting. What likely happened is that because our dataset is extremely imbalanced in favor of positive results, the trees in the algorithm overfit in a manner similar to the tree in the \"Basic Descision Tree\" section of Task 1 - making a large tree based on features specific to the train dataset. \n",
        "\n",
        "We've seen over the course of investigating this problem that there is a noticeable difference in Recall when we use more succesful model configurations, i.e. misclassified false negatives are a recurring problem in the dataset. The use of weakness to combat mis-classified data points was successful in producing high accuracy/prediction/recall values without overfitting comparable to our Min Samples Split."
      ],
      "metadata": {
        "id": "gsTBezaeEGKw"
      }
    },
    {
      "cell_type": "markdown",
      "source": [
        "# Task 3 - Comparisons and Metrics\n"
      ],
      "metadata": {
        "id": "sxYnVlBwO2YU"
      }
    },
    {
      "cell_type": "markdown",
      "source": [
        "\n",
        "###What Metric was chosen to try and evaluate the three algorithms? What other Metric could we have chosen?\n",
        "\n",
        "We reused Accuracy in the interest of observing how the chosen algorithms compared to our approach in Homework 1. A substantial improvement in accuracy was observed when using Descision Trees baesed methods, demonstrating around 80-90% test accuracy in meaningful results  as opposed to gradient descent having accuracy values between 50-70%. \n",
        "\n",
        "\n",
        "Our data isn't inherently balanced and has a heavy skew towards reviews with positive responses, so accuracy might miss out on the existence of false positives (which in a practical scenario would mean the the model incorrectly identified a negative patient reaction to a drug as a positive one.) With this in mind, precision was selected as an alternative metric. \n",
        "\n",
        "\n",
        "###How Suitable was the Metric? Proof of how this other Metric impacts the results\n",
        "\n",
        "Precision did not vary meaningfully with our use of different methods- as far as we could tell, the different descision tree methods were still performing similarly in terms of dealing with false positives. \n",
        "Recall was added as an additional metric to help determine if there was any difference in terms of how many false negatives were being identified, i.e. if there were any positive reactions to drugs that were being incorrectly identified as negatives. Here we were able to observe that measures to combat overfitting on the dataset generally resulted in increase of notceable increase recall, likely due to positive reviews in the test dataset having combinations of ratings and review length that were not present in the train dataset. At the same time restricting the model's complexity too much could start to lower the overall accuracy and precision even while the recall increased. So evaluating purely by recall would likely have led us to models that underfit. This shows that it is important to check a model's perfomance via multiple metrics.\n",
        "\n"
      ],
      "metadata": {
        "id": "pCBzVD5yBeko"
      }
    }
  ]
}